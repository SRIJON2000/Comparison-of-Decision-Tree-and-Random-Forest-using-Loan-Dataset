{
 "cells": [
  {
   "cell_type": "markdown",
   "metadata": {},
   "source": [
    "In this notebook, I have trained a machine learning model to predict potential loan defaulters.\n",
    "\n",
    "1. Data Prepocessing\n",
    "2. Training ML Model\n",
    "3. Evaluating Model on Test Data\n",
    "4. Learning Cuvre and Scope for Improvement"
   ]
  },
  {
   "cell_type": "markdown",
   "metadata": {},
   "source": [
    "## Imports and Functions"
   ]
  },
  {
   "cell_type": "code",
   "execution_count": 1,
   "metadata": {
    "ExecuteTime": {
     "end_time": "2019-01-26T14:17:23.626113Z",
     "start_time": "2019-01-26T14:17:22.542966Z"
    }
   },
   "outputs": [],
   "source": [
    "import numpy as np\n",
    "import pandas as pd\n",
    "import matplotlib.pyplot as plt\n",
    "import seaborn as sns\n",
    "from scipy.special import boxcox1p     \n",
    "import joblib\n",
    "%matplotlib inline\n",
    "import warnings\n",
    "warnings.filterwarnings('ignore')\n",
    "\n",
    "# Importing custom classes and functions\n",
    "from lending_club.data_cleaning import *"
   ]
  },
  {
   "cell_type": "code",
   "execution_count": 2,
   "metadata": {
    "ExecuteTime": {
     "end_time": "2019-01-26T14:17:24.305297Z",
     "start_time": "2019-01-26T14:17:23.628062Z"
    }
   },
   "outputs": [],
   "source": [
    "from sklearn.preprocessing import StandardScaler\n",
    "from sklearn.linear_model import LogisticRegression\n",
    "from sklearn.ensemble import RandomForestClassifier\n",
    "from xgboost import XGBClassifier\n",
    "from lightgbm import LGBMClassifier\n",
    "from sklearn.metrics import roc_auc_score,confusion_matrix,classification_report\n",
    "from sklearn.model_selection import learning_curve,StratifiedKFold"
   ]
  },
  {
   "cell_type": "code",
   "execution_count": 3,
   "metadata": {
    "ExecuteTime": {
     "end_time": "2019-01-26T14:17:24.314227Z",
     "start_time": "2019-01-26T14:17:24.307246Z"
    }
   },
   "outputs": [],
   "source": [
    "def create_performance_chart(data,y_pred,y_test):\n",
    "    picked=data.loc[y_pred==0]\n",
    "    grades=['A','B','C','D','E','F','G']\n",
    "    tmp=pd.DataFrame(columns=['ROI','% Picked','% Default'],index=grades)\n",
    "    for g in grades:\n",
    "        grade_picked=picked[picked['grade']==g]\n",
    "        if len(grade_picked.index)==0:\n",
    "            roi=None\n",
    "            default_rate=None\n",
    "            perc_picked=0\n",
    "        else:\n",
    "            num_picked=len(grade_picked.index)\n",
    "            num_total=len(data[data['grade']==g].index)\n",
    "            roi=sum(grade_picked['total_pymnt'])/sum(grade_picked['funded_amnt'])-1\n",
    "            l=y_test[list(grade_picked.index)]\n",
    "            default_rate=100*len(l[l==1])/len(l)\n",
    "            perc_picked=100*num_picked/num_total\n",
    "\n",
    "        tmp.loc[g,'% Picked']=perc_picked\n",
    "        tmp.loc[g,'ROI']=roi\n",
    "        tmp.loc[g,'% Default']=default_rate\n",
    "    return tmp"
   ]
  },
  {
   "cell_type": "markdown",
   "metadata": {},
   "source": [
    "## Data Preprocessing\n",
    "\n",
    "* Selected only Fully Paid and Defaulted loans for training model.\n",
    "* Train-Test Split\n",
    "* Created a pipeline for data preprocessing. See 'Data Cleaning' notebook for detailed approach.\n",
    "* Standard Scaling\n",
    "* Over-Sampling using SMOTE : I have not used this in final model, as ML models I have used consider class imbalance.\n",
    "* I have not removed features with high VIF, as model is uderfitting and performing well after including these features."
   ]
  },
  {
   "cell_type": "code",
   "execution_count": 4,
   "metadata": {
    "ExecuteTime": {
     "end_time": "2019-01-26T14:17:35.446814Z",
     "start_time": "2019-01-26T14:17:24.317219Z"
    }
   },
   "outputs": [],
   "source": [
    "data=pd.read_csv('loan.csv')\n",
    "\n",
    "# Select only default or paid loans. Ignore current loans\n",
    "default=['Charged Off','Late (31-120 days)','Default',\n",
    "             'Does not meet the credit policy. Status:Charged Off','Late (16-30 days)',\n",
    "                 'In Grace Period']\n",
    "paid=['Fully Paid',\n",
    "              'Does not meet the credit policy. Status:Fully Paid']\n",
    "\n",
    "data['loan_status']=data['loan_status'].apply(lambda x: 'Default' if x in default else x)\n",
    "data['loan_status']=data['loan_status'].apply(lambda x: 'Fully Paid' if x in paid else x)\n",
    "data=data[(data['loan_status']=='Default') | (data['loan_status']=='Fully Paid')]\n",
    "y=data['loan_status'].apply(lambda x: 1 if x=='Default' else 0)\n",
    "data.drop('loan_status',axis=1,inplace=True)"
   ]
  },
  {
   "cell_type": "code",
   "execution_count": 5,
   "metadata": {
    "ExecuteTime": {
     "end_time": "2019-01-26T14:17:35.799915Z",
     "start_time": "2019-01-26T14:17:35.448764Z"
    },
    "code_folding": []
   },
   "outputs": [],
   "source": [
    "# Train-Test Split (Stratified)\n",
    "\n",
    "from sklearn.model_selection import train_test_split\n",
    "X_train, X_test, y_train, y_test = train_test_split(data, y, test_size=0.2, stratify=y,random_state=42)"
   ]
  },
  {
   "cell_type": "code",
   "execution_count": 6,
   "metadata": {
    "ExecuteTime": {
     "end_time": "2019-01-26T14:17:35.808895Z",
     "start_time": "2019-01-26T14:17:35.800915Z"
    },
    "code_folding": [
     0
    ]
   },
   "outputs": [],
   "source": [
    "# Creating pipeline for data preprocessing\n",
    "\n",
    "selected_featues=['loan_amnt', 'term', 'int_rate',\n",
    "                  'grade',#'sub_grade',\n",
    "       'emp_length', 'home_ownership', 'annual_inc', 'verification_status','issue_d', \n",
    "        'purpose', 'addr_state', 'dti',\n",
    "       'delinq_2yrs', 'earliest_cr_line', 'inq_last_6mths', 'open_acc',\n",
    "       'pub_rec', 'revol_bal', 'revol_util', 'total_acc',\n",
    "       'acc_now_delinq', 'tot_coll_amt', 'tot_cur_bal', 'total_rev_hi_lim']\n",
    "\n",
    "num_features= ['loan_amnt', 'int_rate', 'emp_length','annual_inc',\n",
    "       'dti','delinq_2yrs','inq_last_6mths','revol_bal', 'revol_util',\n",
    "       'total_acc','open_acc','pub_rec','acc_now_delinq','tot_coll_amt', 'tot_cur_bal', 'total_rev_hi_lim']\n",
    "\n",
    "dummy_cols=['term','grade','home_ownership','verification_status','purpose']\n",
    "\n",
    "states_to_keep=['FL','NY','LA','NV','IN','CA','IL','GA','TX']\n",
    "\n",
    "features_to_scale=['loan_amnt', 'int_rate', 'emp_length', 'annual_inc',\n",
    "       'dti', 'delinq_2yrs', 'earliest_cr_line',\n",
    "       'inq_last_6mths', 'open_acc', 'pub_rec', 'revol_bal', 'revol_util',\n",
    "       'total_acc', 'acc_now_delinq', 'tot_coll_amt', 'tot_cur_bal',\n",
    "       'total_rev_hi_lim']\n",
    "\n",
    "pipeline=Pipeline([\n",
    "    ('selector',DataFrameSelector(selected_featues)),\n",
    "    ('misc_fe',Misc_Feature_Engineering()),\n",
    "    ('total_rev_hi_lim_Imp',total_rev_hi_lim_Imputer()),\n",
    "    ('median_imp',Median_Imputer(num_features)),\n",
    "    ('dummy_vars',Dummy_Variables(states_to_keep=states_to_keep,cat_cols=dummy_cols)),\n",
    "    ('tranform_features',Transform_Skewed_Features())\n",
    "])"
   ]
  },
  {
   "cell_type": "code",
   "execution_count": 7,
   "metadata": {
    "ExecuteTime": {
     "end_time": "2019-01-26T14:17:53.225446Z",
     "start_time": "2019-01-26T14:17:35.810888Z"
    },
    "code_folding": [
     0
    ],
    "scrolled": true
   },
   "outputs": [],
   "source": [
    "X_train=pipeline.fit_transform(X_train)"
   ]
  },
  {
   "cell_type": "code",
   "execution_count": 8,
   "metadata": {
    "ExecuteTime": {
     "end_time": "2019-01-26T14:17:53.867732Z",
     "start_time": "2019-01-26T14:17:53.228411Z"
    }
   },
   "outputs": [],
   "source": [
    "# Scaling\n",
    "scaler=StandardScaler()\n",
    "X_train[features_to_scale]=scaler.fit_transform(X_train[features_to_scale])"
   ]
  },
  {
   "cell_type": "code",
   "execution_count": 9,
   "metadata": {
    "ExecuteTime": {
     "end_time": "2019-01-26T14:17:53.873693Z",
     "start_time": "2019-01-26T14:17:53.869694Z"
    },
    "code_folding": [
     0
    ]
   },
   "outputs": [],
   "source": [
    "# Over-sampling\n",
    "# columns=X_train.columns\n",
    "# from imblearn.over_sampling import SMOTE\n",
    "# smt=SMOTE(random_state=51,n_jobs=-1)\n",
    "# X_train,y_train=smt.fit_sample(X_train,y_train)\n",
    "# X_train=pd.DataFrame(X_train,columns=columns)"
   ]
  },
  {
   "cell_type": "code",
   "execution_count": null,
   "metadata": {},
   "outputs": [],
   "source": []
  },
  {
   "cell_type": "markdown",
   "metadata": {},
   "source": [
    "## Training Model\n",
    "\n",
    "Models:\n",
    "1. Logistic Regression\n",
    "2. Random Forest\n",
    "3. LightGBM\n",
    "\n",
    "Final Model:\n",
    "* Hard voting of above three models (Defaulter if all three models predict as defaulter)"
   ]
  },
  {
   "cell_type": "code",
   "execution_count": 10,
   "metadata": {
    "ExecuteTime": {
     "end_time": "2019-01-26T14:17:59.311079Z",
     "start_time": "2019-01-26T14:17:53.876679Z"
    }
   },
   "outputs": [
    {
     "data": {
      "text/plain": [
       "LogisticRegression(C=10, class_weight='balanced', dual=False,\n",
       "          fit_intercept=True, intercept_scaling=1, max_iter=100,\n",
       "          multi_class='warn', n_jobs=-1, penalty='l2', random_state=51,\n",
       "          solver='liblinear', tol=0.0001, verbose=0, warm_start=False)"
      ]
     },
     "execution_count": 10,
     "metadata": {},
     "output_type": "execute_result"
    }
   ],
   "source": [
    "# Linear Regression\n",
    "lr=LogisticRegression(C=10,tol=0.0001,random_state=51,n_jobs=-1,solver='liblinear',class_weight='balanced')\n",
    "lr.fit(X_train,y_train)"
   ]
  },
  {
   "cell_type": "code",
   "execution_count": 11,
   "metadata": {
    "ExecuteTime": {
     "end_time": "2019-01-26T14:18:21.401663Z",
     "start_time": "2019-01-26T14:17:59.313074Z"
    }
   },
   "outputs": [
    {
     "data": {
      "text/plain": [
       "RandomForestClassifier(bootstrap=True, class_weight='balanced',\n",
       "            criterion='gini', max_depth=14, max_features='auto',\n",
       "            max_leaf_nodes=None, min_impurity_decrease=1e-05,\n",
       "            min_impurity_split=None, min_samples_leaf=100,\n",
       "            min_samples_split=2, min_weight_fraction_leaf=0.0,\n",
       "            n_estimators=150, n_jobs=-1, oob_score=False, random_state=51,\n",
       "            verbose=0, warm_start=False)"
      ]
     },
     "execution_count": 11,
     "metadata": {},
     "output_type": "execute_result"
    }
   ],
   "source": [
    "# Random Forest\n",
    "rfc=RandomForestClassifier(n_estimators=150,max_depth=14,max_leaf_nodes= None, \n",
    "                           min_impurity_decrease= 1e-05, min_samples_leaf= 100,\n",
    "                           class_weight='balanced',n_jobs=-1,random_state=51)\n",
    "rfc.fit(X_train,y_train)"
   ]
  },
  {
   "cell_type": "code",
   "execution_count": 12,
   "metadata": {
    "ExecuteTime": {
     "end_time": "2019-01-26T14:18:23.885039Z",
     "start_time": "2019-01-26T14:18:21.403659Z"
    }
   },
   "outputs": [
    {
     "data": {
      "text/plain": [
       "LGBMClassifier(boosting_type='gbdt', class_weight={0: 1, 1: 4},\n",
       "        colsample_bytree=1, importance_type='split', learning_rate=0.1,\n",
       "        max_depth=7, min_child_samples=20, min_child_weight=0.001,\n",
       "        min_split_gain=0, n_estimators=100, n_jobs=-1, num_leaves=31,\n",
       "        objective=None, random_state=51, reg_alpha=13, reg_lambda=0.0,\n",
       "        silent=True, subsample=1.0, subsample_for_bin=200000,\n",
       "        subsample_freq=0)"
      ]
     },
     "execution_count": 12,
     "metadata": {},
     "output_type": "execute_result"
    }
   ],
   "source": [
    "# LGBM\n",
    "lgb=LGBMClassifier(random_state=51, class_weight= {0: 1, 1: 4}, colsample_bytree=1, max_depth=7,\n",
    " min_child_samples=20, min_split_gain=0, n_estimators=100, reg_alpha=13)\n",
    "lgb.fit(X_train,y_train)"
   ]
  },
  {
   "cell_type": "markdown",
   "metadata": {},
   "source": [
    "## Predicting on Test Data"
   ]
  },
  {
   "cell_type": "code",
   "execution_count": 13,
   "metadata": {
    "ExecuteTime": {
     "end_time": "2019-01-26T14:18:29.346461Z",
     "start_time": "2019-01-26T14:18:23.888032Z"
    }
   },
   "outputs": [],
   "source": [
    "# Preprocessing Test Data\n",
    "X_test_1=X_test.copy()\n",
    "X_test=pipeline.transform(X_test)\n",
    "X_test[features_to_scale]=scaler.transform(X_test[features_to_scale])"
   ]
  },
  {
   "cell_type": "code",
   "execution_count": 14,
   "metadata": {
    "ExecuteTime": {
     "end_time": "2019-01-26T14:18:29.868220Z",
     "start_time": "2019-01-26T14:18:29.348426Z"
    }
   },
   "outputs": [],
   "source": [
    "# Linear Regression\n",
    "y_test_pred_lr=lr.predict(X_test)\n",
    "\n",
    "# Random Forest\n",
    "y_test_pred_rfc=rfc.predict(X_test)\n",
    "\n",
    "# LightGBM\n",
    "y_test_pred_lgb=lgb.predict(X_test)"
   ]
  },
  {
   "cell_type": "code",
   "execution_count": 15,
   "metadata": {
    "ExecuteTime": {
     "end_time": "2019-01-26T14:18:29.932049Z",
     "start_time": "2019-01-26T14:18:29.870216Z"
    }
   },
   "outputs": [],
   "source": [
    "# Voting\n",
    "result=pd.DataFrame(index=X_test.index)\n",
    "result['lr']=y_test_pred_lr\n",
    "result['rfc']=y_test_pred_rfc\n",
    "result['lgb']=y_test_pred_lgb\n",
    "result['count']=result.sum(axis=1)\n",
    "result['y_pred']=result['count'].apply(lambda x: 1 if x>=3 else 0)\n",
    "result['y']=y_test"
   ]
  },
  {
   "cell_type": "code",
   "execution_count": 16,
   "metadata": {
    "ExecuteTime": {
     "end_time": "2019-01-26T14:18:30.052891Z",
     "start_time": "2019-01-26T14:18:29.934045Z"
    }
   },
   "outputs": [
    {
     "name": "stdout",
     "output_type": "stream",
     "text": [
      "              precision    recall  f1-score   support\n",
      "\n",
      "           0       0.85      0.70      0.77     41942\n",
      "           1       0.40      0.61      0.48     13486\n",
      "\n",
      "   micro avg       0.68      0.68      0.68     55428\n",
      "   macro avg       0.62      0.66      0.62     55428\n",
      "weighted avg       0.74      0.68      0.70     55428\n",
      "\n",
      "ROC-AUC: 0.655\n"
     ]
    }
   ],
   "source": [
    "print(classification_report(y_test,result['y_pred']))\n",
    "print('ROC-AUC:',round(roc_auc_score(y_test,result['y_pred']),4))"
   ]
  },
  {
   "cell_type": "markdown",
   "metadata": {},
   "source": [
    "## Evaluating Model (On Test Set)\n",
    "\n",
    "**Model is able to predict 61% of the defaulters.**\n",
    "\n",
    "Let us look at **Return on investment (ROI)** to see how model can help in real business.\n",
    "To calculate ROI, I've used total loan repayed and amount funded as loan. These variables leak future information and I have not used these variables for training. Data used to calculate ROI includes fully paid, charged off and loans in grace period. It does not include Current loans.\n",
    "\n",
    "**ROI = 'total_payment' / 'funded_amount'**\n",
    "\n",
    "**ROI without using model : -4.57**\n",
    "\n",
    "**ROI after using model : 2.22**\n",
    "\n",
    "### Grade-wise Analysis of ROI:\n",
    "A table below shows grade-wise analysis of loans. It shows ROI, % of loans selected and % of loans defaulted from selected loans.\n",
    "\n",
    "* ROI for every grade has improved.\n",
    "* ROI for grades C, D, E, G became positive after using model.\n"
   ]
  },
  {
   "cell_type": "code",
   "execution_count": 17,
   "metadata": {
    "ExecuteTime": {
     "end_time": "2019-01-26T14:18:30.244607Z",
     "start_time": "2019-01-26T14:18:30.054860Z"
    },
    "code_folding": [
     0
    ]
   },
   "outputs": [
    {
     "data": {
      "text/plain": [
       "Text(33,0.5,'Predicted Label')"
      ]
     },
     "execution_count": 17,
     "metadata": {},
     "output_type": "execute_result"
    },
    {
     "data": {
      "image/png": "[encoded data removed]",
      "text/plain": [
       "<Figure size 432x288 with 2 Axes>"
      ]
     },
     "metadata": {},
     "output_type": "display_data"
    }
   ],
   "source": [
    "# Confusion Matrix\n",
    "cm = confusion_matrix(y_test, result['y_pred']).T\n",
    "cm = cm.astype('float')/cm.sum(axis=0)\n",
    "ax = sns.heatmap(cm, annot=True, cmap='Blues');\n",
    "ax.set_xlabel('True Label',size=12)\n",
    "ax.set_ylabel('Predicted Label',size=12)"
   ]
  },
  {
   "cell_type": "code",
   "execution_count": 18,
   "metadata": {
    "ExecuteTime": {
     "end_time": "2019-01-26T14:18:30.312459Z",
     "start_time": "2019-01-26T14:18:30.246583Z"
    },
    "scrolled": true
   },
   "outputs": [
    {
     "name": "stdout",
     "output_type": "stream",
     "text": [
      "ROI after filtering potential defaulters: 2.22\n",
      "ROI without filtering defaulters: -4.57\n"
     ]
    }
   ],
   "source": [
    "# Improvement in ROI after using model\n",
    "\n",
    "index=result[result['y_pred']==0].index\n",
    "tmp=X_test_1.loc[index][['total_pymnt','funded_amnt']]\n",
    "roi=(tmp['total_pymnt'].sum()/tmp['funded_amnt'].sum()-1)*100\n",
    "print(\"ROI after filtering potential defaulters:\",round(roi,2))\n",
    "\n",
    "tmp=X_test_1[['total_pymnt','funded_amnt']]\n",
    "roi=(tmp['total_pymnt'].sum()/tmp['funded_amnt'].sum()-1)*100\n",
    "print(\"ROI without filtering defaulters:\",round(roi,2))"
   ]
  },
  {
   "cell_type": "code",
   "execution_count": 19,
   "metadata": {
    "ExecuteTime": {
     "end_time": "2019-01-26T14:18:30.861745Z",
     "start_time": "2019-01-26T14:18:30.314453Z"
    }
   },
   "outputs": [
    {
     "data": {
      "text/html": [
       "<div>\n",
       "<style scoped>\n",
       "    .dataframe tbody tr th:only-of-type {\n",
       "        vertical-align: middle;\n",
       "    }\n",
       "\n",
       "    .dataframe tbody tr th {\n",
       "        vertical-align: top;\n",
       "    }\n",
       "\n",
       "    .dataframe thead th {\n",
       "        text-align: right;\n",
       "    }\n",
       "</style>\n",
       "<table border=\"1\" class=\"dataframe\">\n",
       "  <thead>\n",
       "    <tr style=\"text-align: right;\">\n",
       "      <th></th>\n",
       "      <th>ROI</th>\n",
       "      <th>% Picked</th>\n",
       "      <th>% Default</th>\n",
       "      <th>ROI_w/o_model</th>\n",
       "      <th>% Picked_w/o_model</th>\n",
       "      <th>% Default_w/o_model</th>\n",
       "    </tr>\n",
       "  </thead>\n",
       "  <tbody>\n",
       "    <tr>\n",
       "      <th>A</th>\n",
       "      <td>0.0250712</td>\n",
       "      <td>99.9774</td>\n",
       "      <td>8.64002</td>\n",
       "      <td>0.025071</td>\n",
       "      <td>100</td>\n",
       "      <td>8.63806</td>\n",
       "    </tr>\n",
       "    <tr>\n",
       "      <th>B</th>\n",
       "      <td>0.0200738</td>\n",
       "      <td>96.1866</td>\n",
       "      <td>16.1057</td>\n",
       "      <td>0.0152713</td>\n",
       "      <td>100</td>\n",
       "      <td>16.7564</td>\n",
       "    </tr>\n",
       "    <tr>\n",
       "      <th>C</th>\n",
       "      <td>0.017765</td>\n",
       "      <td>53.9985</td>\n",
       "      <td>18.7983</td>\n",
       "      <td>-0.0447373</td>\n",
       "      <td>100</td>\n",
       "      <td>25.9779</td>\n",
       "    </tr>\n",
       "    <tr>\n",
       "      <th>D</th>\n",
       "      <td>0.0349775</td>\n",
       "      <td>24.597</td>\n",
       "      <td>20.8825</td>\n",
       "      <td>-0.096151</td>\n",
       "      <td>100</td>\n",
       "      <td>34.7948</td>\n",
       "    </tr>\n",
       "    <tr>\n",
       "      <th>E</th>\n",
       "      <td>0.0703003</td>\n",
       "      <td>7.08117</td>\n",
       "      <td>22.2561</td>\n",
       "      <td>-0.143831</td>\n",
       "      <td>100</td>\n",
       "      <td>42.5518</td>\n",
       "    </tr>\n",
       "    <tr>\n",
       "      <th>F</th>\n",
       "      <td>-0.0234227</td>\n",
       "      <td>3.26508</td>\n",
       "      <td>22.0339</td>\n",
       "      <td>-0.16447</td>\n",
       "      <td>100</td>\n",
       "      <td>47.316</td>\n",
       "    </tr>\n",
       "    <tr>\n",
       "      <th>G</th>\n",
       "      <td>0.0961287</td>\n",
       "      <td>2.6694</td>\n",
       "      <td>38.4615</td>\n",
       "      <td>-0.163535</td>\n",
       "      <td>100</td>\n",
       "      <td>50.1027</td>\n",
       "    </tr>\n",
       "  </tbody>\n",
       "</table>\n",
       "</div>"
      ],
      "text/plain": [
       "         ROI % Picked % Default ROI_w/o_model % Picked_w/o_model  \\\n",
       "A  0.0250712  99.9774   8.64002      0.025071                100   \n",
       "B  0.0200738  96.1866   16.1057     0.0152713                100   \n",
       "C   0.017765  53.9985   18.7983    -0.0447373                100   \n",
       "D  0.0349775   24.597   20.8825     -0.096151                100   \n",
       "E  0.0703003  7.08117   22.2561     -0.143831                100   \n",
       "F -0.0234227  3.26508   22.0339      -0.16447                100   \n",
       "G  0.0961287   2.6694   38.4615     -0.163535                100   \n",
       "\n",
       "  % Default_w/o_model  \n",
       "A             8.63806  \n",
       "B             16.7564  \n",
       "C             25.9779  \n",
       "D             34.7948  \n",
       "E             42.5518  \n",
       "F              47.316  \n",
       "G             50.1027  "
      ]
     },
     "execution_count": 19,
     "metadata": {},
     "output_type": "execute_result"
    }
   ],
   "source": [
    "# Grade-wise ROI\n",
    "df1=create_performance_chart(X_test_1,result['y_pred'],y_test)\n",
    "df2=create_performance_chart(X_test_1,np.zeros(len(y_test)),y_test)\n",
    "df2.columns=map(lambda x:x+'_w/o_model',df2.columns)\n",
    "pd.concat([df1,df2],axis=1)"
   ]
  },
  {
   "cell_type": "code",
   "execution_count": null,
   "metadata": {},
   "outputs": [],
   "source": []
  },
  {
   "cell_type": "markdown",
   "metadata": {},
   "source": [
    "## Learning Curve and Scope for Improvement\n",
    "\n",
    "From learning curve, it is clear that model is the underfit. Even if we supply more data, it will improve model minimally.\n",
    "\n",
    "Also confusion matrix printed above shows that 30% of the fair loans were predicted as default.\n",
    "\n",
    "This model can be improved by adding more features."
   ]
  },
  {
   "cell_type": "code",
   "execution_count": 20,
   "metadata": {
    "ExecuteTime": {
     "end_time": "2019-01-26T14:19:12.194001Z",
     "start_time": "2019-01-26T14:18:30.862743Z"
    },
    "code_folding": [
     0
    ]
   },
   "outputs": [
    {
     "data": {
      "text/plain": [
       "<matplotlib.legend.Legend at 0x1db1a5f2d68>"
      ]
     },
     "execution_count": 20,
     "metadata": {},
     "output_type": "execute_result"
    },
    {
     "data": {
      "image/png": "[encoded data removed]",
      "text/plain": [
       "<Figure size 576x288 with 1 Axes>"
      ]
     },
     "metadata": {},
     "output_type": "display_data"
    }
   ],
   "source": [
    "#learning curve\n",
    "lgb=LGBMClassifier(random_state=51, class_weight= {0: 1, 1: 4}, colsample_bytree=1, max_depth=7,\n",
    " min_child_samples=20, min_split_gain=0, n_estimators=100, reg_alpha=13)\n",
    "\n",
    "lc=learning_curve(lgb,X_train,y_train,cv=StratifiedKFold(random_state=51,n_splits=5),scoring='roc_auc',\n",
    "                  n_jobs=1,random_state=51)\n",
    "size=lc[0]\n",
    "train_score=[lc[1][i].mean() for i in range (0,5)]\n",
    "test_score=[lc[2][i].mean() for i in range (0,5)]\n",
    "fig=plt.figure(figsize=(8,4))\n",
    "plt.plot(size,train_score,label='Train')\n",
    "plt.plot(size,test_score,label=\"Test\")\n",
    "plt.legend()"
   ]
  },
  {
   "cell_type": "code",
   "execution_count": null,
   "metadata": {},
   "outputs": [],
   "source": []
  }
 ],
 "metadata": {
  "kernelspec": {
   "display_name": "Python 3",
   "language": "python",
   "name": "python3"
  },
  "language_info": {
   "codemirror_mode": {
    "name": "ipython",
    "version": 3
   },
   "file_extension": ".py",
   "mimetype": "text/x-python",
   "name": "python",
   "nbconvert_exporter": "python",
   "pygments_lexer": "ipython3",
   "version": "3.6.5"
  },
  "toc": {
   "base_numbering": 1,
   "nav_menu": {},
   "number_sections": true,
   "sideBar": true,
   "skip_h1_title": false,
   "title_cell": "Table of Contents",
   "title_sidebar": "Contents",
   "toc_cell": false,
   "toc_position": {},
   "toc_section_display": true,
   "toc_window_display": false
  }
 },
 "nbformat": 4,
 "nbformat_minor": 2
}
