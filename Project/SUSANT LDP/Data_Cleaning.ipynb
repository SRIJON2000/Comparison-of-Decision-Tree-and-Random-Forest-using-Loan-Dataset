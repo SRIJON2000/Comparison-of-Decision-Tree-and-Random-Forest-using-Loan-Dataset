{
 "cells": [
  {
   "cell_type": "code",
   "execution_count": 1,
   "metadata": {
    "ExecuteTime": {
     "end_time": "2019-01-26T14:22:24.975672Z",
     "start_time": "2019-01-26T14:22:23.840665Z"
    }
   },
   "outputs": [],
   "source": [
    "import numpy as np\n",
    "import pandas as pd\n",
    "import matplotlib.pyplot as plt\n",
    "import seaborn as sns\n",
    "from scipy.special import boxcox1p        \n",
    "%matplotlib inline"
   ]
  },
  {
   "cell_type": "code",
   "execution_count": 2,
   "metadata": {
    "ExecuteTime": {
     "end_time": "2019-01-26T14:22:24.980637Z",
     "start_time": "2019-01-26T14:22:24.977648Z"
    }
   },
   "outputs": [],
   "source": [
    "import warnings\n",
    "warnings.filterwarnings('ignore')"
   ]
  },
  {
   "cell_type": "code",
   "execution_count": 3,
   "metadata": {
    "ExecuteTime": {
     "end_time": "2019-01-26T14:22:25.127590Z",
     "start_time": "2019-01-26T14:22:24.983608Z"
    }
   },
   "outputs": [],
   "source": [
    "pd.set_option('max_colwidth',500)"
   ]
  },
  {
   "cell_type": "code",
   "execution_count": 10,
   "metadata": {
    "ExecuteTime": {
     "end_time": "2019-01-26T14:22:34.897349Z",
     "start_time": "2019-01-26T14:22:25.129589Z"
    }
   },
   "outputs": [],
   "source": [
    "data=pd.read_csv('loan.csv')"
   ]
  },
  {
   "cell_type": "code",
   "execution_count": 12,
   "metadata": {
    "ExecuteTime": {
     "end_time": "2019-01-26T14:22:34.904322Z",
     "start_time": "2019-01-26T14:22:34.900334Z"
    },
    "scrolled": true
   },
   "outputs": [
    {
     "data": {
      "text/html": [
       "<div>\n",
       "<style scoped>\n",
       "    .dataframe tbody tr th:only-of-type {\n",
       "        vertical-align: middle;\n",
       "    }\n",
       "\n",
       "    .dataframe tbody tr th {\n",
       "        vertical-align: top;\n",
       "    }\n",
       "\n",
       "    .dataframe thead th {\n",
       "        text-align: right;\n",
       "    }\n",
       "</style>\n",
       "<table border=\"1\" class=\"dataframe\">\n",
       "  <thead>\n",
       "    <tr style=\"text-align: right;\">\n",
       "      <th></th>\n",
       "      <th>id</th>\n",
       "      <th>member_id</th>\n",
       "      <th>loan_amnt</th>\n",
       "      <th>funded_amnt</th>\n",
       "      <th>funded_amnt_inv</th>\n",
       "      <th>term</th>\n",
       "      <th>int_rate</th>\n",
       "      <th>installment</th>\n",
       "      <th>grade</th>\n",
       "      <th>sub_grade</th>\n",
       "      <th>...</th>\n",
       "      <th>num_tl_90g_dpd_24m</th>\n",
       "      <th>num_tl_op_past_12m</th>\n",
       "      <th>pct_tl_nvr_dlq</th>\n",
       "      <th>percent_bc_gt_75</th>\n",
       "      <th>pub_rec_bankruptcies</th>\n",
       "      <th>tax_liens</th>\n",
       "      <th>tot_hi_cred_lim</th>\n",
       "      <th>total_bal_ex_mort</th>\n",
       "      <th>total_bc_limit</th>\n",
       "      <th>total_il_high_credit_limit</th>\n",
       "    </tr>\n",
       "  </thead>\n",
       "  <tbody>\n",
       "    <tr>\n",
       "      <th>0</th>\n",
       "      <td>1077501</td>\n",
       "      <td>1296599.0</td>\n",
       "      <td>5000.0</td>\n",
       "      <td>5000.0</td>\n",
       "      <td>4975.0</td>\n",
       "      <td>36 months</td>\n",
       "      <td>10.65%</td>\n",
       "      <td>162.87</td>\n",
       "      <td>B</td>\n",
       "      <td>B2</td>\n",
       "      <td>...</td>\n",
       "      <td>NaN</td>\n",
       "      <td>NaN</td>\n",
       "      <td>NaN</td>\n",
       "      <td>NaN</td>\n",
       "      <td>0.0</td>\n",
       "      <td>0.0</td>\n",
       "      <td>NaN</td>\n",
       "      <td>NaN</td>\n",
       "      <td>NaN</td>\n",
       "      <td>NaN</td>\n",
       "    </tr>\n",
       "    <tr>\n",
       "      <th>1</th>\n",
       "      <td>1077430</td>\n",
       "      <td>1314167.0</td>\n",
       "      <td>2500.0</td>\n",
       "      <td>2500.0</td>\n",
       "      <td>2500.0</td>\n",
       "      <td>60 months</td>\n",
       "      <td>15.27%</td>\n",
       "      <td>59.83</td>\n",
       "      <td>C</td>\n",
       "      <td>C4</td>\n",
       "      <td>...</td>\n",
       "      <td>NaN</td>\n",
       "      <td>NaN</td>\n",
       "      <td>NaN</td>\n",
       "      <td>NaN</td>\n",
       "      <td>0.0</td>\n",
       "      <td>0.0</td>\n",
       "      <td>NaN</td>\n",
       "      <td>NaN</td>\n",
       "      <td>NaN</td>\n",
       "      <td>NaN</td>\n",
       "    </tr>\n",
       "    <tr>\n",
       "      <th>2</th>\n",
       "      <td>1077175</td>\n",
       "      <td>1313524.0</td>\n",
       "      <td>2400.0</td>\n",
       "      <td>2400.0</td>\n",
       "      <td>2400.0</td>\n",
       "      <td>36 months</td>\n",
       "      <td>15.96%</td>\n",
       "      <td>84.33</td>\n",
       "      <td>C</td>\n",
       "      <td>C5</td>\n",
       "      <td>...</td>\n",
       "      <td>NaN</td>\n",
       "      <td>NaN</td>\n",
       "      <td>NaN</td>\n",
       "      <td>NaN</td>\n",
       "      <td>0.0</td>\n",
       "      <td>0.0</td>\n",
       "      <td>NaN</td>\n",
       "      <td>NaN</td>\n",
       "      <td>NaN</td>\n",
       "      <td>NaN</td>\n",
       "    </tr>\n",
       "    <tr>\n",
       "      <th>3</th>\n",
       "      <td>1076863</td>\n",
       "      <td>1277178.0</td>\n",
       "      <td>10000.0</td>\n",
       "      <td>10000.0</td>\n",
       "      <td>10000.0</td>\n",
       "      <td>36 months</td>\n",
       "      <td>13.49%</td>\n",
       "      <td>339.31</td>\n",
       "      <td>C</td>\n",
       "      <td>C1</td>\n",
       "      <td>...</td>\n",
       "      <td>NaN</td>\n",
       "      <td>NaN</td>\n",
       "      <td>NaN</td>\n",
       "      <td>NaN</td>\n",
       "      <td>0.0</td>\n",
       "      <td>0.0</td>\n",
       "      <td>NaN</td>\n",
       "      <td>NaN</td>\n",
       "      <td>NaN</td>\n",
       "      <td>NaN</td>\n",
       "    </tr>\n",
       "    <tr>\n",
       "      <th>4</th>\n",
       "      <td>1075358</td>\n",
       "      <td>1311748.0</td>\n",
       "      <td>3000.0</td>\n",
       "      <td>3000.0</td>\n",
       "      <td>3000.0</td>\n",
       "      <td>60 months</td>\n",
       "      <td>12.69%</td>\n",
       "      <td>67.79</td>\n",
       "      <td>B</td>\n",
       "      <td>B5</td>\n",
       "      <td>...</td>\n",
       "      <td>NaN</td>\n",
       "      <td>NaN</td>\n",
       "      <td>NaN</td>\n",
       "      <td>NaN</td>\n",
       "      <td>0.0</td>\n",
       "      <td>0.0</td>\n",
       "      <td>NaN</td>\n",
       "      <td>NaN</td>\n",
       "      <td>NaN</td>\n",
       "      <td>NaN</td>\n",
       "    </tr>\n",
       "  </tbody>\n",
       "</table>\n",
       "<p>5 rows × 111 columns</p>\n",
       "</div>"
      ],
      "text/plain": [
       "        id  member_id  loan_amnt  funded_amnt  funded_amnt_inv        term  \\\n",
       "0  1077501  1296599.0     5000.0       5000.0           4975.0   36 months   \n",
       "1  1077430  1314167.0     2500.0       2500.0           2500.0   60 months   \n",
       "2  1077175  1313524.0     2400.0       2400.0           2400.0   36 months   \n",
       "3  1076863  1277178.0    10000.0      10000.0          10000.0   36 months   \n",
       "4  1075358  1311748.0     3000.0       3000.0           3000.0   60 months   \n",
       "\n",
       "  int_rate  installment grade sub_grade  ... num_tl_90g_dpd_24m  \\\n",
       "0   10.65%       162.87     B        B2  ...                NaN   \n",
       "1   15.27%        59.83     C        C4  ...                NaN   \n",
       "2   15.96%        84.33     C        C5  ...                NaN   \n",
       "3   13.49%       339.31     C        C1  ...                NaN   \n",
       "4   12.69%        67.79     B        B5  ...                NaN   \n",
       "\n",
       "  num_tl_op_past_12m pct_tl_nvr_dlq  percent_bc_gt_75 pub_rec_bankruptcies  \\\n",
       "0                NaN            NaN               NaN                  0.0   \n",
       "1                NaN            NaN               NaN                  0.0   \n",
       "2                NaN            NaN               NaN                  0.0   \n",
       "3                NaN            NaN               NaN                  0.0   \n",
       "4                NaN            NaN               NaN                  0.0   \n",
       "\n",
       "  tax_liens tot_hi_cred_lim total_bal_ex_mort total_bc_limit  \\\n",
       "0       0.0             NaN               NaN            NaN   \n",
       "1       0.0             NaN               NaN            NaN   \n",
       "2       0.0             NaN               NaN            NaN   \n",
       "3       0.0             NaN               NaN            NaN   \n",
       "4       0.0             NaN               NaN            NaN   \n",
       "\n",
       "  total_il_high_credit_limit  \n",
       "0                        NaN  \n",
       "1                        NaN  \n",
       "2                        NaN  \n",
       "3                        NaN  \n",
       "4                        NaN  \n",
       "\n",
       "[5 rows x 111 columns]"
      ]
     },
     "execution_count": 12,
     "metadata": {},
     "output_type": "execute_result"
    }
   ],
   "source": [
    "data.head()"
   ]
  },
  {
   "cell_type": "markdown",
   "metadata": {},
   "source": [
    "Dataset has 74 columns including the output columns 'loan_status'.\n",
    "\n",
    "I created a dataframe from data dictionary so that evaluating each column will be easier. This dataframe shows feature name, decription, first value, data type and number of null values."
   ]
  },
  {
   "cell_type": "code",
   "execution_count": 13,
   "metadata": {
    "ExecuteTime": {
     "end_time": "2019-01-26T14:22:35.070622Z",
     "start_time": "2019-01-26T14:22:34.907317Z"
    }
   },
   "outputs": [],
   "source": [
    "data_dict=pd.read_excel('LCDataDictionary.xlsx',sheet_name='LoanStats')"
   ]
  },
  {
   "cell_type": "code",
   "execution_count": 14,
   "metadata": {
    "ExecuteTime": {
     "end_time": "2019-01-26T14:22:35.158814Z",
     "start_time": "2019-01-26T14:22:35.072596Z"
    }
   },
   "outputs": [
    {
     "data": {
      "text/html": [
       "<div>\n",
       "<style scoped>\n",
       "    .dataframe tbody tr th:only-of-type {\n",
       "        vertical-align: middle;\n",
       "    }\n",
       "\n",
       "    .dataframe tbody tr th {\n",
       "        vertical-align: top;\n",
       "    }\n",
       "\n",
       "    .dataframe thead th {\n",
       "        text-align: right;\n",
       "    }\n",
       "</style>\n",
       "<table border=\"1\" class=\"dataframe\">\n",
       "  <thead>\n",
       "    <tr style=\"text-align: right;\">\n",
       "      <th></th>\n",
       "      <th>LoanStatNew</th>\n",
       "      <th>Description</th>\n",
       "    </tr>\n",
       "  </thead>\n",
       "  <tbody>\n",
       "    <tr>\n",
       "      <th>0</th>\n",
       "      <td>acc_now_delinq</td>\n",
       "      <td>The number of accounts on which the borrower is now delinquent.</td>\n",
       "    </tr>\n",
       "    <tr>\n",
       "      <th>1</th>\n",
       "      <td>acc_open_past_24mths</td>\n",
       "      <td>Number of trades opened in past 24 months.</td>\n",
       "    </tr>\n",
       "    <tr>\n",
       "      <th>2</th>\n",
       "      <td>addr_state</td>\n",
       "      <td>The state provided by the borrower in the loan application</td>\n",
       "    </tr>\n",
       "    <tr>\n",
       "      <th>3</th>\n",
       "      <td>all_util</td>\n",
       "      <td>Balance to credit limit on all trades</td>\n",
       "    </tr>\n",
       "    <tr>\n",
       "      <th>4</th>\n",
       "      <td>annual_inc</td>\n",
       "      <td>The self-reported annual income provided by the borrower during registration.</td>\n",
       "    </tr>\n",
       "  </tbody>\n",
       "</table>\n",
       "</div>"
      ],
      "text/plain": [
       "            LoanStatNew  \\\n",
       "0        acc_now_delinq   \n",
       "1  acc_open_past_24mths   \n",
       "2            addr_state   \n",
       "3              all_util   \n",
       "4            annual_inc   \n",
       "\n",
       "                                                                     Description  \n",
       "0                The number of accounts on which the borrower is now delinquent.  \n",
       "1                                     Number of trades opened in past 24 months.  \n",
       "2                     The state provided by the borrower in the loan application  \n",
       "3                                          Balance to credit limit on all trades  \n",
       "4  The self-reported annual income provided by the borrower during registration.  "
      ]
     },
     "execution_count": 14,
     "metadata": {},
     "output_type": "execute_result"
    }
   ],
   "source": [
    "data_dict.head()"
   ]
  },
  {
   "cell_type": "code",
   "execution_count": 17,
   "metadata": {
    "ExecuteTime": {
     "end_time": "2019-01-26T14:22:35.342610Z",
     "start_time": "2019-01-26T14:22:35.160781Z"
    },
    "scrolled": true
   },
   "outputs": [],
   "source": [
    "data_dtypes=pd.DataFrame(data.dtypes,columns=['dtype'])\n",
    "data_dtypes.reset_index(inplace=True)\n",
    "data_dtypes.columns=['LoanStatNew', 'dtype']\n",
    "data_dtypes['first value'] = data.loc[0].values"
   ]
  },
  {
   "cell_type": "code",
   "execution_count": 18,
   "metadata": {
    "ExecuteTime": {
     "end_time": "2019-01-26T14:22:35.440066Z",
     "start_time": "2019-01-26T14:22:35.343569Z"
    }
   },
   "outputs": [
    {
     "data": {
      "text/html": [
       "<div>\n",
       "<style scoped>\n",
       "    .dataframe tbody tr th:only-of-type {\n",
       "        vertical-align: middle;\n",
       "    }\n",
       "\n",
       "    .dataframe tbody tr th {\n",
       "        vertical-align: top;\n",
       "    }\n",
       "\n",
       "    .dataframe thead th {\n",
       "        text-align: right;\n",
       "    }\n",
       "</style>\n",
       "<table border=\"1\" class=\"dataframe\">\n",
       "  <thead>\n",
       "    <tr style=\"text-align: right;\">\n",
       "      <th></th>\n",
       "      <th>LoanStatNew</th>\n",
       "      <th>dtype</th>\n",
       "      <th>first value</th>\n",
       "    </tr>\n",
       "  </thead>\n",
       "  <tbody>\n",
       "    <tr>\n",
       "      <th>0</th>\n",
       "      <td>id</td>\n",
       "      <td>object</td>\n",
       "      <td>1077501</td>\n",
       "    </tr>\n",
       "    <tr>\n",
       "      <th>1</th>\n",
       "      <td>member_id</td>\n",
       "      <td>float64</td>\n",
       "      <td>1296599.0</td>\n",
       "    </tr>\n",
       "    <tr>\n",
       "      <th>2</th>\n",
       "      <td>loan_amnt</td>\n",
       "      <td>float64</td>\n",
       "      <td>5000.0</td>\n",
       "    </tr>\n",
       "    <tr>\n",
       "      <th>3</th>\n",
       "      <td>funded_amnt</td>\n",
       "      <td>float64</td>\n",
       "      <td>5000.0</td>\n",
       "    </tr>\n",
       "    <tr>\n",
       "      <th>4</th>\n",
       "      <td>funded_amnt_inv</td>\n",
       "      <td>float64</td>\n",
       "      <td>4975.0</td>\n",
       "    </tr>\n",
       "  </tbody>\n",
       "</table>\n",
       "</div>"
      ],
      "text/plain": [
       "       LoanStatNew    dtype first value\n",
       "0               id   object     1077501\n",
       "1        member_id  float64   1296599.0\n",
       "2        loan_amnt  float64      5000.0\n",
       "3      funded_amnt  float64      5000.0\n",
       "4  funded_amnt_inv  float64      4975.0"
      ]
     },
     "execution_count": 18,
     "metadata": {},
     "output_type": "execute_result"
    }
   ],
   "source": [
    "data_dtypes.head()"
   ]
  },
  {
   "cell_type": "code",
   "execution_count": 19,
   "metadata": {
    "ExecuteTime": {
     "end_time": "2019-01-26T14:22:35.596147Z",
     "start_time": "2019-01-26T14:22:35.442035Z"
    }
   },
   "outputs": [],
   "source": [
    "data_col=data_dtypes.merge(data_dict, on='LoanStatNew',how='left')"
   ]
  },
  {
   "cell_type": "code",
   "execution_count": 20,
   "metadata": {
    "ExecuteTime": {
     "end_time": "2019-01-26T14:22:35.773494Z",
     "start_time": "2019-01-26T14:22:35.598773Z"
    }
   },
   "outputs": [
    {
     "data": {
      "text/html": [
       "<div>\n",
       "<style scoped>\n",
       "    .dataframe tbody tr th:only-of-type {\n",
       "        vertical-align: middle;\n",
       "    }\n",
       "\n",
       "    .dataframe tbody tr th {\n",
       "        vertical-align: top;\n",
       "    }\n",
       "\n",
       "    .dataframe thead th {\n",
       "        text-align: right;\n",
       "    }\n",
       "</style>\n",
       "<table border=\"1\" class=\"dataframe\">\n",
       "  <thead>\n",
       "    <tr style=\"text-align: right;\">\n",
       "      <th></th>\n",
       "      <th>LoanStatNew</th>\n",
       "      <th>dtype</th>\n",
       "      <th>first value</th>\n",
       "      <th>Description</th>\n",
       "    </tr>\n",
       "  </thead>\n",
       "  <tbody>\n",
       "    <tr>\n",
       "      <th>0</th>\n",
       "      <td>id</td>\n",
       "      <td>object</td>\n",
       "      <td>1077501</td>\n",
       "      <td>A unique LC assigned ID for the loan listing.</td>\n",
       "    </tr>\n",
       "    <tr>\n",
       "      <th>1</th>\n",
       "      <td>member_id</td>\n",
       "      <td>float64</td>\n",
       "      <td>1296599.0</td>\n",
       "      <td>A unique LC assigned Id for the borrower member.</td>\n",
       "    </tr>\n",
       "  </tbody>\n",
       "</table>\n",
       "</div>"
      ],
      "text/plain": [
       "  LoanStatNew    dtype first value  \\\n",
       "0          id   object     1077501   \n",
       "1   member_id  float64   1296599.0   \n",
       "\n",
       "                                        Description  \n",
       "0     A unique LC assigned ID for the loan listing.  \n",
       "1  A unique LC assigned Id for the borrower member.  "
      ]
     },
     "execution_count": 20,
     "metadata": {},
     "output_type": "execute_result"
    }
   ],
   "source": [
    "data_col.head(2)"
   ]
  },
  {
   "cell_type": "code",
   "execution_count": 21,
   "metadata": {
    "ExecuteTime": {
     "end_time": "2019-01-26T14:22:46.922998Z",
     "start_time": "2019-01-26T14:22:35.775491Z"
    }
   },
   "outputs": [],
   "source": [
    "d={'LoanStatNew':[],'Nulls':[]}\n",
    "for i in data.columns:\n",
    "    d['LoanStatNew'].append(i)\n",
    "    d['Nulls'].append(len(data[data[i].isnull()][i]))\n",
    "data_col=data_col.merge(pd.DataFrame(d),on='LoanStatNew')\n",
    "nulls=pd.DataFrame(d)"
   ]
  },
  {
   "cell_type": "code",
   "execution_count": 23,
   "metadata": {
    "ExecuteTime": {
     "end_time": "2019-01-26T14:22:46.937960Z",
     "start_time": "2019-01-26T14:22:46.924993Z"
    }
   },
   "outputs": [
    {
     "data": {
      "text/html": [
       "<div>\n",
       "<style scoped>\n",
       "    .dataframe tbody tr th:only-of-type {\n",
       "        vertical-align: middle;\n",
       "    }\n",
       "\n",
       "    .dataframe tbody tr th {\n",
       "        vertical-align: top;\n",
       "    }\n",
       "\n",
       "    .dataframe thead th {\n",
       "        text-align: right;\n",
       "    }\n",
       "</style>\n",
       "<table border=\"1\" class=\"dataframe\">\n",
       "  <thead>\n",
       "    <tr style=\"text-align: right;\">\n",
       "      <th></th>\n",
       "      <th>LoanStatNew</th>\n",
       "      <th>dtype</th>\n",
       "      <th>first value</th>\n",
       "      <th>Description</th>\n",
       "      <th>Nulls</th>\n",
       "    </tr>\n",
       "  </thead>\n",
       "  <tbody>\n",
       "    <tr>\n",
       "      <th>0</th>\n",
       "      <td>id</td>\n",
       "      <td>object</td>\n",
       "      <td>1077501</td>\n",
       "      <td>A unique LC assigned ID for the loan listing.</td>\n",
       "      <td>4</td>\n",
       "    </tr>\n",
       "    <tr>\n",
       "      <th>1</th>\n",
       "      <td>member_id</td>\n",
       "      <td>float64</td>\n",
       "      <td>1296599.0</td>\n",
       "      <td>A unique LC assigned Id for the borrower member.</td>\n",
       "      <td>7</td>\n",
       "    </tr>\n",
       "    <tr>\n",
       "      <th>2</th>\n",
       "      <td>loan_amnt</td>\n",
       "      <td>float64</td>\n",
       "      <td>5000.0</td>\n",
       "      <td>The listed amount of the loan applied for by the borrower. If at some point in time, the credit department reduces the loan amount, then it will be reflected in this value.</td>\n",
       "      <td>7</td>\n",
       "    </tr>\n",
       "    <tr>\n",
       "      <th>3</th>\n",
       "      <td>funded_amnt</td>\n",
       "      <td>float64</td>\n",
       "      <td>5000.0</td>\n",
       "      <td>The total amount committed to that loan at that point in time.</td>\n",
       "      <td>7</td>\n",
       "    </tr>\n",
       "    <tr>\n",
       "      <th>4</th>\n",
       "      <td>funded_amnt_inv</td>\n",
       "      <td>float64</td>\n",
       "      <td>4975.0</td>\n",
       "      <td>The total amount committed by investors for that loan at that point in time.</td>\n",
       "      <td>7</td>\n",
       "    </tr>\n",
       "    <tr>\n",
       "      <th>...</th>\n",
       "      <td>...</td>\n",
       "      <td>...</td>\n",
       "      <td>...</td>\n",
       "      <td>...</td>\n",
       "      <td>...</td>\n",
       "    </tr>\n",
       "    <tr>\n",
       "      <th>106</th>\n",
       "      <td>tax_liens</td>\n",
       "      <td>float64</td>\n",
       "      <td>0.0</td>\n",
       "      <td>Number of tax liens</td>\n",
       "      <td>112</td>\n",
       "    </tr>\n",
       "    <tr>\n",
       "      <th>107</th>\n",
       "      <td>tot_hi_cred_lim</td>\n",
       "      <td>float64</td>\n",
       "      <td>NaN</td>\n",
       "      <td>Total high credit/credit limit</td>\n",
       "      <td>42542</td>\n",
       "    </tr>\n",
       "    <tr>\n",
       "      <th>108</th>\n",
       "      <td>total_bal_ex_mort</td>\n",
       "      <td>float64</td>\n",
       "      <td>NaN</td>\n",
       "      <td>Total credit balance excluding mortgage</td>\n",
       "      <td>42542</td>\n",
       "    </tr>\n",
       "    <tr>\n",
       "      <th>109</th>\n",
       "      <td>total_bc_limit</td>\n",
       "      <td>float64</td>\n",
       "      <td>NaN</td>\n",
       "      <td>Total bankcard high credit/credit limit</td>\n",
       "      <td>42542</td>\n",
       "    </tr>\n",
       "    <tr>\n",
       "      <th>110</th>\n",
       "      <td>total_il_high_credit_limit</td>\n",
       "      <td>float64</td>\n",
       "      <td>NaN</td>\n",
       "      <td>Total installment high credit/credit limit</td>\n",
       "      <td>42542</td>\n",
       "    </tr>\n",
       "  </tbody>\n",
       "</table>\n",
       "<p>111 rows × 5 columns</p>\n",
       "</div>"
      ],
      "text/plain": [
       "                    LoanStatNew    dtype first value  \\\n",
       "0                            id   object     1077501   \n",
       "1                     member_id  float64   1296599.0   \n",
       "2                     loan_amnt  float64      5000.0   \n",
       "3                   funded_amnt  float64      5000.0   \n",
       "4               funded_amnt_inv  float64      4975.0   \n",
       "..                          ...      ...         ...   \n",
       "106                   tax_liens  float64         0.0   \n",
       "107             tot_hi_cred_lim  float64         NaN   \n",
       "108           total_bal_ex_mort  float64         NaN   \n",
       "109              total_bc_limit  float64         NaN   \n",
       "110  total_il_high_credit_limit  float64         NaN   \n",
       "\n",
       "                                                                                                                                                                      Description  \\\n",
       "0                                                                                                                                   A unique LC assigned ID for the loan listing.   \n",
       "1                                                                                                                                A unique LC assigned Id for the borrower member.   \n",
       "2    The listed amount of the loan applied for by the borrower. If at some point in time, the credit department reduces the loan amount, then it will be reflected in this value.   \n",
       "3                                                                                                                  The total amount committed to that loan at that point in time.   \n",
       "4                                                                                                    The total amount committed by investors for that loan at that point in time.   \n",
       "..                                                                                                                                                                            ...   \n",
       "106                                                                                                                                                           Number of tax liens   \n",
       "107                                                                                                                                                Total high credit/credit limit   \n",
       "108                                                                                                                                       Total credit balance excluding mortgage   \n",
       "109                                                                                                                                       Total bankcard high credit/credit limit   \n",
       "110                                                                                                                                    Total installment high credit/credit limit   \n",
       "\n",
       "     Nulls  \n",
       "0        4  \n",
       "1        7  \n",
       "2        7  \n",
       "3        7  \n",
       "4        7  \n",
       "..     ...  \n",
       "106    112  \n",
       "107  42542  \n",
       "108  42542  \n",
       "109  42542  \n",
       "110  42542  \n",
       "\n",
       "[111 rows x 5 columns]"
      ]
     },
     "execution_count": 23,
     "metadata": {},
     "output_type": "execute_result"
    }
   ],
   "source": [
    "data_col"
   ]
  },
  {
   "cell_type": "markdown",
   "metadata": {},
   "source": [
    "Now I am able to see info of each column. With this info I decided which column to delete from model."
   ]
  },
  {
   "cell_type": "markdown",
   "metadata": {},
   "source": [
    "## Exploratory Data Analysis:\n",
    "\n",
    "Here I will go throught important features and analyse them. We'll use this information while data cleaning as well as training machine learning model."
   ]
  },
  {
   "cell_type": "code",
   "execution_count": 24,
   "metadata": {
    "ExecuteTime": {
     "end_time": "2019-01-26T14:22:47.189778Z",
     "start_time": "2019-01-26T14:22:46.940954Z"
    }
   },
   "outputs": [],
   "source": [
    "data_y=data['loan_status']"
   ]
  },
  {
   "cell_type": "code",
   "execution_count": 25,
   "metadata": {
    "ExecuteTime": {
     "end_time": "2019-01-26T14:22:47.346762Z",
     "start_time": "2019-01-26T14:22:47.192142Z"
    }
   },
   "outputs": [
    {
     "data": {
      "text/plain": [
       "array(['Fully Paid', 'Charged Off', 'Current', 'Late (31-120 days)',\n",
       "       'In Grace Period', 'Late (16-30 days)', 'Default', nan,\n",
       "       'Does not meet the credit policy. Status:Fully Paid',\n",
       "       'Does not meet the credit policy. Status:Charged Off'],\n",
       "      dtype=object)"
      ]
     },
     "execution_count": 25,
     "metadata": {},
     "output_type": "execute_result"
    }
   ],
   "source": [
    "data_y.unique()"
   ]
  },
  {
   "cell_type": "code",
   "execution_count": 27,
   "metadata": {
    "ExecuteTime": {
     "end_time": "2019-01-26T14:22:47.663434Z",
     "start_time": "2019-01-26T14:22:47.349723Z"
    }
   },
   "outputs": [
    {
     "data": {
      "text/plain": [
       "Fully Paid                                             34085\n",
       "Charged Off                                             5662\n",
       "Does not meet the credit policy. Status:Fully Paid      1988\n",
       "Does not meet the credit policy. Status:Charged Off      761\n",
       "Current                                                   19\n",
       "Late (31-120 days)                                         9\n",
       "In Grace Period                                            8\n",
       "Late (16-30 days)                                          2\n",
       "Default                                                    1\n",
       "Name: loan_status, dtype: int64"
      ]
     },
     "execution_count": 27,
     "metadata": {},
     "output_type": "execute_result"
    }
   ],
   "source": [
    "data_y.value_counts()"
   ]
  },
  {
   "cell_type": "markdown",
   "metadata": {},
   "source": [
    "**I considered Fully Paid loans and Charged off, Late (31-120 days), Default loans as these categories tells surely about loan repayment**"
   ]
  },
  {
   "cell_type": "code",
   "execution_count": 28,
   "metadata": {
    "ExecuteTime": {
     "end_time": "2019-01-26T14:22:47.944031Z",
     "start_time": "2019-01-26T14:22:47.665428Z"
    }
   },
   "outputs": [],
   "source": [
    "default=['Charged Off','Late (31-120 days)','Default']\n",
    "data['loan_status']=data['loan_status'].apply(lambda x: 'Default' if x in default else x)"
   ]
  },
  {
   "cell_type": "code",
   "execution_count": 29,
   "metadata": {
    "ExecuteTime": {
     "end_time": "2019-01-26T14:22:48.041732Z",
     "start_time": "2019-01-26T14:22:47.946006Z"
    }
   },
   "outputs": [
    {
     "data": {
      "text/plain": [
       "Fully Paid                                             34085\n",
       "Default                                                 5672\n",
       "Does not meet the credit policy. Status:Fully Paid      1988\n",
       "Does not meet the credit policy. Status:Charged Off      761\n",
       "Current                                                   19\n",
       "In Grace Period                                            8\n",
       "Late (16-30 days)                                          2\n",
       "Name: loan_status, dtype: int64"
      ]
     },
     "execution_count": 29,
     "metadata": {},
     "output_type": "execute_result"
    }
   ],
   "source": [
    "data_y.value_counts()"
   ]
  },
  {
   "cell_type": "code",
   "execution_count": 30,
   "metadata": {
    "ExecuteTime": {
     "end_time": "2019-01-26T14:22:48.415050Z",
     "start_time": "2019-01-26T14:22:48.043719Z"
    }
   },
   "outputs": [],
   "source": [
    "data=data[(data['loan_status']=='Default') | (data['loan_status']=='Fully Paid')]"
   ]
  },
  {
   "cell_type": "markdown",
   "metadata": {},
   "source": [
    "Following are some important points about data:\n",
    "1. Data is skewed with the ratio of **22/78**. That is, in 100 rows, only 22 rows refers to 'Default' case which is expected as defaulted cases will always be minimal.\n",
    "2. Loan defaulters tend to apply for larger loans.\n",
    "3. Around 23% of funded amount is defaulted"
   ]
  },
  {
   "cell_type": "code",
   "execution_count": 31,
   "metadata": {
    "ExecuteTime": {
     "end_time": "2019-01-26T14:22:48.449984Z",
     "start_time": "2019-01-26T14:22:48.417046Z"
    }
   },
   "outputs": [
    {
     "data": {
      "text/plain": [
       "0.8573332997962623"
      ]
     },
     "execution_count": 31,
     "metadata": {},
     "output_type": "execute_result"
    }
   ],
   "source": [
    "#Data is skewed with the ration of 21.84/78.16\n",
    "data['loan_status'].value_counts()[0]/len(data['loan_status'])"
   ]
  },
  {
   "cell_type": "code",
   "execution_count": 32,
   "metadata": {
    "ExecuteTime": {
     "end_time": "2019-01-26T14:22:48.585650Z",
     "start_time": "2019-01-26T14:22:48.450954Z"
    },
    "scrolled": true
   },
   "outputs": [
    {
     "data": {
      "text/html": [
       "<div>\n",
       "<style scoped>\n",
       "    .dataframe tbody tr th:only-of-type {\n",
       "        vertical-align: middle;\n",
       "    }\n",
       "\n",
       "    .dataframe tbody tr th {\n",
       "        vertical-align: top;\n",
       "    }\n",
       "\n",
       "    .dataframe thead th {\n",
       "        text-align: right;\n",
       "    }\n",
       "</style>\n",
       "<table border=\"1\" class=\"dataframe\">\n",
       "  <thead>\n",
       "    <tr style=\"text-align: right;\">\n",
       "      <th></th>\n",
       "      <th>loan_amnt</th>\n",
       "    </tr>\n",
       "    <tr>\n",
       "      <th>loan_status</th>\n",
       "      <th></th>\n",
       "    </tr>\n",
       "  </thead>\n",
       "  <tbody>\n",
       "    <tr>\n",
       "      <th>Default</th>\n",
       "      <td>12150.185120</td>\n",
       "    </tr>\n",
       "    <tr>\n",
       "      <th>Fully Paid</th>\n",
       "      <td>11073.361449</td>\n",
       "    </tr>\n",
       "  </tbody>\n",
       "</table>\n",
       "</div>"
      ],
      "text/plain": [
       "                loan_amnt\n",
       "loan_status              \n",
       "Default      12150.185120\n",
       "Fully Paid   11073.361449"
      ]
     },
     "execution_count": 32,
     "metadata": {},
     "output_type": "execute_result"
    }
   ],
   "source": [
    "#relation between average loan amount and loan status\n",
    "data[['loan_amnt','loan_status']].groupby(by='loan_status').mean()\n",
    "\n",
    "#Loan defaulters tend to apply for larger loans."
   ]
  },
  {
   "cell_type": "code",
   "execution_count": 33,
   "metadata": {
    "ExecuteTime": {
     "end_time": "2019-01-26T14:22:49.200919Z",
     "start_time": "2019-01-26T14:22:48.588643Z"
    }
   },
   "outputs": [
    {
     "data": {
      "text/plain": [
       "<AxesSubplot:xlabel='loan_amnt', ylabel='loan_status'>"
      ]
     },
     "execution_count": 33,
     "metadata": {},
     "output_type": "execute_result"
    },
    {
     "data": {
      "image/png": "[encoded data removed]",
      "text/plain": [
       "<Figure size 864x432 with 1 Axes>"
      ]
     },
     "metadata": {
      "needs_background": "light"
     },
     "output_type": "display_data"
    }
   ],
   "source": [
    "plt.figure(figsize=(12,6))\n",
    "sns.boxplot(data['loan_amnt'],data['loan_status'])"
   ]
  },
  {
   "cell_type": "code",
   "execution_count": 34,
   "metadata": {
    "ExecuteTime": {
     "end_time": "2019-01-26T14:22:49.206903Z",
     "start_time": "2019-01-26T14:22:49.202913Z"
    }
   },
   "outputs": [],
   "source": [
    "# data.to_csv('DC1_1.csv',index=False)\n",
    "# data=pd.read_csv('DC1_1.csv')"
   ]
  },
  {
   "cell_type": "code",
   "execution_count": 35,
   "metadata": {
    "ExecuteTime": {
     "end_time": "2019-01-26T14:22:49.535535Z",
     "start_time": "2019-01-26T14:22:49.209896Z"
    },
    "scrolled": true
   },
   "outputs": [
    {
     "data": {
      "text/plain": [
       "<AxesSubplot:xlabel='loan_status'>"
      ]
     },
     "execution_count": 35,
     "metadata": {},
     "output_type": "execute_result"
    },
    {
     "data": {
      "image/png": "[encoded data removed]",
      "text/plain": [
       "<Figure size 432x288 with 1 Axes>"
      ]
     },
     "metadata": {
      "needs_background": "light"
     },
     "output_type": "display_data"
    }
   ],
   "source": [
    "total_funded_amnt=data['funded_amnt'].sum()\n",
    "(data[['funded_amnt','loan_status']].groupby(by='loan_status').\\\n",
    "         sum()/total_funded_amnt*100).plot(kind='bar')\n",
    "\n",
    "#Around 23% of funded amount is defaulted"
   ]
  },
  {
   "cell_type": "code",
   "execution_count": null,
   "metadata": {},
   "outputs": [],
   "source": []
  },
  {
   "cell_type": "markdown",
   "metadata": {},
   "source": [
    "Now see how loan default rate and interest rate changes with grade and year.\n",
    "I did following aggregations:\n",
    "1. Default rate by grade\n",
    "2. Default rate by year\n",
    "3. Interest rate by grade\n",
    "4. Interest rate by year\n",
    "\n",
    "Following are the findings:\n",
    "1. Default rate highly correlated with grade. Riskier the grade more is the chance to default\n",
    "2. Defalut rate do not show any pattern with issue year, but it seems to relate with the economic conditions prevailing at that time. Also after 2010 the loans issued on site increased which also increased the loan defaulters. 2014 has peak default rate.\n",
    "3. Interest rate is highly correlated with grade. Riskier the grade more is the interest rate.\n",
    "4. Average interest rate is increasing. It is at peak in 2013 and 2014 which may be a reason for peak default rate in 2014 "
   ]
  },
  {
   "cell_type": "code",
   "execution_count": 42,
   "metadata": {
    "ExecuteTime": {
     "end_time": "2019-01-26T14:22:49.560422Z",
     "start_time": "2019-01-26T14:22:49.537531Z"
    }
   },
   "outputs": [],
   "source": [
    "def get_default_rate_by_col(column):\n",
    "    \"\"\"\n",
    "    Param:\n",
    "        column: str, column for which default rate is to be calculated for it's unique values. Column must have limited\n",
    "        unique values.\n",
    "    \"\"\"\n",
    "    tmp=pd.DataFrame(data[data['loan_status']=='Default'][column].value_counts()/data[column].value_counts())\n",
    "    tmp.columns=[column+'_Default_Rate']\n",
    "    tmp=tmp.join(data[column].value_counts())\n",
    "    tmp.columns=[column+'_Default_Rate',column+'_Count']\n",
    "    return tmp"
   ]
  },
  {
   "cell_type": "code",
   "execution_count": 43,
   "metadata": {
    "ExecuteTime": {
     "end_time": "2019-01-26T14:22:49.911295Z",
     "start_time": "2019-01-26T14:22:49.561385Z"
    }
   },
   "outputs": [],
   "source": [
    "# Create a column issue_year which has year in which the loan was issued.\n",
    "data['issue_year']=data['issue_d'].apply(lambda x:int(x.split('-')[1]))"
   ]
  },
  {
   "cell_type": "code",
   "execution_count": 44,
   "metadata": {
    "ExecuteTime": {
     "end_time": "2019-01-26T14:22:50.133252Z",
     "start_time": "2019-01-26T14:22:49.913839Z"
    },
    "scrolled": true
   },
   "outputs": [
    {
     "data": {
      "text/plain": [
       "Text(0.5, 1.0, 'Default Rate Vs. Grade')"
      ]
     },
     "execution_count": 44,
     "metadata": {},
     "output_type": "execute_result"
    },
    {
     "data": {
      "image/png": "[encoded data removed]",
      "text/plain": [
       "<Figure size 432x288 with 1 Axes>"
      ]
     },
     "metadata": {
      "needs_background": "light"
     },
     "output_type": "display_data"
    }
   ],
   "source": [
    "default_rate_by_grade=get_default_rate_by_col('grade')\n",
    "plt.bar(x=default_rate_by_grade.index,height=default_rate_by_grade['grade_Default_Rate'])\n",
    "plt.title('Default Rate Vs. Grade')"
   ]
  },
  {
   "cell_type": "code",
   "execution_count": 45,
   "metadata": {
    "ExecuteTime": {
     "end_time": "2019-01-26T14:22:50.309794Z",
     "start_time": "2019-01-26T14:22:50.135248Z"
    },
    "scrolled": true
   },
   "outputs": [
    {
     "data": {
      "text/plain": [
       "Text(0.5, 1.0, 'Default Rate Vs. Issue Year')"
      ]
     },
     "execution_count": 45,
     "metadata": {},
     "output_type": "execute_result"
    },
    {
     "data": {
      "image/png": "[encoded data removed]",
      "text/plain": [
       "<Figure size 432x288 with 1 Axes>"
      ]
     },
     "metadata": {
      "needs_background": "light"
     },
     "output_type": "display_data"
    }
   ],
   "source": [
    "default_rate_by_year=get_default_rate_by_col('issue_year')\n",
    "plt.plot(default_rate_by_year['issue_year_Default_Rate'].sort_index())\n",
    "plt.title('Default Rate Vs. Issue Year')"
   ]
  },
  {
   "cell_type": "code",
   "execution_count": 46,
   "metadata": {
    "ExecuteTime": {
     "end_time": "2019-01-26T14:22:50.426494Z",
     "start_time": "2019-01-26T14:22:50.311775Z"
    }
   },
   "outputs": [
    {
     "ename": "KeyError",
     "evalue": "'int_rate'",
     "output_type": "error",
     "traceback": [
      "\u001b[1;31m---------------------------------------------------------------------------\u001b[0m",
      "\u001b[1;31mKeyError\u001b[0m                                  Traceback (most recent call last)",
      "\u001b[1;32m~\\anaconda3\\lib\\site-packages\\pandas\\core\\indexes\\base.py\u001b[0m in \u001b[0;36mget_loc\u001b[1;34m(self, key, method, tolerance)\u001b[0m\n\u001b[0;32m   3360\u001b[0m             \u001b[1;32mtry\u001b[0m\u001b[1;33m:\u001b[0m\u001b[1;33m\u001b[0m\u001b[1;33m\u001b[0m\u001b[0m\n\u001b[1;32m-> 3361\u001b[1;33m                 \u001b[1;32mreturn\u001b[0m \u001b[0mself\u001b[0m\u001b[1;33m.\u001b[0m\u001b[0m_engine\u001b[0m\u001b[1;33m.\u001b[0m\u001b[0mget_loc\u001b[0m\u001b[1;33m(\u001b[0m\u001b[0mcasted_key\u001b[0m\u001b[1;33m)\u001b[0m\u001b[1;33m\u001b[0m\u001b[1;33m\u001b[0m\u001b[0m\n\u001b[0m\u001b[0;32m   3362\u001b[0m             \u001b[1;32mexcept\u001b[0m \u001b[0mKeyError\u001b[0m \u001b[1;32mas\u001b[0m \u001b[0merr\u001b[0m\u001b[1;33m:\u001b[0m\u001b[1;33m\u001b[0m\u001b[1;33m\u001b[0m\u001b[0m\n",
      "\u001b[1;32m~\\anaconda3\\lib\\site-packages\\pandas\\_libs\\index.pyx\u001b[0m in \u001b[0;36mpandas._libs.index.IndexEngine.get_loc\u001b[1;34m()\u001b[0m\n",
      "\u001b[1;32m~\\anaconda3\\lib\\site-packages\\pandas\\_libs\\index.pyx\u001b[0m in \u001b[0;36mpandas._libs.index.IndexEngine.get_loc\u001b[1;34m()\u001b[0m\n",
      "\u001b[1;32mpandas\\_libs\\hashtable_class_helper.pxi\u001b[0m in \u001b[0;36mpandas._libs.hashtable.PyObjectHashTable.get_item\u001b[1;34m()\u001b[0m\n",
      "\u001b[1;32mpandas\\_libs\\hashtable_class_helper.pxi\u001b[0m in \u001b[0;36mpandas._libs.hashtable.PyObjectHashTable.get_item\u001b[1;34m()\u001b[0m\n",
      "\u001b[1;31mKeyError\u001b[0m: 'int_rate'",
      "\nThe above exception was the direct cause of the following exception:\n",
      "\u001b[1;31mKeyError\u001b[0m                                  Traceback (most recent call last)",
      "\u001b[1;32mC:\\Users\\SRIJON~1\\AppData\\Local\\Temp/ipykernel_54248/1716571514.py\u001b[0m in \u001b[0;36m<module>\u001b[1;34m\u001b[0m\n\u001b[0;32m      1\u001b[0m \u001b[0minterest_by_grade\u001b[0m\u001b[1;33m=\u001b[0m\u001b[0mdata\u001b[0m\u001b[1;33m[\u001b[0m\u001b[1;33m[\u001b[0m\u001b[1;34m'int_rate'\u001b[0m\u001b[1;33m,\u001b[0m\u001b[1;34m'grade'\u001b[0m\u001b[1;33m]\u001b[0m\u001b[1;33m]\u001b[0m\u001b[1;33m.\u001b[0m\u001b[0mgroupby\u001b[0m\u001b[1;33m(\u001b[0m\u001b[1;34m'grade'\u001b[0m\u001b[1;33m)\u001b[0m\u001b[1;33m.\u001b[0m\u001b[0mmean\u001b[0m\u001b[1;33m(\u001b[0m\u001b[1;33m)\u001b[0m\u001b[1;33m\u001b[0m\u001b[1;33m\u001b[0m\u001b[0m\n\u001b[1;32m----> 2\u001b[1;33m \u001b[0mplt\u001b[0m\u001b[1;33m.\u001b[0m\u001b[0mbar\u001b[0m\u001b[1;33m(\u001b[0m\u001b[0mx\u001b[0m\u001b[1;33m=\u001b[0m\u001b[0minterest_by_grade\u001b[0m\u001b[1;33m.\u001b[0m\u001b[0mindex\u001b[0m\u001b[1;33m,\u001b[0m\u001b[0mheight\u001b[0m\u001b[1;33m=\u001b[0m\u001b[0minterest_by_grade\u001b[0m\u001b[1;33m[\u001b[0m\u001b[1;34m'int_rate'\u001b[0m\u001b[1;33m]\u001b[0m\u001b[1;33m)\u001b[0m\u001b[1;33m\u001b[0m\u001b[1;33m\u001b[0m\u001b[0m\n\u001b[0m\u001b[0;32m      3\u001b[0m \u001b[0mplt\u001b[0m\u001b[1;33m.\u001b[0m\u001b[0mtitle\u001b[0m\u001b[1;33m(\u001b[0m\u001b[1;34m'Interest Rate Vs. Grade'\u001b[0m\u001b[1;33m)\u001b[0m\u001b[1;33m\u001b[0m\u001b[1;33m\u001b[0m\u001b[0m\n",
      "\u001b[1;32m~\\anaconda3\\lib\\site-packages\\pandas\\core\\frame.py\u001b[0m in \u001b[0;36m__getitem__\u001b[1;34m(self, key)\u001b[0m\n\u001b[0;32m   3456\u001b[0m             \u001b[1;32mif\u001b[0m \u001b[0mself\u001b[0m\u001b[1;33m.\u001b[0m\u001b[0mcolumns\u001b[0m\u001b[1;33m.\u001b[0m\u001b[0mnlevels\u001b[0m \u001b[1;33m>\u001b[0m \u001b[1;36m1\u001b[0m\u001b[1;33m:\u001b[0m\u001b[1;33m\u001b[0m\u001b[1;33m\u001b[0m\u001b[0m\n\u001b[0;32m   3457\u001b[0m                 \u001b[1;32mreturn\u001b[0m \u001b[0mself\u001b[0m\u001b[1;33m.\u001b[0m\u001b[0m_getitem_multilevel\u001b[0m\u001b[1;33m(\u001b[0m\u001b[0mkey\u001b[0m\u001b[1;33m)\u001b[0m\u001b[1;33m\u001b[0m\u001b[1;33m\u001b[0m\u001b[0m\n\u001b[1;32m-> 3458\u001b[1;33m             \u001b[0mindexer\u001b[0m \u001b[1;33m=\u001b[0m \u001b[0mself\u001b[0m\u001b[1;33m.\u001b[0m\u001b[0mcolumns\u001b[0m\u001b[1;33m.\u001b[0m\u001b[0mget_loc\u001b[0m\u001b[1;33m(\u001b[0m\u001b[0mkey\u001b[0m\u001b[1;33m)\u001b[0m\u001b[1;33m\u001b[0m\u001b[1;33m\u001b[0m\u001b[0m\n\u001b[0m\u001b[0;32m   3459\u001b[0m             \u001b[1;32mif\u001b[0m \u001b[0mis_integer\u001b[0m\u001b[1;33m(\u001b[0m\u001b[0mindexer\u001b[0m\u001b[1;33m)\u001b[0m\u001b[1;33m:\u001b[0m\u001b[1;33m\u001b[0m\u001b[1;33m\u001b[0m\u001b[0m\n\u001b[0;32m   3460\u001b[0m                 \u001b[0mindexer\u001b[0m \u001b[1;33m=\u001b[0m \u001b[1;33m[\u001b[0m\u001b[0mindexer\u001b[0m\u001b[1;33m]\u001b[0m\u001b[1;33m\u001b[0m\u001b[1;33m\u001b[0m\u001b[0m\n",
      "\u001b[1;32m~\\anaconda3\\lib\\site-packages\\pandas\\core\\indexes\\base.py\u001b[0m in \u001b[0;36mget_loc\u001b[1;34m(self, key, method, tolerance)\u001b[0m\n\u001b[0;32m   3361\u001b[0m                 \u001b[1;32mreturn\u001b[0m \u001b[0mself\u001b[0m\u001b[1;33m.\u001b[0m\u001b[0m_engine\u001b[0m\u001b[1;33m.\u001b[0m\u001b[0mget_loc\u001b[0m\u001b[1;33m(\u001b[0m\u001b[0mcasted_key\u001b[0m\u001b[1;33m)\u001b[0m\u001b[1;33m\u001b[0m\u001b[1;33m\u001b[0m\u001b[0m\n\u001b[0;32m   3362\u001b[0m             \u001b[1;32mexcept\u001b[0m \u001b[0mKeyError\u001b[0m \u001b[1;32mas\u001b[0m \u001b[0merr\u001b[0m\u001b[1;33m:\u001b[0m\u001b[1;33m\u001b[0m\u001b[1;33m\u001b[0m\u001b[0m\n\u001b[1;32m-> 3363\u001b[1;33m                 \u001b[1;32mraise\u001b[0m \u001b[0mKeyError\u001b[0m\u001b[1;33m(\u001b[0m\u001b[0mkey\u001b[0m\u001b[1;33m)\u001b[0m \u001b[1;32mfrom\u001b[0m \u001b[0merr\u001b[0m\u001b[1;33m\u001b[0m\u001b[1;33m\u001b[0m\u001b[0m\n\u001b[0m\u001b[0;32m   3364\u001b[0m \u001b[1;33m\u001b[0m\u001b[0m\n\u001b[0;32m   3365\u001b[0m         \u001b[1;32mif\u001b[0m \u001b[0mis_scalar\u001b[0m\u001b[1;33m(\u001b[0m\u001b[0mkey\u001b[0m\u001b[1;33m)\u001b[0m \u001b[1;32mand\u001b[0m \u001b[0misna\u001b[0m\u001b[1;33m(\u001b[0m\u001b[0mkey\u001b[0m\u001b[1;33m)\u001b[0m \u001b[1;32mand\u001b[0m \u001b[1;32mnot\u001b[0m \u001b[0mself\u001b[0m\u001b[1;33m.\u001b[0m\u001b[0mhasnans\u001b[0m\u001b[1;33m:\u001b[0m\u001b[1;33m\u001b[0m\u001b[1;33m\u001b[0m\u001b[0m\n",
      "\u001b[1;31mKeyError\u001b[0m: 'int_rate'"
     ]
    }
   ],
   "source": [
    "interest_by_grade=data[['int_rate','grade']].groupby('grade').mean()\n",
    "plt.bar(x=interest_by_grade.index,height=interest_by_grade['int_rate'])\n",
    "plt.title('Interest Rate Vs. Grade')"
   ]
  },
  {
   "cell_type": "code",
   "execution_count": 41,
   "metadata": {
    "ExecuteTime": {
     "end_time": "2019-01-26T14:22:50.572342Z",
     "start_time": "2019-01-26T14:22:50.428474Z"
    }
   },
   "outputs": [
    {
     "ename": "ZeroDivisionError",
     "evalue": "integer division or modulo by zero",
     "output_type": "error",
     "traceback": [
      "\u001b[1;31m---------------------------------------------------------------------------\u001b[0m",
      "\u001b[1;31mZeroDivisionError\u001b[0m                         Traceback (most recent call last)",
      "\u001b[1;32mC:\\Users\\SRIJON~1\\AppData\\Local\\Temp/ipykernel_54248/2468522129.py\u001b[0m in \u001b[0;36m<module>\u001b[1;34m\u001b[0m\n\u001b[0;32m      1\u001b[0m \u001b[0minterest_by_year\u001b[0m\u001b[1;33m=\u001b[0m\u001b[0mdata\u001b[0m\u001b[1;33m[\u001b[0m\u001b[1;33m[\u001b[0m\u001b[1;34m'int_rate'\u001b[0m\u001b[1;33m,\u001b[0m\u001b[1;34m'issue_year'\u001b[0m\u001b[1;33m]\u001b[0m\u001b[1;33m]\u001b[0m\u001b[1;33m.\u001b[0m\u001b[0mgroupby\u001b[0m\u001b[1;33m(\u001b[0m\u001b[1;34m'issue_year'\u001b[0m\u001b[1;33m)\u001b[0m\u001b[1;33m.\u001b[0m\u001b[0mmean\u001b[0m\u001b[1;33m(\u001b[0m\u001b[1;33m)\u001b[0m\u001b[1;33m\u001b[0m\u001b[1;33m\u001b[0m\u001b[0m\n\u001b[1;32m----> 2\u001b[1;33m \u001b[0mplt\u001b[0m\u001b[1;33m.\u001b[0m\u001b[0mplot\u001b[0m\u001b[1;33m(\u001b[0m\u001b[0minterest_by_year\u001b[0m\u001b[1;33m.\u001b[0m\u001b[0msort_index\u001b[0m\u001b[1;33m(\u001b[0m\u001b[1;33m)\u001b[0m\u001b[1;33m)\u001b[0m\u001b[1;33m\u001b[0m\u001b[1;33m\u001b[0m\u001b[0m\n\u001b[0m\u001b[0;32m      3\u001b[0m \u001b[0mplt\u001b[0m\u001b[1;33m.\u001b[0m\u001b[0mtitle\u001b[0m\u001b[1;33m(\u001b[0m\u001b[1;34m'Interest Rate Vs. Year'\u001b[0m\u001b[1;33m)\u001b[0m\u001b[1;33m\u001b[0m\u001b[1;33m\u001b[0m\u001b[0m\n",
      "\u001b[1;32m~\\anaconda3\\lib\\site-packages\\matplotlib\\pyplot.py\u001b[0m in \u001b[0;36mplot\u001b[1;34m(scalex, scaley, data, *args, **kwargs)\u001b[0m\n\u001b[0;32m   3017\u001b[0m \u001b[1;33m@\u001b[0m\u001b[0m_copy_docstring_and_deprecators\u001b[0m\u001b[1;33m(\u001b[0m\u001b[0mAxes\u001b[0m\u001b[1;33m.\u001b[0m\u001b[0mplot\u001b[0m\u001b[1;33m)\u001b[0m\u001b[1;33m\u001b[0m\u001b[1;33m\u001b[0m\u001b[0m\n\u001b[0;32m   3018\u001b[0m \u001b[1;32mdef\u001b[0m \u001b[0mplot\u001b[0m\u001b[1;33m(\u001b[0m\u001b[1;33m*\u001b[0m\u001b[0margs\u001b[0m\u001b[1;33m,\u001b[0m \u001b[0mscalex\u001b[0m\u001b[1;33m=\u001b[0m\u001b[1;32mTrue\u001b[0m\u001b[1;33m,\u001b[0m \u001b[0mscaley\u001b[0m\u001b[1;33m=\u001b[0m\u001b[1;32mTrue\u001b[0m\u001b[1;33m,\u001b[0m \u001b[0mdata\u001b[0m\u001b[1;33m=\u001b[0m\u001b[1;32mNone\u001b[0m\u001b[1;33m,\u001b[0m \u001b[1;33m**\u001b[0m\u001b[0mkwargs\u001b[0m\u001b[1;33m)\u001b[0m\u001b[1;33m:\u001b[0m\u001b[1;33m\u001b[0m\u001b[1;33m\u001b[0m\u001b[0m\n\u001b[1;32m-> 3019\u001b[1;33m     return gca().plot(\n\u001b[0m\u001b[0;32m   3020\u001b[0m         \u001b[1;33m*\u001b[0m\u001b[0margs\u001b[0m\u001b[1;33m,\u001b[0m \u001b[0mscalex\u001b[0m\u001b[1;33m=\u001b[0m\u001b[0mscalex\u001b[0m\u001b[1;33m,\u001b[0m \u001b[0mscaley\u001b[0m\u001b[1;33m=\u001b[0m\u001b[0mscaley\u001b[0m\u001b[1;33m,\u001b[0m\u001b[1;33m\u001b[0m\u001b[1;33m\u001b[0m\u001b[0m\n\u001b[0;32m   3021\u001b[0m         **({\"data\": data} if data is not None else {}), **kwargs)\n",
      "\u001b[1;32m~\\anaconda3\\lib\\site-packages\\matplotlib\\axes\\_axes.py\u001b[0m in \u001b[0;36mplot\u001b[1;34m(self, scalex, scaley, data, *args, **kwargs)\u001b[0m\n\u001b[0;32m   1603\u001b[0m         \"\"\"\n\u001b[0;32m   1604\u001b[0m         \u001b[0mkwargs\u001b[0m \u001b[1;33m=\u001b[0m \u001b[0mcbook\u001b[0m\u001b[1;33m.\u001b[0m\u001b[0mnormalize_kwargs\u001b[0m\u001b[1;33m(\u001b[0m\u001b[0mkwargs\u001b[0m\u001b[1;33m,\u001b[0m \u001b[0mmlines\u001b[0m\u001b[1;33m.\u001b[0m\u001b[0mLine2D\u001b[0m\u001b[1;33m)\u001b[0m\u001b[1;33m\u001b[0m\u001b[1;33m\u001b[0m\u001b[0m\n\u001b[1;32m-> 1605\u001b[1;33m         \u001b[0mlines\u001b[0m \u001b[1;33m=\u001b[0m \u001b[1;33m[\u001b[0m\u001b[1;33m*\u001b[0m\u001b[0mself\u001b[0m\u001b[1;33m.\u001b[0m\u001b[0m_get_lines\u001b[0m\u001b[1;33m(\u001b[0m\u001b[1;33m*\u001b[0m\u001b[0margs\u001b[0m\u001b[1;33m,\u001b[0m \u001b[0mdata\u001b[0m\u001b[1;33m=\u001b[0m\u001b[0mdata\u001b[0m\u001b[1;33m,\u001b[0m \u001b[1;33m**\u001b[0m\u001b[0mkwargs\u001b[0m\u001b[1;33m)\u001b[0m\u001b[1;33m]\u001b[0m\u001b[1;33m\u001b[0m\u001b[1;33m\u001b[0m\u001b[0m\n\u001b[0m\u001b[0;32m   1606\u001b[0m         \u001b[1;32mfor\u001b[0m \u001b[0mline\u001b[0m \u001b[1;32min\u001b[0m \u001b[0mlines\u001b[0m\u001b[1;33m:\u001b[0m\u001b[1;33m\u001b[0m\u001b[1;33m\u001b[0m\u001b[0m\n\u001b[0;32m   1607\u001b[0m             \u001b[0mself\u001b[0m\u001b[1;33m.\u001b[0m\u001b[0madd_line\u001b[0m\u001b[1;33m(\u001b[0m\u001b[0mline\u001b[0m\u001b[1;33m)\u001b[0m\u001b[1;33m\u001b[0m\u001b[1;33m\u001b[0m\u001b[0m\n",
      "\u001b[1;32m~\\anaconda3\\lib\\site-packages\\matplotlib\\axes\\_base.py\u001b[0m in \u001b[0;36m__call__\u001b[1;34m(self, data, *args, **kwargs)\u001b[0m\n\u001b[0;32m    313\u001b[0m                 \u001b[0mthis\u001b[0m \u001b[1;33m+=\u001b[0m \u001b[0margs\u001b[0m\u001b[1;33m[\u001b[0m\u001b[1;36m0\u001b[0m\u001b[1;33m]\u001b[0m\u001b[1;33m,\u001b[0m\u001b[1;33m\u001b[0m\u001b[1;33m\u001b[0m\u001b[0m\n\u001b[0;32m    314\u001b[0m                 \u001b[0margs\u001b[0m \u001b[1;33m=\u001b[0m \u001b[0margs\u001b[0m\u001b[1;33m[\u001b[0m\u001b[1;36m1\u001b[0m\u001b[1;33m:\u001b[0m\u001b[1;33m]\u001b[0m\u001b[1;33m\u001b[0m\u001b[1;33m\u001b[0m\u001b[0m\n\u001b[1;32m--> 315\u001b[1;33m             \u001b[1;32myield\u001b[0m \u001b[1;32mfrom\u001b[0m \u001b[0mself\u001b[0m\u001b[1;33m.\u001b[0m\u001b[0m_plot_args\u001b[0m\u001b[1;33m(\u001b[0m\u001b[0mthis\u001b[0m\u001b[1;33m,\u001b[0m \u001b[0mkwargs\u001b[0m\u001b[1;33m)\u001b[0m\u001b[1;33m\u001b[0m\u001b[1;33m\u001b[0m\u001b[0m\n\u001b[0m\u001b[0;32m    316\u001b[0m \u001b[1;33m\u001b[0m\u001b[0m\n\u001b[0;32m    317\u001b[0m     \u001b[1;32mdef\u001b[0m \u001b[0mget_next_color\u001b[0m\u001b[1;33m(\u001b[0m\u001b[0mself\u001b[0m\u001b[1;33m)\u001b[0m\u001b[1;33m:\u001b[0m\u001b[1;33m\u001b[0m\u001b[1;33m\u001b[0m\u001b[0m\n",
      "\u001b[1;32m~\\anaconda3\\lib\\site-packages\\matplotlib\\axes\\_base.py\u001b[0m in \u001b[0;36m_plot_args\u001b[1;34m(self, tup, kwargs, return_kwargs)\u001b[0m\n\u001b[0;32m    537\u001b[0m             \u001b[1;32mreturn\u001b[0m \u001b[0mlist\u001b[0m\u001b[1;33m(\u001b[0m\u001b[0mresult\u001b[0m\u001b[1;33m)\u001b[0m\u001b[1;33m\u001b[0m\u001b[1;33m\u001b[0m\u001b[0m\n\u001b[0;32m    538\u001b[0m         \u001b[1;32melse\u001b[0m\u001b[1;33m:\u001b[0m\u001b[1;33m\u001b[0m\u001b[1;33m\u001b[0m\u001b[0m\n\u001b[1;32m--> 539\u001b[1;33m             \u001b[1;32mreturn\u001b[0m \u001b[1;33m[\u001b[0m\u001b[0ml\u001b[0m\u001b[1;33m[\u001b[0m\u001b[1;36m0\u001b[0m\u001b[1;33m]\u001b[0m \u001b[1;32mfor\u001b[0m \u001b[0ml\u001b[0m \u001b[1;32min\u001b[0m \u001b[0mresult\u001b[0m\u001b[1;33m]\u001b[0m\u001b[1;33m\u001b[0m\u001b[1;33m\u001b[0m\u001b[0m\n\u001b[0m\u001b[0;32m    540\u001b[0m \u001b[1;33m\u001b[0m\u001b[0m\n\u001b[0;32m    541\u001b[0m \u001b[1;33m\u001b[0m\u001b[0m\n",
      "\u001b[1;32m~\\anaconda3\\lib\\site-packages\\matplotlib\\axes\\_base.py\u001b[0m in \u001b[0;36m<listcomp>\u001b[1;34m(.0)\u001b[0m\n\u001b[0;32m    537\u001b[0m             \u001b[1;32mreturn\u001b[0m \u001b[0mlist\u001b[0m\u001b[1;33m(\u001b[0m\u001b[0mresult\u001b[0m\u001b[1;33m)\u001b[0m\u001b[1;33m\u001b[0m\u001b[1;33m\u001b[0m\u001b[0m\n\u001b[0;32m    538\u001b[0m         \u001b[1;32melse\u001b[0m\u001b[1;33m:\u001b[0m\u001b[1;33m\u001b[0m\u001b[1;33m\u001b[0m\u001b[0m\n\u001b[1;32m--> 539\u001b[1;33m             \u001b[1;32mreturn\u001b[0m \u001b[1;33m[\u001b[0m\u001b[0ml\u001b[0m\u001b[1;33m[\u001b[0m\u001b[1;36m0\u001b[0m\u001b[1;33m]\u001b[0m \u001b[1;32mfor\u001b[0m \u001b[0ml\u001b[0m \u001b[1;32min\u001b[0m \u001b[0mresult\u001b[0m\u001b[1;33m]\u001b[0m\u001b[1;33m\u001b[0m\u001b[1;33m\u001b[0m\u001b[0m\n\u001b[0m\u001b[0;32m    540\u001b[0m \u001b[1;33m\u001b[0m\u001b[0m\n\u001b[0;32m    541\u001b[0m \u001b[1;33m\u001b[0m\u001b[0m\n",
      "\u001b[1;32m~\\anaconda3\\lib\\site-packages\\matplotlib\\axes\\_base.py\u001b[0m in \u001b[0;36m<genexpr>\u001b[1;34m(.0)\u001b[0m\n\u001b[0;32m    530\u001b[0m             \u001b[0mlabels\u001b[0m \u001b[1;33m=\u001b[0m \u001b[1;33m[\u001b[0m\u001b[0mlabel\u001b[0m\u001b[1;33m]\u001b[0m \u001b[1;33m*\u001b[0m \u001b[0mn_datasets\u001b[0m\u001b[1;33m\u001b[0m\u001b[1;33m\u001b[0m\u001b[0m\n\u001b[0;32m    531\u001b[0m \u001b[1;33m\u001b[0m\u001b[0m\n\u001b[1;32m--> 532\u001b[1;33m         result = (make_artist(x[:, j % ncx], y[:, j % ncy], kw,\n\u001b[0m\u001b[0;32m    533\u001b[0m                               {**kwargs, 'label': label})\n\u001b[0;32m    534\u001b[0m                   for j, label in enumerate(labels))\n",
      "\u001b[1;31mZeroDivisionError\u001b[0m: integer division or modulo by zero"
     ]
    },
    {
     "data": {
      "image/png": "[encoded data removed]",
      "text/plain": [
       "<Figure size 432x288 with 1 Axes>"
      ]
     },
     "metadata": {
      "needs_background": "light"
     },
     "output_type": "display_data"
    }
   ],
   "source": [
    "interest_by_year=data[['int_rate','issue_year']].groupby('issue_year').mean()\n",
    "plt.plot(interest_by_year.sort_index())\n",
    "plt.title('Interest Rate Vs. Year')"
   ]
  },
  {
   "cell_type": "code",
   "execution_count": null,
   "metadata": {},
   "outputs": [],
   "source": []
  },
  {
   "cell_type": "markdown",
   "metadata": {},
   "source": [
    "Look at the ** Return on Investment **\n",
    "\n",
    "ROI = total_pymnt (amount returned by borrower) / funded_amnt\n",
    "\n",
    "1. Total ROI is in negative as we are considering defaulted records also. As defaulted records generally have higher loan amounts, it moves overall ROI to negative side.\n",
    "2. For riskier grades, overall ROI (incl. defaulted loans) decreases.\n",
    "3. If we consider fully paid loans, then ROI is more for riskier grades."
   ]
  },
  {
   "cell_type": "code",
   "execution_count": 31,
   "metadata": {
    "ExecuteTime": {
     "end_time": "2019-01-26T14:22:50.614253Z",
     "start_time": "2019-01-26T14:22:50.575333Z"
    }
   },
   "outputs": [
    {
     "name": "stdout",
     "output_type": "stream",
     "text": [
      "ROI: -2.65\n"
     ]
    }
   ],
   "source": [
    "tmp=data[['total_pymnt','funded_amnt','loan_status','grade']]\n",
    "roi=(tmp['total_pymnt'].sum()/tmp['funded_amnt'].sum()-1)*100\n",
    "print(\"ROI:\",round(roi,2))"
   ]
  },
  {
   "cell_type": "code",
   "execution_count": 32,
   "metadata": {
    "ExecuteTime": {
     "end_time": "2019-01-26T14:22:50.765178Z",
     "start_time": "2019-01-26T14:22:50.617220Z"
    }
   },
   "outputs": [
    {
     "data": {
      "text/plain": [
       "grade\n",
       "A    0.034525\n",
       "B    0.027576\n",
       "C   -0.024436\n",
       "D   -0.071834\n",
       "E   -0.115351\n",
       "F   -0.137799\n",
       "G   -0.165548\n",
       "dtype: float64"
      ]
     },
     "execution_count": 32,
     "metadata": {},
     "output_type": "execute_result"
    }
   ],
   "source": [
    "tmp1=tmp.groupby('grade').sum()\n",
    "ROI_by_grade=tmp1['total_pymnt']/tmp1['funded_amnt'] -1\n",
    "ROI_by_grade"
   ]
  },
  {
   "cell_type": "code",
   "execution_count": 33,
   "metadata": {
    "ExecuteTime": {
     "end_time": "2019-01-26T14:22:51.019854Z",
     "start_time": "2019-01-26T14:22:50.767171Z"
    }
   },
   "outputs": [
    {
     "name": "stdout",
     "output_type": "stream",
     "text": [
      "ROI for fully paid loans: 14.13\n"
     ]
    }
   ],
   "source": [
    "tmp=data[data['loan_status']=='Fully Paid'][['total_pymnt','funded_amnt','loan_status','grade']]\n",
    "roi=(tmp['total_pymnt'].sum()/tmp['funded_amnt'].sum()-1)*100\n",
    "print(\"ROI for fully paid loans:\",round(roi,2))"
   ]
  },
  {
   "cell_type": "code",
   "execution_count": 34,
   "metadata": {
    "ExecuteTime": {
     "end_time": "2019-01-26T14:22:51.043781Z",
     "start_time": "2019-01-26T14:22:51.021840Z"
    }
   },
   "outputs": [
    {
     "data": {
      "text/plain": [
       "grade\n",
       "A    0.079777\n",
       "B    0.125364\n",
       "C    0.149117\n",
       "D    0.175479\n",
       "E    0.197441\n",
       "F    0.228829\n",
       "G    0.238275\n",
       "dtype: float64"
      ]
     },
     "execution_count": 34,
     "metadata": {},
     "output_type": "execute_result"
    }
   ],
   "source": [
    "#Gradewise ROI for fully paid loans\n",
    "tmp1=tmp.groupby('grade').sum()\n",
    "fully_paid_ROI_by_grade=tmp1['total_pymnt']/tmp1['funded_amnt'] -1\n",
    "fully_paid_ROI_by_grade"
   ]
  },
  {
   "cell_type": "code",
   "execution_count": null,
   "metadata": {},
   "outputs": [],
   "source": []
  },
  {
   "cell_type": "markdown",
   "metadata": {},
   "source": [
    "### Data Cleaning 1:\n",
    "This is initial phase of data cleaning where I am dropping columns by looking at the their decription and the number of null values. As we want to predict loan_status when applicant applies for loan, I have deleted columns which leak information about future.\n",
    "e.g. 'funded_amt', 'last_pymnt_amnt', 'installment', etc."
   ]
  },
  {
   "cell_type": "code",
   "execution_count": 35,
   "metadata": {
    "ExecuteTime": {
     "end_time": "2019-01-26T14:22:51.183861Z",
     "start_time": "2019-01-26T14:22:51.045783Z"
    },
    "scrolled": true
   },
   "outputs": [
    {
     "data": {
      "text/html": [
       "<div>\n",
       "<style scoped>\n",
       "    .dataframe tbody tr th:only-of-type {\n",
       "        vertical-align: middle;\n",
       "    }\n",
       "\n",
       "    .dataframe tbody tr th {\n",
       "        vertical-align: top;\n",
       "    }\n",
       "\n",
       "    .dataframe thead th {\n",
       "        text-align: right;\n",
       "    }\n",
       "</style>\n",
       "<table border=\"1\" class=\"dataframe\">\n",
       "  <thead>\n",
       "    <tr style=\"text-align: right;\">\n",
       "      <th></th>\n",
       "      <th>LoanStatNew</th>\n",
       "      <th>dtype</th>\n",
       "      <th>first value</th>\n",
       "      <th>Description</th>\n",
       "      <th>Nulls</th>\n",
       "    </tr>\n",
       "  </thead>\n",
       "  <tbody>\n",
       "    <tr>\n",
       "      <th>0</th>\n",
       "      <td>id</td>\n",
       "      <td>int64</td>\n",
       "      <td>1077501</td>\n",
       "      <td>A unique LC assigned ID for the loan listing.</td>\n",
       "      <td>0</td>\n",
       "    </tr>\n",
       "    <tr>\n",
       "      <th>1</th>\n",
       "      <td>member_id</td>\n",
       "      <td>int64</td>\n",
       "      <td>1296599</td>\n",
       "      <td>A unique LC assigned Id for the borrower member.</td>\n",
       "      <td>0</td>\n",
       "    </tr>\n",
       "    <tr>\n",
       "      <th>2</th>\n",
       "      <td>loan_amnt</td>\n",
       "      <td>float64</td>\n",
       "      <td>5000</td>\n",
       "      <td>The listed amount of the loan applied for by the borrower. If at some point in time, the credit department reduces the loan amount, then it will be reflected in this value.</td>\n",
       "      <td>0</td>\n",
       "    </tr>\n",
       "    <tr>\n",
       "      <th>3</th>\n",
       "      <td>funded_amnt</td>\n",
       "      <td>float64</td>\n",
       "      <td>5000</td>\n",
       "      <td>The total amount committed to that loan at that point in time.</td>\n",
       "      <td>0</td>\n",
       "    </tr>\n",
       "    <tr>\n",
       "      <th>4</th>\n",
       "      <td>funded_amnt_inv</td>\n",
       "      <td>float64</td>\n",
       "      <td>4975</td>\n",
       "      <td>The total amount committed by investors for that loan at that point in time.</td>\n",
       "      <td>0</td>\n",
       "    </tr>\n",
       "    <tr>\n",
       "      <th>5</th>\n",
       "      <td>term</td>\n",
       "      <td>object</td>\n",
       "      <td>36 months</td>\n",
       "      <td>The number of payments on the loan. Values are in months and can be either 36 or 60.</td>\n",
       "      <td>0</td>\n",
       "    </tr>\n",
       "    <tr>\n",
       "      <th>6</th>\n",
       "      <td>int_rate</td>\n",
       "      <td>float64</td>\n",
       "      <td>10.65</td>\n",
       "      <td>Interest Rate on the loan</td>\n",
       "      <td>0</td>\n",
       "    </tr>\n",
       "    <tr>\n",
       "      <th>7</th>\n",
       "      <td>installment</td>\n",
       "      <td>float64</td>\n",
       "      <td>162.87</td>\n",
       "      <td>The monthly payment owed by the borrower if the loan originates.</td>\n",
       "      <td>0</td>\n",
       "    </tr>\n",
       "    <tr>\n",
       "      <th>8</th>\n",
       "      <td>grade</td>\n",
       "      <td>object</td>\n",
       "      <td>B</td>\n",
       "      <td>LC assigned loan grade</td>\n",
       "      <td>0</td>\n",
       "    </tr>\n",
       "    <tr>\n",
       "      <th>9</th>\n",
       "      <td>sub_grade</td>\n",
       "      <td>object</td>\n",
       "      <td>B2</td>\n",
       "      <td>LC assigned loan subgrade</td>\n",
       "      <td>0</td>\n",
       "    </tr>\n",
       "    <tr>\n",
       "      <th>10</th>\n",
       "      <td>emp_title</td>\n",
       "      <td>object</td>\n",
       "      <td>NaN</td>\n",
       "      <td>The job title supplied by the Borrower when applying for the loan.*</td>\n",
       "      <td>51462</td>\n",
       "    </tr>\n",
       "    <tr>\n",
       "      <th>11</th>\n",
       "      <td>emp_length</td>\n",
       "      <td>object</td>\n",
       "      <td>10+ years</td>\n",
       "      <td>Employment length in years. Possible values are between 0 and 10 where 0 means less than one year and 10 means ten or more years.</td>\n",
       "      <td>44825</td>\n",
       "    </tr>\n",
       "    <tr>\n",
       "      <th>12</th>\n",
       "      <td>home_ownership</td>\n",
       "      <td>object</td>\n",
       "      <td>RENT</td>\n",
       "      <td>The home ownership status provided by the borrower during registration. Our values are: RENT, OWN, MORTGAGE, OTHER.</td>\n",
       "      <td>0</td>\n",
       "    </tr>\n",
       "  </tbody>\n",
       "</table>\n",
       "</div>"
      ],
      "text/plain": [
       "        LoanStatNew    dtype first value  \\\n",
       "0                id    int64     1077501   \n",
       "1         member_id    int64     1296599   \n",
       "2         loan_amnt  float64        5000   \n",
       "3       funded_amnt  float64        5000   \n",
       "4   funded_amnt_inv  float64        4975   \n",
       "5              term   object   36 months   \n",
       "6          int_rate  float64       10.65   \n",
       "7       installment  float64      162.87   \n",
       "8             grade   object           B   \n",
       "9         sub_grade   object          B2   \n",
       "10        emp_title   object         NaN   \n",
       "11       emp_length   object   10+ years   \n",
       "12   home_ownership   object        RENT   \n",
       "\n",
       "                                                                                                                                                                     Description  \\\n",
       "0                                                                                                                                  A unique LC assigned ID for the loan listing.   \n",
       "1                                                                                                                               A unique LC assigned Id for the borrower member.   \n",
       "2   The listed amount of the loan applied for by the borrower. If at some point in time, the credit department reduces the loan amount, then it will be reflected in this value.   \n",
       "3                                                                                                                 The total amount committed to that loan at that point in time.   \n",
       "4                                                                                                   The total amount committed by investors for that loan at that point in time.   \n",
       "5                                                                                           The number of payments on the loan. Values are in months and can be either 36 or 60.   \n",
       "6                                                                                                                                                      Interest Rate on the loan   \n",
       "7                                                                                                               The monthly payment owed by the borrower if the loan originates.   \n",
       "8                                                                                                                                                         LC assigned loan grade   \n",
       "9                                                                                                                                                      LC assigned loan subgrade   \n",
       "10                                                                                                           The job title supplied by the Borrower when applying for the loan.*   \n",
       "11                                            Employment length in years. Possible values are between 0 and 10 where 0 means less than one year and 10 means ten or more years.    \n",
       "12                                                           The home ownership status provided by the borrower during registration. Our values are: RENT, OWN, MORTGAGE, OTHER.   \n",
       "\n",
       "    Nulls  \n",
       "0       0  \n",
       "1       0  \n",
       "2       0  \n",
       "3       0  \n",
       "4       0  \n",
       "5       0  \n",
       "6       0  \n",
       "7       0  \n",
       "8       0  \n",
       "9       0  \n",
       "10  51462  \n",
       "11  44825  \n",
       "12      0  "
      ]
     },
     "execution_count": 35,
     "metadata": {},
     "output_type": "execute_result"
    }
   ],
   "source": [
    "data_col[0:13]"
   ]
  },
  {
   "cell_type": "code",
   "execution_count": 36,
   "metadata": {
    "ExecuteTime": {
     "end_time": "2019-01-26T14:22:51.478520Z",
     "start_time": "2019-01-26T14:22:51.185830Z"
    }
   },
   "outputs": [],
   "source": [
    "#'grade' and 'sub_grade' gives same information\n",
    "data.drop(['id','member_id','funded_amnt','funded_amnt_inv','installment','sub_grade','emp_title'],axis=1,inplace=True)"
   ]
  },
  {
   "cell_type": "code",
   "execution_count": 37,
   "metadata": {
    "ExecuteTime": {
     "end_time": "2019-01-26T14:22:51.605350Z",
     "start_time": "2019-01-26T14:22:51.481512Z"
    },
    "scrolled": true
   },
   "outputs": [
    {
     "data": {
      "text/html": [
       "<div>\n",
       "<style scoped>\n",
       "    .dataframe tbody tr th:only-of-type {\n",
       "        vertical-align: middle;\n",
       "    }\n",
       "\n",
       "    .dataframe tbody tr th {\n",
       "        vertical-align: top;\n",
       "    }\n",
       "\n",
       "    .dataframe thead th {\n",
       "        text-align: right;\n",
       "    }\n",
       "</style>\n",
       "<table border=\"1\" class=\"dataframe\">\n",
       "  <thead>\n",
       "    <tr style=\"text-align: right;\">\n",
       "      <th></th>\n",
       "      <th>LoanStatNew</th>\n",
       "      <th>dtype</th>\n",
       "      <th>first value</th>\n",
       "      <th>Description</th>\n",
       "      <th>Nulls</th>\n",
       "    </tr>\n",
       "  </thead>\n",
       "  <tbody>\n",
       "    <tr>\n",
       "      <th>13</th>\n",
       "      <td>annual_inc</td>\n",
       "      <td>float64</td>\n",
       "      <td>24000</td>\n",
       "      <td>The self-reported annual income provided by the borrower during registration.</td>\n",
       "      <td>4</td>\n",
       "    </tr>\n",
       "    <tr>\n",
       "      <th>14</th>\n",
       "      <td>verification_status</td>\n",
       "      <td>object</td>\n",
       "      <td>Verified</td>\n",
       "      <td>NaN</td>\n",
       "      <td>0</td>\n",
       "    </tr>\n",
       "    <tr>\n",
       "      <th>15</th>\n",
       "      <td>issue_d</td>\n",
       "      <td>object</td>\n",
       "      <td>Dec-2011</td>\n",
       "      <td>The month which the loan was funded</td>\n",
       "      <td>0</td>\n",
       "    </tr>\n",
       "    <tr>\n",
       "      <th>16</th>\n",
       "      <td>loan_status</td>\n",
       "      <td>object</td>\n",
       "      <td>Fully Paid</td>\n",
       "      <td>Current status of the loan</td>\n",
       "      <td>0</td>\n",
       "    </tr>\n",
       "    <tr>\n",
       "      <th>17</th>\n",
       "      <td>pymnt_plan</td>\n",
       "      <td>object</td>\n",
       "      <td>n</td>\n",
       "      <td>Indicates if a payment plan has been put in place for the loan</td>\n",
       "      <td>0</td>\n",
       "    </tr>\n",
       "    <tr>\n",
       "      <th>18</th>\n",
       "      <td>url</td>\n",
       "      <td>object</td>\n",
       "      <td>https://www.lendingclub.com/browse/loanDetail.action?loan_id=1077501</td>\n",
       "      <td>URL for the LC page with listing data.</td>\n",
       "      <td>0</td>\n",
       "    </tr>\n",
       "    <tr>\n",
       "      <th>19</th>\n",
       "      <td>desc</td>\n",
       "      <td>object</td>\n",
       "      <td>Borrower added on 12/22/11 &gt; I need to upgrade my business technologies.&lt;br&gt;</td>\n",
       "      <td>Loan description provided by the borrower</td>\n",
       "      <td>761351</td>\n",
       "    </tr>\n",
       "    <tr>\n",
       "      <th>20</th>\n",
       "      <td>purpose</td>\n",
       "      <td>object</td>\n",
       "      <td>credit_card</td>\n",
       "      <td>A category provided by the borrower for the loan request.</td>\n",
       "      <td>0</td>\n",
       "    </tr>\n",
       "    <tr>\n",
       "      <th>21</th>\n",
       "      <td>title</td>\n",
       "      <td>object</td>\n",
       "      <td>Computer</td>\n",
       "      <td>The loan title provided by the borrower</td>\n",
       "      <td>152</td>\n",
       "    </tr>\n",
       "    <tr>\n",
       "      <th>22</th>\n",
       "      <td>zip_code</td>\n",
       "      <td>object</td>\n",
       "      <td>860xx</td>\n",
       "      <td>The first 3 numbers of the zip code provided by the borrower in the loan application.</td>\n",
       "      <td>0</td>\n",
       "    </tr>\n",
       "    <tr>\n",
       "      <th>23</th>\n",
       "      <td>addr_state</td>\n",
       "      <td>object</td>\n",
       "      <td>AZ</td>\n",
       "      <td>The state provided by the borrower in the loan application</td>\n",
       "      <td>0</td>\n",
       "    </tr>\n",
       "    <tr>\n",
       "      <th>24</th>\n",
       "      <td>dti</td>\n",
       "      <td>float64</td>\n",
       "      <td>27.65</td>\n",
       "      <td>A ratio calculated using the borrower’s total monthly debt payments on the total debt obligations, excluding mortgage and the requested LC loan, divided by the borrower’s self-reported monthly income.</td>\n",
       "      <td>0</td>\n",
       "    </tr>\n",
       "    <tr>\n",
       "      <th>25</th>\n",
       "      <td>delinq_2yrs</td>\n",
       "      <td>float64</td>\n",
       "      <td>0</td>\n",
       "      <td>The number of 30+ days past-due incidences of delinquency in the borrower's credit file for the past 2 years</td>\n",
       "      <td>29</td>\n",
       "    </tr>\n",
       "  </tbody>\n",
       "</table>\n",
       "</div>"
      ],
      "text/plain": [
       "            LoanStatNew    dtype  \\\n",
       "13           annual_inc  float64   \n",
       "14  verification_status   object   \n",
       "15              issue_d   object   \n",
       "16          loan_status   object   \n",
       "17           pymnt_plan   object   \n",
       "18                  url   object   \n",
       "19                 desc   object   \n",
       "20              purpose   object   \n",
       "21                title   object   \n",
       "22             zip_code   object   \n",
       "23           addr_state   object   \n",
       "24                  dti  float64   \n",
       "25          delinq_2yrs  float64   \n",
       "\n",
       "                                                                       first value  \\\n",
       "13                                                                           24000   \n",
       "14                                                                        Verified   \n",
       "15                                                                        Dec-2011   \n",
       "16                                                                      Fully Paid   \n",
       "17                                                                               n   \n",
       "18            https://www.lendingclub.com/browse/loanDetail.action?loan_id=1077501   \n",
       "19    Borrower added on 12/22/11 > I need to upgrade my business technologies.<br>   \n",
       "20                                                                     credit_card   \n",
       "21                                                                        Computer   \n",
       "22                                                                           860xx   \n",
       "23                                                                              AZ   \n",
       "24                                                                           27.65   \n",
       "25                                                                               0   \n",
       "\n",
       "                                                                                                                                                                                                 Description  \\\n",
       "13                                                                                                                             The self-reported annual income provided by the borrower during registration.   \n",
       "14                                                                                                                                                                                                       NaN   \n",
       "15                                                                                                                                                                       The month which the loan was funded   \n",
       "16                                                                                                                                                                                Current status of the loan   \n",
       "17                                                                                                                                            Indicates if a payment plan has been put in place for the loan   \n",
       "18                                                                                                                                                                    URL for the LC page with listing data.   \n",
       "19                                                                                                                                                                 Loan description provided by the borrower   \n",
       "20                                                                                                                                                A category provided by the borrower for the loan request.    \n",
       "21                                                                                                                                                                   The loan title provided by the borrower   \n",
       "22                                                                                                                     The first 3 numbers of the zip code provided by the borrower in the loan application.   \n",
       "23                                                                                                                                                The state provided by the borrower in the loan application   \n",
       "24  A ratio calculated using the borrower’s total monthly debt payments on the total debt obligations, excluding mortgage and the requested LC loan, divided by the borrower’s self-reported monthly income.   \n",
       "25                                                                                              The number of 30+ days past-due incidences of delinquency in the borrower's credit file for the past 2 years   \n",
       "\n",
       "     Nulls  \n",
       "13       4  \n",
       "14       0  \n",
       "15       0  \n",
       "16       0  \n",
       "17       0  \n",
       "18       0  \n",
       "19  761351  \n",
       "20       0  \n",
       "21     152  \n",
       "22       0  \n",
       "23       0  \n",
       "24       0  \n",
       "25      29  "
      ]
     },
     "execution_count": 37,
     "metadata": {},
     "output_type": "execute_result"
    }
   ],
   "source": [
    "data_col[13:26]"
   ]
  },
  {
   "cell_type": "code",
   "execution_count": 38,
   "metadata": {
    "ExecuteTime": {
     "end_time": "2019-01-26T14:22:51.898558Z",
     "start_time": "2019-01-26T14:22:51.608333Z"
    }
   },
   "outputs": [],
   "source": [
    "data.drop(['url','desc','title','zip_code'],axis=1,inplace=True)\n",
    "#Info in 'title' and 'purpose' is same"
   ]
  },
  {
   "cell_type": "code",
   "execution_count": 39,
   "metadata": {
    "ExecuteTime": {
     "end_time": "2019-01-26T14:22:52.010259Z",
     "start_time": "2019-01-26T14:22:51.902549Z"
    }
   },
   "outputs": [
    {
     "data": {
      "text/html": [
       "<div>\n",
       "<style scoped>\n",
       "    .dataframe tbody tr th:only-of-type {\n",
       "        vertical-align: middle;\n",
       "    }\n",
       "\n",
       "    .dataframe tbody tr th {\n",
       "        vertical-align: top;\n",
       "    }\n",
       "\n",
       "    .dataframe thead th {\n",
       "        text-align: right;\n",
       "    }\n",
       "</style>\n",
       "<table border=\"1\" class=\"dataframe\">\n",
       "  <thead>\n",
       "    <tr style=\"text-align: right;\">\n",
       "      <th></th>\n",
       "      <th>LoanStatNew</th>\n",
       "      <th>dtype</th>\n",
       "      <th>first value</th>\n",
       "      <th>Description</th>\n",
       "      <th>Nulls</th>\n",
       "    </tr>\n",
       "  </thead>\n",
       "  <tbody>\n",
       "    <tr>\n",
       "      <th>26</th>\n",
       "      <td>earliest_cr_line</td>\n",
       "      <td>object</td>\n",
       "      <td>Jan-1985</td>\n",
       "      <td>The month the borrower's earliest reported credit line was opened</td>\n",
       "      <td>29</td>\n",
       "    </tr>\n",
       "    <tr>\n",
       "      <th>27</th>\n",
       "      <td>inq_last_6mths</td>\n",
       "      <td>float64</td>\n",
       "      <td>1</td>\n",
       "      <td>The number of inquiries in past 6 months (excluding auto and mortgage inquiries)</td>\n",
       "      <td>29</td>\n",
       "    </tr>\n",
       "    <tr>\n",
       "      <th>28</th>\n",
       "      <td>mths_since_last_delinq</td>\n",
       "      <td>float64</td>\n",
       "      <td>NaN</td>\n",
       "      <td>The number of months since the borrower's last delinquency.</td>\n",
       "      <td>454312</td>\n",
       "    </tr>\n",
       "    <tr>\n",
       "      <th>29</th>\n",
       "      <td>mths_since_last_record</td>\n",
       "      <td>float64</td>\n",
       "      <td>NaN</td>\n",
       "      <td>The number of months since the last public record.</td>\n",
       "      <td>750326</td>\n",
       "    </tr>\n",
       "    <tr>\n",
       "      <th>30</th>\n",
       "      <td>open_acc</td>\n",
       "      <td>float64</td>\n",
       "      <td>3</td>\n",
       "      <td>The number of open credit lines in the borrower's credit file.</td>\n",
       "      <td>29</td>\n",
       "    </tr>\n",
       "    <tr>\n",
       "      <th>31</th>\n",
       "      <td>pub_rec</td>\n",
       "      <td>float64</td>\n",
       "      <td>0</td>\n",
       "      <td>Number of derogatory public records</td>\n",
       "      <td>29</td>\n",
       "    </tr>\n",
       "    <tr>\n",
       "      <th>32</th>\n",
       "      <td>revol_bal</td>\n",
       "      <td>float64</td>\n",
       "      <td>13648</td>\n",
       "      <td>Total credit revolving balance</td>\n",
       "      <td>0</td>\n",
       "    </tr>\n",
       "    <tr>\n",
       "      <th>33</th>\n",
       "      <td>revol_util</td>\n",
       "      <td>float64</td>\n",
       "      <td>83.7</td>\n",
       "      <td>Revolving line utilization rate, or the amount of credit the borrower is using relative to all available revolving credit.</td>\n",
       "      <td>502</td>\n",
       "    </tr>\n",
       "    <tr>\n",
       "      <th>34</th>\n",
       "      <td>total_acc</td>\n",
       "      <td>float64</td>\n",
       "      <td>9</td>\n",
       "      <td>The total number of credit lines currently in the borrower's credit file</td>\n",
       "      <td>29</td>\n",
       "    </tr>\n",
       "    <tr>\n",
       "      <th>35</th>\n",
       "      <td>initial_list_status</td>\n",
       "      <td>object</td>\n",
       "      <td>f</td>\n",
       "      <td>The initial listing status of the loan. Possible values are – W, F</td>\n",
       "      <td>0</td>\n",
       "    </tr>\n",
       "    <tr>\n",
       "      <th>36</th>\n",
       "      <td>out_prncp</td>\n",
       "      <td>float64</td>\n",
       "      <td>0</td>\n",
       "      <td>Remaining outstanding principal for total amount funded</td>\n",
       "      <td>0</td>\n",
       "    </tr>\n",
       "    <tr>\n",
       "      <th>37</th>\n",
       "      <td>out_prncp_inv</td>\n",
       "      <td>float64</td>\n",
       "      <td>0</td>\n",
       "      <td>Remaining outstanding principal for portion of total amount funded by investors</td>\n",
       "      <td>0</td>\n",
       "    </tr>\n",
       "    <tr>\n",
       "      <th>38</th>\n",
       "      <td>total_pymnt</td>\n",
       "      <td>float64</td>\n",
       "      <td>5861.07</td>\n",
       "      <td>Payments received to date for total amount funded</td>\n",
       "      <td>0</td>\n",
       "    </tr>\n",
       "  </tbody>\n",
       "</table>\n",
       "</div>"
      ],
      "text/plain": [
       "               LoanStatNew    dtype first value  \\\n",
       "26        earliest_cr_line   object    Jan-1985   \n",
       "27          inq_last_6mths  float64           1   \n",
       "28  mths_since_last_delinq  float64         NaN   \n",
       "29  mths_since_last_record  float64         NaN   \n",
       "30                open_acc  float64           3   \n",
       "31                 pub_rec  float64           0   \n",
       "32               revol_bal  float64       13648   \n",
       "33              revol_util  float64        83.7   \n",
       "34               total_acc  float64           9   \n",
       "35     initial_list_status   object           f   \n",
       "36               out_prncp  float64           0   \n",
       "37           out_prncp_inv  float64           0   \n",
       "38             total_pymnt  float64     5861.07   \n",
       "\n",
       "                                                                                                                   Description  \\\n",
       "26                                                           The month the borrower's earliest reported credit line was opened   \n",
       "27                                            The number of inquiries in past 6 months (excluding auto and mortgage inquiries)   \n",
       "28                                                                 The number of months since the borrower's last delinquency.   \n",
       "29                                                                          The number of months since the last public record.   \n",
       "30                                                              The number of open credit lines in the borrower's credit file.   \n",
       "31                                                                                         Number of derogatory public records   \n",
       "32                                                                                              Total credit revolving balance   \n",
       "33  Revolving line utilization rate, or the amount of credit the borrower is using relative to all available revolving credit.   \n",
       "34                                                    The total number of credit lines currently in the borrower's credit file   \n",
       "35                                                          The initial listing status of the loan. Possible values are – W, F   \n",
       "36                                                                     Remaining outstanding principal for total amount funded   \n",
       "37                                             Remaining outstanding principal for portion of total amount funded by investors   \n",
       "38                                                                           Payments received to date for total amount funded   \n",
       "\n",
       "     Nulls  \n",
       "26      29  \n",
       "27      29  \n",
       "28  454312  \n",
       "29  750326  \n",
       "30      29  \n",
       "31      29  \n",
       "32       0  \n",
       "33     502  \n",
       "34      29  \n",
       "35       0  \n",
       "36       0  \n",
       "37       0  \n",
       "38       0  "
      ]
     },
     "execution_count": 39,
     "metadata": {},
     "output_type": "execute_result"
    }
   ],
   "source": [
    "data_col[26:39]"
   ]
  },
  {
   "cell_type": "code",
   "execution_count": 40,
   "metadata": {
    "ExecuteTime": {
     "end_time": "2019-01-26T14:22:52.313446Z",
     "start_time": "2019-01-26T14:22:52.013251Z"
    }
   },
   "outputs": [],
   "source": [
    "data.drop(['mths_since_last_delinq','mths_since_last_record','out_prncp','out_prncp_inv','total_pymnt'],\n",
    "          axis=1,inplace=True)"
   ]
  },
  {
   "cell_type": "code",
   "execution_count": 41,
   "metadata": {
    "ExecuteTime": {
     "end_time": "2019-01-26T14:22:52.376288Z",
     "start_time": "2019-01-26T14:22:52.316447Z"
    }
   },
   "outputs": [
    {
     "data": {
      "text/html": [
       "<div>\n",
       "<style scoped>\n",
       "    .dataframe tbody tr th:only-of-type {\n",
       "        vertical-align: middle;\n",
       "    }\n",
       "\n",
       "    .dataframe tbody tr th {\n",
       "        vertical-align: top;\n",
       "    }\n",
       "\n",
       "    .dataframe thead th {\n",
       "        text-align: right;\n",
       "    }\n",
       "</style>\n",
       "<table border=\"1\" class=\"dataframe\">\n",
       "  <thead>\n",
       "    <tr style=\"text-align: right;\">\n",
       "      <th></th>\n",
       "      <th>LoanStatNew</th>\n",
       "      <th>dtype</th>\n",
       "      <th>first value</th>\n",
       "      <th>Description</th>\n",
       "      <th>Nulls</th>\n",
       "    </tr>\n",
       "  </thead>\n",
       "  <tbody>\n",
       "    <tr>\n",
       "      <th>39</th>\n",
       "      <td>total_pymnt_inv</td>\n",
       "      <td>float64</td>\n",
       "      <td>5831.78</td>\n",
       "      <td>Payments received to date for portion of total amount funded by investors</td>\n",
       "      <td>0</td>\n",
       "    </tr>\n",
       "    <tr>\n",
       "      <th>40</th>\n",
       "      <td>total_rec_prncp</td>\n",
       "      <td>float64</td>\n",
       "      <td>5000</td>\n",
       "      <td>Principal received to date</td>\n",
       "      <td>0</td>\n",
       "    </tr>\n",
       "    <tr>\n",
       "      <th>41</th>\n",
       "      <td>total_rec_int</td>\n",
       "      <td>float64</td>\n",
       "      <td>861.07</td>\n",
       "      <td>Interest received to date</td>\n",
       "      <td>0</td>\n",
       "    </tr>\n",
       "    <tr>\n",
       "      <th>42</th>\n",
       "      <td>total_rec_late_fee</td>\n",
       "      <td>float64</td>\n",
       "      <td>0</td>\n",
       "      <td>Late fees received to date</td>\n",
       "      <td>0</td>\n",
       "    </tr>\n",
       "    <tr>\n",
       "      <th>43</th>\n",
       "      <td>recoveries</td>\n",
       "      <td>float64</td>\n",
       "      <td>0</td>\n",
       "      <td>post charge off gross recovery</td>\n",
       "      <td>0</td>\n",
       "    </tr>\n",
       "    <tr>\n",
       "      <th>44</th>\n",
       "      <td>collection_recovery_fee</td>\n",
       "      <td>float64</td>\n",
       "      <td>0</td>\n",
       "      <td>post charge off collection fee</td>\n",
       "      <td>0</td>\n",
       "    </tr>\n",
       "    <tr>\n",
       "      <th>45</th>\n",
       "      <td>last_pymnt_d</td>\n",
       "      <td>object</td>\n",
       "      <td>Jan-2015</td>\n",
       "      <td>Last month payment was received</td>\n",
       "      <td>17659</td>\n",
       "    </tr>\n",
       "    <tr>\n",
       "      <th>46</th>\n",
       "      <td>last_pymnt_amnt</td>\n",
       "      <td>float64</td>\n",
       "      <td>171.62</td>\n",
       "      <td>Last total payment amount received</td>\n",
       "      <td>0</td>\n",
       "    </tr>\n",
       "    <tr>\n",
       "      <th>47</th>\n",
       "      <td>next_pymnt_d</td>\n",
       "      <td>object</td>\n",
       "      <td>NaN</td>\n",
       "      <td>Next scheduled payment date</td>\n",
       "      <td>252971</td>\n",
       "    </tr>\n",
       "    <tr>\n",
       "      <th>48</th>\n",
       "      <td>last_credit_pull_d</td>\n",
       "      <td>object</td>\n",
       "      <td>Jan-2016</td>\n",
       "      <td>The most recent month LC pulled credit for this loan</td>\n",
       "      <td>53</td>\n",
       "    </tr>\n",
       "    <tr>\n",
       "      <th>49</th>\n",
       "      <td>collections_12_mths_ex_med</td>\n",
       "      <td>float64</td>\n",
       "      <td>0</td>\n",
       "      <td>Number of collections in 12 months excluding medical collections</td>\n",
       "      <td>145</td>\n",
       "    </tr>\n",
       "    <tr>\n",
       "      <th>50</th>\n",
       "      <td>mths_since_last_major_derog</td>\n",
       "      <td>float64</td>\n",
       "      <td>NaN</td>\n",
       "      <td>Months since most recent 90-day or worse rating</td>\n",
       "      <td>665676</td>\n",
       "    </tr>\n",
       "    <tr>\n",
       "      <th>51</th>\n",
       "      <td>policy_code</td>\n",
       "      <td>float64</td>\n",
       "      <td>1</td>\n",
       "      <td>publicly available policy_code=1\\nnew products not publicly available policy_code=2</td>\n",
       "      <td>0</td>\n",
       "    </tr>\n",
       "  </tbody>\n",
       "</table>\n",
       "</div>"
      ],
      "text/plain": [
       "                    LoanStatNew    dtype first value  \\\n",
       "39              total_pymnt_inv  float64     5831.78   \n",
       "40              total_rec_prncp  float64        5000   \n",
       "41                total_rec_int  float64      861.07   \n",
       "42           total_rec_late_fee  float64           0   \n",
       "43                   recoveries  float64           0   \n",
       "44      collection_recovery_fee  float64           0   \n",
       "45                 last_pymnt_d   object    Jan-2015   \n",
       "46              last_pymnt_amnt  float64      171.62   \n",
       "47                 next_pymnt_d   object         NaN   \n",
       "48           last_credit_pull_d   object    Jan-2016   \n",
       "49   collections_12_mths_ex_med  float64           0   \n",
       "50  mths_since_last_major_derog  float64         NaN   \n",
       "51                  policy_code  float64           1   \n",
       "\n",
       "                                                                            Description  \\\n",
       "39            Payments received to date for portion of total amount funded by investors   \n",
       "40                                                           Principal received to date   \n",
       "41                                                            Interest received to date   \n",
       "42                                                           Late fees received to date   \n",
       "43                                                       post charge off gross recovery   \n",
       "44                                                       post charge off collection fee   \n",
       "45                                                      Last month payment was received   \n",
       "46                                                   Last total payment amount received   \n",
       "47                                                          Next scheduled payment date   \n",
       "48                                 The most recent month LC pulled credit for this loan   \n",
       "49                     Number of collections in 12 months excluding medical collections   \n",
       "50                                      Months since most recent 90-day or worse rating   \n",
       "51  publicly available policy_code=1\\nnew products not publicly available policy_code=2   \n",
       "\n",
       "     Nulls  \n",
       "39       0  \n",
       "40       0  \n",
       "41       0  \n",
       "42       0  \n",
       "43       0  \n",
       "44       0  \n",
       "45   17659  \n",
       "46       0  \n",
       "47  252971  \n",
       "48      53  \n",
       "49     145  \n",
       "50  665676  \n",
       "51       0  "
      ]
     },
     "execution_count": 41,
     "metadata": {},
     "output_type": "execute_result"
    }
   ],
   "source": [
    "data_col[39:52]"
   ]
  },
  {
   "cell_type": "code",
   "execution_count": 42,
   "metadata": {
    "ExecuteTime": {
     "end_time": "2019-01-26T14:22:52.646559Z",
     "start_time": "2019-01-26T14:22:52.378273Z"
    }
   },
   "outputs": [],
   "source": [
    "data.drop(['total_pymnt_inv','total_rec_prncp','total_rec_int','total_rec_late_fee','recoveries',\n",
    "          'collection_recovery_fee','last_pymnt_d','last_pymnt_amnt','next_pymnt_d','last_credit_pull_d','policy_code',\n",
    "          'mths_since_last_major_derog'],\n",
    "          axis=1,inplace=True)"
   ]
  },
  {
   "cell_type": "code",
   "execution_count": 43,
   "metadata": {
    "ExecuteTime": {
     "end_time": "2019-01-26T14:22:52.691436Z",
     "start_time": "2019-01-26T14:22:52.656532Z"
    }
   },
   "outputs": [
    {
     "data": {
      "text/html": [
       "<div>\n",
       "<style scoped>\n",
       "    .dataframe tbody tr th:only-of-type {\n",
       "        vertical-align: middle;\n",
       "    }\n",
       "\n",
       "    .dataframe tbody tr th {\n",
       "        vertical-align: top;\n",
       "    }\n",
       "\n",
       "    .dataframe thead th {\n",
       "        text-align: right;\n",
       "    }\n",
       "</style>\n",
       "<table border=\"1\" class=\"dataframe\">\n",
       "  <thead>\n",
       "    <tr style=\"text-align: right;\">\n",
       "      <th></th>\n",
       "      <th>LoanStatNew</th>\n",
       "      <th>dtype</th>\n",
       "      <th>first value</th>\n",
       "      <th>Description</th>\n",
       "      <th>Nulls</th>\n",
       "    </tr>\n",
       "  </thead>\n",
       "  <tbody>\n",
       "    <tr>\n",
       "      <th>52</th>\n",
       "      <td>application_type</td>\n",
       "      <td>object</td>\n",
       "      <td>INDIVIDUAL</td>\n",
       "      <td>Indicates whether the loan is an individual application or a joint application with two co-borrowers</td>\n",
       "      <td>0</td>\n",
       "    </tr>\n",
       "    <tr>\n",
       "      <th>53</th>\n",
       "      <td>annual_inc_joint</td>\n",
       "      <td>float64</td>\n",
       "      <td>NaN</td>\n",
       "      <td>The combined self-reported annual income provided by the co-borrowers during registration</td>\n",
       "      <td>886868</td>\n",
       "    </tr>\n",
       "    <tr>\n",
       "      <th>54</th>\n",
       "      <td>dti_joint</td>\n",
       "      <td>float64</td>\n",
       "      <td>NaN</td>\n",
       "      <td>A ratio calculated using the co-borrowers' total monthly payments on the total debt obligations, excluding mortgages and the requested LC loan, divided by the co-borrowers' combined self-reported monthly income</td>\n",
       "      <td>886870</td>\n",
       "    </tr>\n",
       "    <tr>\n",
       "      <th>55</th>\n",
       "      <td>verification_status_joint</td>\n",
       "      <td>object</td>\n",
       "      <td>NaN</td>\n",
       "      <td>NaN</td>\n",
       "      <td>886868</td>\n",
       "    </tr>\n",
       "    <tr>\n",
       "      <th>56</th>\n",
       "      <td>acc_now_delinq</td>\n",
       "      <td>float64</td>\n",
       "      <td>0</td>\n",
       "      <td>The number of accounts on which the borrower is now delinquent.</td>\n",
       "      <td>29</td>\n",
       "    </tr>\n",
       "    <tr>\n",
       "      <th>57</th>\n",
       "      <td>tot_coll_amt</td>\n",
       "      <td>float64</td>\n",
       "      <td>NaN</td>\n",
       "      <td>Total collection amounts ever owed</td>\n",
       "      <td>70276</td>\n",
       "    </tr>\n",
       "    <tr>\n",
       "      <th>58</th>\n",
       "      <td>tot_cur_bal</td>\n",
       "      <td>float64</td>\n",
       "      <td>NaN</td>\n",
       "      <td>Total current balance of all accounts</td>\n",
       "      <td>70276</td>\n",
       "    </tr>\n",
       "    <tr>\n",
       "      <th>59</th>\n",
       "      <td>open_acc_6m</td>\n",
       "      <td>float64</td>\n",
       "      <td>NaN</td>\n",
       "      <td>Number of open trades in last 6 months</td>\n",
       "      <td>866007</td>\n",
       "    </tr>\n",
       "    <tr>\n",
       "      <th>60</th>\n",
       "      <td>open_il_6m</td>\n",
       "      <td>float64</td>\n",
       "      <td>NaN</td>\n",
       "      <td>Number of currently active installment trades</td>\n",
       "      <td>866007</td>\n",
       "    </tr>\n",
       "    <tr>\n",
       "      <th>61</th>\n",
       "      <td>open_il_12m</td>\n",
       "      <td>float64</td>\n",
       "      <td>NaN</td>\n",
       "      <td>Number of installment accounts opened in past 12 months</td>\n",
       "      <td>866007</td>\n",
       "    </tr>\n",
       "    <tr>\n",
       "      <th>62</th>\n",
       "      <td>open_il_24m</td>\n",
       "      <td>float64</td>\n",
       "      <td>NaN</td>\n",
       "      <td>Number of installment accounts opened in past 24 months</td>\n",
       "      <td>866007</td>\n",
       "    </tr>\n",
       "    <tr>\n",
       "      <th>63</th>\n",
       "      <td>mths_since_rcnt_il</td>\n",
       "      <td>float64</td>\n",
       "      <td>NaN</td>\n",
       "      <td>Months since most recent installment accounts opened</td>\n",
       "      <td>866569</td>\n",
       "    </tr>\n",
       "    <tr>\n",
       "      <th>64</th>\n",
       "      <td>total_bal_il</td>\n",
       "      <td>float64</td>\n",
       "      <td>NaN</td>\n",
       "      <td>Total current balance of all installment accounts</td>\n",
       "      <td>866007</td>\n",
       "    </tr>\n",
       "  </tbody>\n",
       "</table>\n",
       "</div>"
      ],
      "text/plain": [
       "                  LoanStatNew    dtype first value  \\\n",
       "52           application_type   object  INDIVIDUAL   \n",
       "53           annual_inc_joint  float64         NaN   \n",
       "54                  dti_joint  float64         NaN   \n",
       "55  verification_status_joint   object         NaN   \n",
       "56             acc_now_delinq  float64           0   \n",
       "57               tot_coll_amt  float64         NaN   \n",
       "58                tot_cur_bal  float64         NaN   \n",
       "59                open_acc_6m  float64         NaN   \n",
       "60                 open_il_6m  float64         NaN   \n",
       "61                open_il_12m  float64         NaN   \n",
       "62                open_il_24m  float64         NaN   \n",
       "63         mths_since_rcnt_il  float64         NaN   \n",
       "64               total_bal_il  float64         NaN   \n",
       "\n",
       "                                                                                                                                                                                                           Description  \\\n",
       "52                                                                                                                Indicates whether the loan is an individual application or a joint application with two co-borrowers   \n",
       "53                                                                                                                           The combined self-reported annual income provided by the co-borrowers during registration   \n",
       "54  A ratio calculated using the co-borrowers' total monthly payments on the total debt obligations, excluding mortgages and the requested LC loan, divided by the co-borrowers' combined self-reported monthly income   \n",
       "55                                                                                                                                                                                                                 NaN   \n",
       "56                                                                                                                                                     The number of accounts on which the borrower is now delinquent.   \n",
       "57                                                                                                                                                                                  Total collection amounts ever owed   \n",
       "58                                                                                                                                                                               Total current balance of all accounts   \n",
       "59                                                                                                                                                                              Number of open trades in last 6 months   \n",
       "60                                                                                                                                                                       Number of currently active installment trades   \n",
       "61                                                                                                                                                             Number of installment accounts opened in past 12 months   \n",
       "62                                                                                                                                                             Number of installment accounts opened in past 24 months   \n",
       "63                                                                                                                                                                Months since most recent installment accounts opened   \n",
       "64                                                                                                                                                                   Total current balance of all installment accounts   \n",
       "\n",
       "     Nulls  \n",
       "52       0  \n",
       "53  886868  \n",
       "54  886870  \n",
       "55  886868  \n",
       "56      29  \n",
       "57   70276  \n",
       "58   70276  \n",
       "59  866007  \n",
       "60  866007  \n",
       "61  866007  \n",
       "62  866007  \n",
       "63  866569  \n",
       "64  866007  "
      ]
     },
     "execution_count": 43,
     "metadata": {},
     "output_type": "execute_result"
    }
   ],
   "source": [
    "data_col[52:65]"
   ]
  },
  {
   "cell_type": "code",
   "execution_count": 44,
   "metadata": {
    "ExecuteTime": {
     "end_time": "2019-01-26T14:22:53.307788Z",
     "start_time": "2019-01-26T14:22:52.694429Z"
    }
   },
   "outputs": [],
   "source": [
    "# Drop any column with more than 50% missing values\n",
    "data = data.dropna(thresh=(len(data)/2),axis=1) "
   ]
  },
  {
   "cell_type": "code",
   "execution_count": 45,
   "metadata": {
    "ExecuteTime": {
     "end_time": "2019-01-26T14:22:53.331730Z",
     "start_time": "2019-01-26T14:22:53.310780Z"
    }
   },
   "outputs": [
    {
     "data": {
      "text/html": [
       "<div>\n",
       "<style scoped>\n",
       "    .dataframe tbody tr th:only-of-type {\n",
       "        vertical-align: middle;\n",
       "    }\n",
       "\n",
       "    .dataframe tbody tr th {\n",
       "        vertical-align: top;\n",
       "    }\n",
       "\n",
       "    .dataframe thead th {\n",
       "        text-align: right;\n",
       "    }\n",
       "</style>\n",
       "<table border=\"1\" class=\"dataframe\">\n",
       "  <thead>\n",
       "    <tr style=\"text-align: right;\">\n",
       "      <th></th>\n",
       "      <th>LoanStatNew</th>\n",
       "      <th>dtype</th>\n",
       "      <th>first value</th>\n",
       "      <th>Description</th>\n",
       "      <th>Nulls</th>\n",
       "    </tr>\n",
       "  </thead>\n",
       "  <tbody>\n",
       "    <tr>\n",
       "      <th>65</th>\n",
       "      <td>il_util</td>\n",
       "      <td>float64</td>\n",
       "      <td>NaN</td>\n",
       "      <td>Ratio of total current balance to high credit/credit limit on all install acct</td>\n",
       "      <td>868762</td>\n",
       "    </tr>\n",
       "    <tr>\n",
       "      <th>66</th>\n",
       "      <td>open_rv_12m</td>\n",
       "      <td>float64</td>\n",
       "      <td>NaN</td>\n",
       "      <td>Number of revolving trades opened in past 12 months</td>\n",
       "      <td>866007</td>\n",
       "    </tr>\n",
       "    <tr>\n",
       "      <th>67</th>\n",
       "      <td>open_rv_24m</td>\n",
       "      <td>float64</td>\n",
       "      <td>NaN</td>\n",
       "      <td>Number of revolving trades opened in past 24 months</td>\n",
       "      <td>866007</td>\n",
       "    </tr>\n",
       "    <tr>\n",
       "      <th>68</th>\n",
       "      <td>max_bal_bc</td>\n",
       "      <td>float64</td>\n",
       "      <td>NaN</td>\n",
       "      <td>Maximum current balance owed on all revolving accounts</td>\n",
       "      <td>866007</td>\n",
       "    </tr>\n",
       "    <tr>\n",
       "      <th>69</th>\n",
       "      <td>all_util</td>\n",
       "      <td>float64</td>\n",
       "      <td>NaN</td>\n",
       "      <td>Balance to credit limit on all trades</td>\n",
       "      <td>866007</td>\n",
       "    </tr>\n",
       "    <tr>\n",
       "      <th>70</th>\n",
       "      <td>total_rev_hi_lim</td>\n",
       "      <td>float64</td>\n",
       "      <td>NaN</td>\n",
       "      <td>NaN</td>\n",
       "      <td>70276</td>\n",
       "    </tr>\n",
       "    <tr>\n",
       "      <th>71</th>\n",
       "      <td>inq_fi</td>\n",
       "      <td>float64</td>\n",
       "      <td>NaN</td>\n",
       "      <td>Number of personal finance inquiries</td>\n",
       "      <td>866007</td>\n",
       "    </tr>\n",
       "    <tr>\n",
       "      <th>72</th>\n",
       "      <td>total_cu_tl</td>\n",
       "      <td>float64</td>\n",
       "      <td>NaN</td>\n",
       "      <td>Number of finance trades</td>\n",
       "      <td>866007</td>\n",
       "    </tr>\n",
       "    <tr>\n",
       "      <th>73</th>\n",
       "      <td>inq_last_12m</td>\n",
       "      <td>float64</td>\n",
       "      <td>NaN</td>\n",
       "      <td>Number of credit inquiries in past 12 months</td>\n",
       "      <td>866007</td>\n",
       "    </tr>\n",
       "  </tbody>\n",
       "</table>\n",
       "</div>"
      ],
      "text/plain": [
       "         LoanStatNew    dtype first value  \\\n",
       "65           il_util  float64         NaN   \n",
       "66       open_rv_12m  float64         NaN   \n",
       "67       open_rv_24m  float64         NaN   \n",
       "68        max_bal_bc  float64         NaN   \n",
       "69          all_util  float64         NaN   \n",
       "70  total_rev_hi_lim  float64         NaN   \n",
       "71            inq_fi  float64         NaN   \n",
       "72       total_cu_tl  float64         NaN   \n",
       "73      inq_last_12m  float64         NaN   \n",
       "\n",
       "                                                                       Description  \\\n",
       "65  Ratio of total current balance to high credit/credit limit on all install acct   \n",
       "66                             Number of revolving trades opened in past 12 months   \n",
       "67                             Number of revolving trades opened in past 24 months   \n",
       "68                          Maximum current balance owed on all revolving accounts   \n",
       "69                                           Balance to credit limit on all trades   \n",
       "70                                                                             NaN   \n",
       "71                                            Number of personal finance inquiries   \n",
       "72                                                        Number of finance trades   \n",
       "73                                    Number of credit inquiries in past 12 months   \n",
       "\n",
       "     Nulls  \n",
       "65  868762  \n",
       "66  866007  \n",
       "67  866007  \n",
       "68  866007  \n",
       "69  866007  \n",
       "70   70276  \n",
       "71  866007  \n",
       "72  866007  \n",
       "73  866007  "
      ]
     },
     "execution_count": 45,
     "metadata": {},
     "output_type": "execute_result"
    }
   ],
   "source": [
    "data_col[65:]\n",
    "#These columns are already removed as they have more than 50% null values (except total_hi_rev_lim)"
   ]
  },
  {
   "cell_type": "code",
   "execution_count": 46,
   "metadata": {
    "ExecuteTime": {
     "end_time": "2019-01-26T14:22:53.443067Z",
     "start_time": "2019-01-26T14:22:53.335713Z"
    }
   },
   "outputs": [],
   "source": [
    "# data.to_csv('data_dc1.csv',index=False)"
   ]
  },
  {
   "cell_type": "markdown",
   "metadata": {},
   "source": [
    "### Data Cleaning 2 : Null Imputation\n",
    "After initial data cleaning, we're left with 30 columns. Now I did analysis of each column"
   ]
  },
  {
   "cell_type": "code",
   "execution_count": 47,
   "metadata": {
    "ExecuteTime": {
     "end_time": "2019-01-26T14:22:53.584839Z",
     "start_time": "2019-01-26T14:22:53.445064Z"
    }
   },
   "outputs": [],
   "source": [
    "# data=pd.read_csv('data_dc1.csv')\n",
    "# data.head()"
   ]
  },
  {
   "cell_type": "markdown",
   "metadata": {},
   "source": [
    "I calculated percent null values in each column.\n",
    "1. Columns with null values : 'emp_length', 'revol_util', 'collections_12_mths_ex_med', 'tot_coll_amt', 'tot_cur_bal', 'total_rev_hi_lim'\n",
    "2. As 'emp_length' is ordinal variable, I encoded it according to value instead of creating dummy binary variables. 'emp_length' less that one year was set to 0 and that greater than 10 years was set to 10.\n",
    "3. 'tot_coll_amt','tot_cur_bal','total_rev_hi_lim' have missing values till Sept-2012 date.\n",
    "4. Other variables do not show any pattern in missing values\n",
    "\n",
    "Check histograms of these columns. All of them are skewed with wide outliers."
   ]
  },
  {
   "cell_type": "code",
   "execution_count": 48,
   "metadata": {
    "ExecuteTime": {
     "end_time": "2019-01-26T14:22:53.975104Z",
     "start_time": "2019-01-26T14:22:53.587832Z"
    },
    "scrolled": true
   },
   "outputs": [
    {
     "data": {
      "text/html": [
       "<div>\n",
       "<style scoped>\n",
       "    .dataframe tbody tr th:only-of-type {\n",
       "        vertical-align: middle;\n",
       "    }\n",
       "\n",
       "    .dataframe tbody tr th {\n",
       "        vertical-align: top;\n",
       "    }\n",
       "\n",
       "    .dataframe thead th {\n",
       "        text-align: right;\n",
       "    }\n",
       "</style>\n",
       "<table border=\"1\" class=\"dataframe\">\n",
       "  <thead>\n",
       "    <tr style=\"text-align: right;\">\n",
       "      <th></th>\n",
       "      <th>% Nulls</th>\n",
       "    </tr>\n",
       "  </thead>\n",
       "  <tbody>\n",
       "    <tr>\n",
       "      <th>emp_length</th>\n",
       "      <td>4.02</td>\n",
       "    </tr>\n",
       "    <tr>\n",
       "      <th>revol_util</th>\n",
       "      <td>0.08</td>\n",
       "    </tr>\n",
       "    <tr>\n",
       "      <th>collections_12_mths_ex_med</th>\n",
       "      <td>0.02</td>\n",
       "    </tr>\n",
       "    <tr>\n",
       "      <th>tot_coll_amt</th>\n",
       "      <td>24.02</td>\n",
       "    </tr>\n",
       "    <tr>\n",
       "      <th>tot_cur_bal</th>\n",
       "      <td>24.02</td>\n",
       "    </tr>\n",
       "    <tr>\n",
       "      <th>total_rev_hi_lim</th>\n",
       "      <td>24.02</td>\n",
       "    </tr>\n",
       "  </tbody>\n",
       "</table>\n",
       "</div>"
      ],
      "text/plain": [
       "                            % Nulls\n",
       "emp_length                     4.02\n",
       "revol_util                     0.08\n",
       "collections_12_mths_ex_med     0.02\n",
       "tot_coll_amt                  24.02\n",
       "tot_cur_bal                   24.02\n",
       "total_rev_hi_lim              24.02"
      ]
     },
     "execution_count": 48,
     "metadata": {},
     "output_type": "execute_result"
    }
   ],
   "source": [
    "nulls_percent=[]\n",
    "for i in data.columns:\n",
    "    tmp=len(data[data[i].isnull()])/len(data)*100\n",
    "    nulls_percent.append(round(tmp,2))\n",
    "null_df=pd.DataFrame(data=nulls_percent,index=data.columns,columns=['% Nulls'])\n",
    "null_df[null_df['% Nulls']!=0]"
   ]
  },
  {
   "cell_type": "code",
   "execution_count": 49,
   "metadata": {
    "ExecuteTime": {
     "end_time": "2019-01-26T14:22:53.981094Z",
     "start_time": "2019-01-26T14:22:53.977099Z"
    }
   },
   "outputs": [],
   "source": [
    "columns_with_nulls=['emp_length','revol_util','collections_12_mths_ex_med',\\\n",
    "                    'tot_coll_amt','tot_cur_bal','total_rev_hi_lim']"
   ]
  },
  {
   "cell_type": "code",
   "execution_count": 50,
   "metadata": {
    "ExecuteTime": {
     "end_time": "2019-01-26T14:22:54.151631Z",
     "start_time": "2019-01-26T14:22:53.990063Z"
    }
   },
   "outputs": [
    {
     "data": {
      "text/plain": [
       "array(['10+ years', '< 1 year', '3 years', '9 years', '4 years',\n",
       "       '5 years', '1 year', '6 years', '2 years', '7 years', '8 years',\n",
       "       nan], dtype=object)"
      ]
     },
     "execution_count": 50,
     "metadata": {},
     "output_type": "execute_result"
    }
   ],
   "source": [
    "data['emp_length'].unique()"
   ]
  },
  {
   "cell_type": "code",
   "execution_count": 51,
   "metadata": {
    "ExecuteTime": {
     "end_time": "2019-01-26T14:22:54.630350Z",
     "start_time": "2019-01-26T14:22:54.153626Z"
    },
    "scrolled": true
   },
   "outputs": [],
   "source": [
    "def encode_emp_length(x):\n",
    "    if type(x)==float: #Check for nan ,as only Nans are float while other values are str\n",
    "        return x\n",
    "    if x=='10+ years':\n",
    "        return 10\n",
    "    if x=='< 1 year':\n",
    "        return 0\n",
    "    else:\n",
    "        return int(x.split(' ')[0])\n",
    "    \n",
    "data['emp_length']=data['emp_length'].apply(encode_emp_length)"
   ]
  },
  {
   "cell_type": "code",
   "execution_count": 52,
   "metadata": {
    "ExecuteTime": {
     "end_time": "2019-01-26T14:22:54.640340Z",
     "start_time": "2019-01-26T14:22:54.637346Z"
    },
    "scrolled": true
   },
   "outputs": [],
   "source": [
    "# for col in columns_with_nulls:\n",
    "#     plt.figure(figsize=(8,6))\n",
    "#     sns.distplot(data[data[col].notnull()][col])\n",
    "#     plt.title('Histogram of {}'.format(col))"
   ]
  },
  {
   "cell_type": "markdown",
   "metadata": {},
   "source": [
    "Looking at the histograms, columns can be imputed by median value.\n",
    "I found that 'total_rev_hi_lim' is highly correlated with 'revol bal'.\n",
    "So, I had two methods to impute 'total_rev_hi_lim'.\n",
    "1. Impute by median value\n",
    "2. Fit a polynomial between 'total_rev_hi_lim' and 'revol_bal'\n",
    "\n",
    "As fitting a polynomial model didn't performed much better, I decided to go with method 1.\n",
    "Code for method 2 is commented below."
   ]
  },
  {
   "cell_type": "code",
   "execution_count": 53,
   "metadata": {
    "ExecuteTime": {
     "end_time": "2019-01-26T14:22:55.115584Z",
     "start_time": "2019-01-26T14:22:54.643315Z"
    }
   },
   "outputs": [
    {
     "name": "stdout",
     "output_type": "stream",
     "text": [
      "emp_length shows max correlation with total_acc : 0.14\n",
      "revol_util shows max correlation with int_rate : 0.34\n",
      "collections_12_mths_ex_med shows max correlation with issue_year : 0.06\n",
      "tot_coll_amt shows max correlation with revol_util : 0.01\n",
      "tot_cur_bal shows max correlation with annual_inc : 0.44\n",
      "total_rev_hi_lim shows max correlation with revol_bal : 0.83\n"
     ]
    }
   ],
   "source": [
    "corr_matrix=data.corr()\n",
    "for col in columns_with_nulls:\n",
    "    tmp=corr_matrix[col].apply(abs).sort_values(ascending=False)\n",
    "    print(col, 'shows max correlation with',tmp.index[1],':',round(tmp[1],2))"
   ]
  },
  {
   "cell_type": "code",
   "execution_count": 54,
   "metadata": {
    "ExecuteTime": {
     "end_time": "2019-01-26T14:22:55.121569Z",
     "start_time": "2019-01-26T14:22:55.117593Z"
    },
    "scrolled": true
   },
   "outputs": [],
   "source": [
    "# Fit a linear mode between 'total_rev_hi_lim' and 'revol_bal'\n",
    "\n",
    "# from sklearn.metrics import mean_squared_error\n",
    "# from scipy import polyfit,poly1d\n",
    "\n",
    "# tmp1=data[data['total_rev_hi_lim'].notnull()][['revol_bal','total_rev_hi_lim']].copy()\n",
    "# p=polyfit(tmp1['revol_bal'],tmp1['total_rev_hi_lim'],deg=2)\n",
    "# poly=poly1d(p)\n",
    "# tmp1['total_rev_hi_lim_pred']=tmp1['revol_bal'].apply(poly)\n",
    "# print('RMSE:',np.sqrt(mean_squared_error(tmp1['total_rev_hi_lim'],tmp1['total_rev_hi_lim_pred'])))\n",
    "# data['temp']=data['revol_bal'].apply(poly)\n",
    "\n",
    "# i=data[data['total_rev_hi_lim'].isnull()].index\n",
    "# data.loc[i,'total_rev_hi_lim']=data.loc[i,'temp']\n",
    "# data.drop('temp',axis=1,inplace=True)\n"
   ]
  },
  {
   "cell_type": "code",
   "execution_count": null,
   "metadata": {
    "ExecuteTime": {
     "end_time": "2019-01-26T14:00:43.827355Z",
     "start_time": "2019-01-26T14:00:43.823365Z"
    },
    "code_folding": []
   },
   "outputs": [],
   "source": []
  },
  {
   "cell_type": "code",
   "execution_count": 55,
   "metadata": {
    "ExecuteTime": {
     "end_time": "2019-01-26T14:22:55.258950Z",
     "start_time": "2019-01-26T14:22:55.123562Z"
    },
    "scrolled": true
   },
   "outputs": [],
   "source": [
    "#Impute remaining columns with median\n",
    "\n",
    "def impute_by_median(data,col):\n",
    "    \"\"\"\n",
    "    Impute column by median value\n",
    "    Params:\n",
    "        data: Dataframe\n",
    "        col: str, Name of column\n",
    "    \"\"\"\n",
    "    med=data[col].median()\n",
    "    data[col]=data[col].apply(lambda x: med if np.isnan(x) else x)"
   ]
  },
  {
   "cell_type": "code",
   "execution_count": 56,
   "metadata": {
    "ExecuteTime": {
     "end_time": "2019-01-26T14:22:57.007699Z",
     "start_time": "2019-01-26T14:22:55.260901Z"
    }
   },
   "outputs": [],
   "source": [
    "for col in columns_with_nulls:\n",
    "    impute_by_median(data,col)"
   ]
  },
  {
   "cell_type": "code",
   "execution_count": 57,
   "metadata": {
    "ExecuteTime": {
     "end_time": "2019-01-26T14:22:57.012261Z",
     "start_time": "2019-01-26T14:22:57.009273Z"
    }
   },
   "outputs": [],
   "source": [
    "# data.to_csv('DC2.csv',index=False)"
   ]
  },
  {
   "cell_type": "code",
   "execution_count": null,
   "metadata": {},
   "outputs": [],
   "source": []
  },
  {
   "cell_type": "markdown",
   "metadata": {},
   "source": [
    "### Data Cleaning 3: Miscellaneous \n",
    "I went thought each and every column to see whether it is useful or not and did necessasry processing.\n",
    "1. **'term'**: has only two values. I converted it to binary variable later.\n",
    "2. **'grade'**: has 7 values. I created dummy variables for it.\n",
    "3. **'home_ownership'**: Changed OHTER, NONE, ANY to RENT as these data points are too low.\n",
    "4. **'verification_status'**: has 3 unique values. Created dummy variables.\n",
    "5. **'pymnt_plan'**: only 6 rows have 'y' value. Dropped this column\n",
    "6. **'purpose'**: has 14 unique values. Created dummy variables for it.\n",
    "7. **'addr_state'**:\n",
    "\n",
    "    There are total 51 states. So creating 50 dummy variables is not a wise choice. So, I did detailed analysis for 'addr_state'\n",
    "    1. Some states having very less loans. So I considered states having more than 1000 loan applications.\n",
    "    2. I calculated default rate per state and default rate per year per state.\n",
    "    3. FL,LA,NV,IN : Higher default rate esp. after 2011\n",
    "    4. CA,NY : avg. default rate, but number of loans are high CA, NY\n",
    "    5. IL,GA,TX : Generally have lower default rate\n",
    "\n",
    "   I decided to create dummy variables for these states: 'FL', 'NY', 'LA', 'NV', 'IN', 'CA', 'IL', 'GA', 'TX'\n",
    "\n",
    "8. **'initial_list_status'**: don't seem to affect on 'loan_sttaus'. I dropped this column.\n",
    "9. **'application_type'**: Almost all the values fall in one category. I dropped this column\n",
    "10. **'earliest_cr_line'**: Changed it to the number of days before the loan issued i.e. number of days between 'issue_date' and 'earliest_cr_line'\n",
    "11. Divide **'annual_inc', 'tot_cur_bal', 'total_rev_hi_lim', 'revol_bal'** by **'loan_amnt'**.\n",
    "12. **'collections_12_mths_ex_med'**:  is very skewed with more than 90% values as 0.0. Also, default rate is similar for all values. I dropped this column as it is non-conclusive."
   ]
  },
  {
   "cell_type": "code",
   "execution_count": 58,
   "metadata": {
    "ExecuteTime": {
     "end_time": "2019-01-26T14:22:57.133726Z",
     "start_time": "2019-01-26T14:22:57.017221Z"
    }
   },
   "outputs": [],
   "source": [
    "# data=pd.read_csv('DC2.csv')\n",
    "# data.head()"
   ]
  },
  {
   "cell_type": "code",
   "execution_count": 59,
   "metadata": {
    "ExecuteTime": {
     "end_time": "2019-01-26T14:22:57.285167Z",
     "start_time": "2019-01-26T14:22:57.135704Z"
    },
    "scrolled": true
   },
   "outputs": [],
   "source": [
    "# data.info()"
   ]
  },
  {
   "cell_type": "code",
   "execution_count": 60,
   "metadata": {
    "ExecuteTime": {
     "end_time": "2019-01-26T14:22:57.423274Z",
     "start_time": "2019-01-26T14:22:57.287179Z"
    }
   },
   "outputs": [
    {
     "data": {
      "text/plain": [
       "array([' 36 months', ' 60 months'], dtype=object)"
      ]
     },
     "execution_count": 60,
     "metadata": {},
     "output_type": "execute_result"
    }
   ],
   "source": [
    "data['term'].unique()"
   ]
  },
  {
   "cell_type": "code",
   "execution_count": 61,
   "metadata": {
    "ExecuteTime": {
     "end_time": "2019-01-26T14:22:57.570294Z",
     "start_time": "2019-01-26T14:22:57.425270Z"
    },
    "scrolled": true
   },
   "outputs": [
    {
     "data": {
      "text/plain": [
       "B    78267\n",
       "C    69019\n",
       "D    43708\n",
       "A    42835\n",
       "E    21239\n",
       "F     8507\n",
       "G     2206\n",
       "Name: grade, dtype: int64"
      ]
     },
     "execution_count": 61,
     "metadata": {},
     "output_type": "execute_result"
    }
   ],
   "source": [
    "data['grade'].value_counts()"
   ]
  },
  {
   "cell_type": "code",
   "execution_count": 62,
   "metadata": {
    "ExecuteTime": {
     "end_time": "2019-01-26T14:22:57.708523Z",
     "start_time": "2019-01-26T14:22:57.578266Z"
    }
   },
   "outputs": [
    {
     "data": {
      "text/plain": [
       "MORTGAGE    130361\n",
       "RENT        111928\n",
       "OWN          23307\n",
       "OTHER          141\n",
       "NONE            43\n",
       "ANY              1\n",
       "Name: home_ownership, dtype: int64"
      ]
     },
     "execution_count": 62,
     "metadata": {},
     "output_type": "execute_result"
    }
   ],
   "source": [
    "#home_ownership\n",
    "data['home_ownership'].value_counts()"
   ]
  },
  {
   "cell_type": "code",
   "execution_count": 63,
   "metadata": {
    "ExecuteTime": {
     "end_time": "2019-01-26T14:22:58.603129Z",
     "start_time": "2019-01-26T14:22:57.723483Z"
    }
   },
   "outputs": [
    {
     "data": {
      "text/plain": [
       "<matplotlib.axes._subplots.AxesSubplot at 0x2850f69c898>"
      ]
     },
     "execution_count": 63,
     "metadata": {},
     "output_type": "execute_result"
    },
    {
     "data": {
      "image/png": "[encoded data removed]",
      "text/plain": [
       "<Figure size 432x288 with 1 Axes>"
      ]
     },
     "metadata": {},
     "output_type": "display_data"
    }
   ],
   "source": [
    "sns.countplot(x='home_ownership',hue='loan_status',data=data)"
   ]
  },
  {
   "cell_type": "code",
   "execution_count": 64,
   "metadata": {
    "ExecuteTime": {
     "end_time": "2019-01-26T14:22:58.669034Z",
     "start_time": "2019-01-26T14:22:58.606121Z"
    },
    "scrolled": true
   },
   "outputs": [],
   "source": [
    "#Change OHTER, NONE, ANY to RENT as these data points are too low.\n",
    "data['home_ownership']=data['home_ownership'].apply(lambda x: 'RENT' if x in ['OTHER','NONE','ANY'] else x)"
   ]
  },
  {
   "cell_type": "code",
   "execution_count": 65,
   "metadata": {
    "ExecuteTime": {
     "end_time": "2019-01-26T14:22:58.757581Z",
     "start_time": "2019-01-26T14:22:58.670035Z"
    }
   },
   "outputs": [
    {
     "data": {
      "text/plain": [
       "Verified           97720\n",
       "Not Verified       88863\n",
       "Source Verified    79198\n",
       "Name: verification_status, dtype: int64"
      ]
     },
     "execution_count": 65,
     "metadata": {},
     "output_type": "execute_result"
    }
   ],
   "source": [
    "#verification_status\n",
    "data['verification_status'].value_counts()"
   ]
  },
  {
   "cell_type": "code",
   "execution_count": 66,
   "metadata": {
    "ExecuteTime": {
     "end_time": "2019-01-26T14:22:59.382356Z",
     "start_time": "2019-01-26T14:22:58.759547Z"
    }
   },
   "outputs": [
    {
     "data": {
      "text/plain": [
       "<matplotlib.axes._subplots.AxesSubplot at 0x2850f684a90>"
      ]
     },
     "execution_count": 66,
     "metadata": {},
     "output_type": "execute_result"
    },
    {
     "data": {
      "image/png": "[encoded data removed]",
      "text/plain": [
       "<Figure size 432x288 with 1 Axes>"
      ]
     },
     "metadata": {},
     "output_type": "display_data"
    }
   ],
   "source": [
    "sns.countplot(x='verification_status',hue='loan_status',data=data)"
   ]
  },
  {
   "cell_type": "code",
   "execution_count": null,
   "metadata": {},
   "outputs": [],
   "source": []
  },
  {
   "cell_type": "code",
   "execution_count": 67,
   "metadata": {
    "ExecuteTime": {
     "end_time": "2019-01-26T14:22:59.479061Z",
     "start_time": "2019-01-26T14:22:59.384343Z"
    }
   },
   "outputs": [
    {
     "name": "stdout",
     "output_type": "stream",
     "text": [
      "n    265775\n",
      "y         6\n",
      "Name: pymnt_plan, dtype: int64\n"
     ]
    }
   ],
   "source": [
    "#pymnt_plan\n",
    "print(data['pymnt_plan'].value_counts())\n",
    "data.drop('pymnt_plan',axis=1,inplace=True)"
   ]
  },
  {
   "cell_type": "code",
   "execution_count": 68,
   "metadata": {
    "ExecuteTime": {
     "end_time": "2019-01-26T14:22:59.581968Z",
     "start_time": "2019-01-26T14:22:59.481055Z"
    }
   },
   "outputs": [
    {
     "name": "stdout",
     "output_type": "stream",
     "text": [
      "Unique values in purpose column: 14\n"
     ]
    },
    {
     "data": {
      "text/plain": [
       "debt_consolidation    156572\n",
       "credit_card            52405\n",
       "home_improvement       15638\n",
       "other                  14937\n",
       "major_purchase          6486\n",
       "small_business          4955\n",
       "car                     3726\n",
       "medical                 2994\n",
       "moving                  2129\n",
       "wedding                 1963\n",
       "house                   1720\n",
       "vacation                1655\n",
       "educational              325\n",
       "renewable_energy         276\n",
       "Name: purpose, dtype: int64"
      ]
     },
     "execution_count": 68,
     "metadata": {},
     "output_type": "execute_result"
    }
   ],
   "source": [
    "#purpose\n",
    "print(\"Unique values in purpose column:\",data['purpose'].nunique())\n",
    "data['purpose'].value_counts()"
   ]
  },
  {
   "cell_type": "code",
   "execution_count": 69,
   "metadata": {
    "ExecuteTime": {
     "end_time": "2019-01-26T14:22:59.774018Z",
     "start_time": "2019-01-26T14:22:59.584960Z"
    },
    "scrolled": true
   },
   "outputs": [
    {
     "data": {
      "text/html": [
       "<div>\n",
       "<style scoped>\n",
       "    .dataframe tbody tr th:only-of-type {\n",
       "        vertical-align: middle;\n",
       "    }\n",
       "\n",
       "    .dataframe tbody tr th {\n",
       "        vertical-align: top;\n",
       "    }\n",
       "\n",
       "    .dataframe thead th {\n",
       "        text-align: right;\n",
       "    }\n",
       "</style>\n",
       "<table border=\"1\" class=\"dataframe\">\n",
       "  <thead>\n",
       "    <tr style=\"text-align: right;\">\n",
       "      <th></th>\n",
       "      <th>purpose_Default_Rate</th>\n",
       "      <th>purpose_Count</th>\n",
       "    </tr>\n",
       "  </thead>\n",
       "  <tbody>\n",
       "    <tr>\n",
       "      <th>car</th>\n",
       "      <td>0.141707</td>\n",
       "      <td>3726</td>\n",
       "    </tr>\n",
       "    <tr>\n",
       "      <th>credit_card</th>\n",
       "      <td>0.193779</td>\n",
       "      <td>52405</td>\n",
       "    </tr>\n",
       "    <tr>\n",
       "      <th>debt_consolidation</th>\n",
       "      <td>0.228700</td>\n",
       "      <td>156572</td>\n",
       "    </tr>\n",
       "    <tr>\n",
       "      <th>educational</th>\n",
       "      <td>0.172308</td>\n",
       "      <td>325</td>\n",
       "    </tr>\n",
       "    <tr>\n",
       "      <th>home_improvement</th>\n",
       "      <td>0.190434</td>\n",
       "      <td>15638</td>\n",
       "    </tr>\n",
       "    <tr>\n",
       "      <th>house</th>\n",
       "      <td>0.205814</td>\n",
       "      <td>1720</td>\n",
       "    </tr>\n",
       "    <tr>\n",
       "      <th>major_purchase</th>\n",
       "      <td>0.168825</td>\n",
       "      <td>6486</td>\n",
       "    </tr>\n",
       "    <tr>\n",
       "      <th>medical</th>\n",
       "      <td>0.236807</td>\n",
       "      <td>2994</td>\n",
       "    </tr>\n",
       "    <tr>\n",
       "      <th>moving</th>\n",
       "      <td>0.247064</td>\n",
       "      <td>2129</td>\n",
       "    </tr>\n",
       "    <tr>\n",
       "      <th>other</th>\n",
       "      <td>0.240744</td>\n",
       "      <td>14937</td>\n",
       "    </tr>\n",
       "    <tr>\n",
       "      <th>renewable_energy</th>\n",
       "      <td>0.228261</td>\n",
       "      <td>276</td>\n",
       "    </tr>\n",
       "    <tr>\n",
       "      <th>small_business</th>\n",
       "      <td>0.318870</td>\n",
       "      <td>4955</td>\n",
       "    </tr>\n",
       "    <tr>\n",
       "      <th>vacation</th>\n",
       "      <td>0.203625</td>\n",
       "      <td>1655</td>\n",
       "    </tr>\n",
       "    <tr>\n",
       "      <th>wedding</th>\n",
       "      <td>0.139073</td>\n",
       "      <td>1963</td>\n",
       "    </tr>\n",
       "  </tbody>\n",
       "</table>\n",
       "</div>"
      ],
      "text/plain": [
       "                    purpose_Default_Rate  purpose_Count\n",
       "car                             0.141707           3726\n",
       "credit_card                     0.193779          52405\n",
       "debt_consolidation              0.228700         156572\n",
       "educational                     0.172308            325\n",
       "home_improvement                0.190434          15638\n",
       "house                           0.205814           1720\n",
       "major_purchase                  0.168825           6486\n",
       "medical                         0.236807           2994\n",
       "moving                          0.247064           2129\n",
       "other                           0.240744          14937\n",
       "renewable_energy                0.228261            276\n",
       "small_business                  0.318870           4955\n",
       "vacation                        0.203625           1655\n",
       "wedding                         0.139073           1963"
      ]
     },
     "execution_count": 69,
     "metadata": {},
     "output_type": "execute_result"
    }
   ],
   "source": [
    "#Get the defalut rate for each laon purpose.\n",
    "get_default_rate_by_col('purpose')\n",
    "#Loans for small_business are highly probable to default."
   ]
  },
  {
   "cell_type": "code",
   "execution_count": null,
   "metadata": {},
   "outputs": [],
   "source": []
  },
  {
   "cell_type": "code",
   "execution_count": 70,
   "metadata": {
    "ExecuteTime": {
     "end_time": "2019-01-26T14:22:59.828846Z",
     "start_time": "2019-01-26T14:22:59.775997Z"
    },
    "scrolled": true
   },
   "outputs": [
    {
     "name": "stdout",
     "output_type": "stream",
     "text": [
      "Number of unique values in addr_state column: 51\n"
     ]
    }
   ],
   "source": [
    "#addr_state\n",
    "print(\"Number of unique values in addr_state column:\",data['addr_state'].nunique())\n",
    "# data['addr_state'].value_counts()"
   ]
  },
  {
   "cell_type": "code",
   "execution_count": 71,
   "metadata": {
    "ExecuteTime": {
     "end_time": "2019-01-26T14:23:00.009996Z",
     "start_time": "2019-01-26T14:22:59.836832Z"
    }
   },
   "outputs": [],
   "source": [
    "default_rate_by_state=get_default_rate_by_col('addr_state')['addr_state_Default_Rate'].sort_values()"
   ]
  },
  {
   "cell_type": "code",
   "execution_count": 72,
   "metadata": {
    "ExecuteTime": {
     "end_time": "2019-01-26T14:23:00.021938Z",
     "start_time": "2019-01-26T14:23:00.012964Z"
    },
    "scrolled": true
   },
   "outputs": [],
   "source": [
    "#Consider states with significant loan applications\n",
    "# default_rate_by_state[data['addr_state'].value_counts()>1000]"
   ]
  },
  {
   "cell_type": "code",
   "execution_count": 73,
   "metadata": {
    "ExecuteTime": {
     "end_time": "2019-01-26T14:23:00.405467Z",
     "start_time": "2019-01-26T14:23:00.023959Z"
    }
   },
   "outputs": [],
   "source": [
    "#Check default rate per year per state\n",
    "tmp1=data.groupby(by=['issue_year','addr_state']).count()['loan_amnt']\n",
    "tmp2=data[data['loan_status']=='Default'].groupby(by=['issue_year','addr_state']).count()['loan_amnt']\n",
    "default_rate_by_year_state=pd.DataFrame(tmp2/tmp1)\n",
    "default_rate_by_year_state=default_rate_by_year_state.reset_index()\n",
    "default_rate_by_year_state=default_rate_by_year_state.sort_values(by=['issue_year','loan_amnt'],ascending=[True,False])\n",
    "default_rate_by_year_state=pd.DataFrame(default_rate_by_year_state)\n",
    "\n",
    "#Add count of rows for each state to the dataframe\n",
    "tmp=pd.DataFrame(data['addr_state'].value_counts())\n",
    "tmp.columns=['count']\n",
    "tmp.reset_index(inplace=True)\n",
    "tmp.columns=['addr_state','count']\n",
    "default_rate_by_year_state=pd.merge(default_rate_by_year_state,tmp,how='left',on='addr_state')\n",
    "pd.DataFrame(default_rate_by_year_state).to_csv('default_rate_by_yar_state.csv',index=False)\n"
   ]
  },
  {
   "cell_type": "code",
   "execution_count": 74,
   "metadata": {
    "ExecuteTime": {
     "end_time": "2019-01-26T14:23:01.269703Z",
     "start_time": "2019-01-26T14:23:00.406985Z"
    }
   },
   "outputs": [],
   "source": [
    "#From above dataframe\n",
    "states_to_keep=['FL','NY','LA','NV','IN','CA','IL','GA','TX']\n",
    "\n",
    "#Create dummy variables for these states\n",
    "for i in states_to_keep:\n",
    "    data['state'+i]=data['addr_state'].apply(lambda x: 1 if x==i else 0)\n",
    "data.drop('addr_state',axis=1,inplace=True)"
   ]
  },
  {
   "cell_type": "code",
   "execution_count": 75,
   "metadata": {
    "ExecuteTime": {
     "end_time": "2019-01-26T14:23:01.849135Z",
     "start_time": "2019-01-26T14:23:01.271671Z"
    },
    "scrolled": true
   },
   "outputs": [
    {
     "name": "stdout",
     "output_type": "stream",
     "text": [
      "f    189062\n",
      "w     76719\n",
      "Name: initial_list_status, dtype: int64\n"
     ]
    },
    {
     "data": {
      "text/plain": [
       "<matplotlib.axes._subplots.AxesSubplot at 0x2850f78f400>"
      ]
     },
     "execution_count": 75,
     "metadata": {},
     "output_type": "execute_result"
    },
    {
     "data": {
      "image/png": "[encoded data removed]",
      "text/plain": [
       "<Figure size 432x288 with 1 Axes>"
      ]
     },
     "metadata": {},
     "output_type": "display_data"
    }
   ],
   "source": [
    "#initial_list_status\n",
    "print(data['initial_list_status'].value_counts())\n",
    "sns.countplot(x='initial_list_status',hue='loan_status',data=data)"
   ]
  },
  {
   "cell_type": "code",
   "execution_count": 76,
   "metadata": {
    "ExecuteTime": {
     "end_time": "2019-01-26T14:23:02.157302Z",
     "start_time": "2019-01-26T14:23:01.851123Z"
    },
    "scrolled": true
   },
   "outputs": [
    {
     "name": "stdout",
     "output_type": "stream",
     "text": [
      "   initial_list_status_Default_Rate  initial_list_status_Count\n",
      "f                          0.211127                     189062\n",
      "w                          0.236473                      76719\n"
     ]
    }
   ],
   "source": [
    "print(get_default_rate_by_col('initial_list_status'))\n",
    "\n",
    "data.drop('initial_list_status',axis=1,inplace=True)"
   ]
  },
  {
   "cell_type": "code",
   "execution_count": 77,
   "metadata": {
    "ExecuteTime": {
     "end_time": "2019-01-26T14:23:02.372727Z",
     "start_time": "2019-01-26T14:23:02.173312Z"
    },
    "scrolled": true
   },
   "outputs": [
    {
     "name": "stdout",
     "output_type": "stream",
     "text": [
      "INDIVIDUAL    265778\n",
      "JOINT              3\n",
      "Name: application_type, dtype: int64\n"
     ]
    }
   ],
   "source": [
    "#application_type\n",
    "print(data['application_type'].value_counts())\n",
    "data.drop('application_type',axis=1,inplace=True)"
   ]
  },
  {
   "cell_type": "code",
   "execution_count": 78,
   "metadata": {
    "ExecuteTime": {
     "end_time": "2019-01-26T14:23:07.387409Z",
     "start_time": "2019-01-26T14:23:02.381709Z"
    }
   },
   "outputs": [],
   "source": [
    "#earliest_cr_line\n",
    "\n",
    "#Change 'issue_d' and 'earliest_cr_line ' to datetime\n",
    "from datetime import datetime as dt\n",
    "data['issue_d']=data['issue_d'].apply(lambda x:dt.strptime('01-'+x,'%d-%b-%Y').date())\n",
    "data['earliest_cr_line']=data['earliest_cr_line'].apply(lambda x:dt.strptime('01-'+x,'%d-%b-%Y').date())"
   ]
  },
  {
   "cell_type": "code",
   "execution_count": 79,
   "metadata": {
    "ExecuteTime": {
     "end_time": "2019-01-26T14:23:11.288911Z",
     "start_time": "2019-01-26T14:23:07.390303Z"
    },
    "scrolled": true
   },
   "outputs": [],
   "source": [
    "data['earliest_cr_line']=data['issue_d']-data['earliest_cr_line']\n",
    "data['earliest_cr_line']=data['earliest_cr_line'].apply(lambda x:int(str(x).split(' ')[0]))"
   ]
  },
  {
   "cell_type": "code",
   "execution_count": 80,
   "metadata": {
    "ExecuteTime": {
     "end_time": "2019-01-26T14:23:11.311839Z",
     "start_time": "2019-01-26T14:23:11.290897Z"
    }
   },
   "outputs": [],
   "source": [
    "#Divide 'annual_inc','tot_cur_bal','total_rev_hi_lim','revol_bal' by 'loan_amnt'\n",
    "tmp=['annual_inc','tot_cur_bal','total_rev_hi_lim','revol_bal']\n",
    "for col in tmp:\n",
    "    data[col]=data[col]/data['loan_amnt']"
   ]
  },
  {
   "cell_type": "code",
   "execution_count": 81,
   "metadata": {
    "ExecuteTime": {
     "end_time": "2019-01-26T14:23:11.881530Z",
     "start_time": "2019-01-26T14:23:11.313834Z"
    }
   },
   "outputs": [],
   "source": [
    "#Create dummy variables for categorical columns\n",
    "cat_cols=['term','grade','home_ownership','verification_status','purpose']\n",
    "for col in cat_cols:\n",
    "    data=data.join(pd.get_dummies(data[col],drop_first=True))\n",
    "data.drop(cat_cols,axis=1,inplace=True)"
   ]
  },
  {
   "cell_type": "code",
   "execution_count": null,
   "metadata": {},
   "outputs": [],
   "source": []
  },
  {
   "cell_type": "code",
   "execution_count": 82,
   "metadata": {
    "ExecuteTime": {
     "end_time": "2019-01-26T14:23:11.887485Z",
     "start_time": "2019-01-26T14:23:11.883493Z"
    }
   },
   "outputs": [],
   "source": [
    "# collections_12_mths_ex_med\n",
    "# get_default_rate_by_col('collections_12_mths_ex_med')"
   ]
  },
  {
   "cell_type": "code",
   "execution_count": 83,
   "metadata": {
    "ExecuteTime": {
     "end_time": "2019-01-26T14:23:12.094444Z",
     "start_time": "2019-01-26T14:23:11.890477Z"
    }
   },
   "outputs": [],
   "source": [
    "data.drop('collections_12_mths_ex_med',axis=1,inplace=True)"
   ]
  },
  {
   "cell_type": "code",
   "execution_count": 84,
   "metadata": {
    "ExecuteTime": {
     "end_time": "2019-01-26T14:23:12.167819Z",
     "start_time": "2019-01-26T14:23:12.096438Z"
    }
   },
   "outputs": [],
   "source": [
    "# data.to_csv('DC3.csv',index=False)"
   ]
  },
  {
   "cell_type": "code",
   "execution_count": null,
   "metadata": {},
   "outputs": [],
   "source": []
  },
  {
   "cell_type": "markdown",
   "metadata": {},
   "source": [
    "### Data Cleaning 4: Handling Outliers \n",
    "In this section I have checked for the outliers. Outliers may force our machine learning model to overfit. Handling outliers features helps to decrease the effect of outliers on machine learning model.\n",
    "\n",
    "An easy way to detect outliers is to plot a box plot.\n",
    "\n",
    "There are many ways to handle the outliers like:\n",
    "1. Delete the rows with outliers\n",
    "2. Cap the features with outliers i.e. set some max value for that feature and cap the outliers at that value.\n",
    "3. Apply some transformations (mostly log or boxcox transformation) to feature and convert it to a near normal distribution.\n",
    "\n",
    "Instead of applying a single strategy to all features, I analysed them and then applied suitable strategy. If feature had extreme outliers, I considered deleting or capping those rows otherwise I applied transformations.\n",
    "\n",
    "Handling outliers itself can be another major task, but I have not much focused on it for this project."
   ]
  },
  {
   "cell_type": "code",
   "execution_count": 85,
   "metadata": {
    "ExecuteTime": {
     "end_time": "2019-01-26T14:23:12.261449Z",
     "start_time": "2019-01-26T14:23:12.169691Z"
    }
   },
   "outputs": [],
   "source": [
    "# data=pd.read_csv('DC3.csv')\n",
    "# data.head()"
   ]
  },
  {
   "cell_type": "markdown",
   "metadata": {},
   "source": [
    "As an example I will explain how did I handle outliers for columns : \n",
    "\n",
    "**1. int_rate**\n",
    "\n",
    "#get_default_rate_by_col('int_rate')\n",
    "\n",
    "As interest rate increases, default rate is also increasing. So, outliers in this case can be helpful to predict defaulter.\n",
    "\n",
    "For interest rate > 25 around 50% loans are default.\n",
    "\n",
    "So, I've transformed this feature."
   ]
  },
  {
   "cell_type": "code",
   "execution_count": 86,
   "metadata": {
    "ExecuteTime": {
     "end_time": "2019-01-26T14:23:12.476058Z",
     "start_time": "2019-01-26T14:23:12.263444Z"
    }
   },
   "outputs": [
    {
     "data": {
      "text/plain": [
       "<matplotlib.axes._subplots.AxesSubplot at 0x2850f7c1c18>"
      ]
     },
     "execution_count": 86,
     "metadata": {},
     "output_type": "execute_result"
    },
    {
     "data": {
      "image/png": "[encoded data removed]",
      "text/plain": [
       "<Figure size 864x432 with 1 Axes>"
      ]
     },
     "metadata": {},
     "output_type": "display_data"
    }
   ],
   "source": [
    "#int_rate\n",
    "fig, ax = plt.subplots()\n",
    "fig.set_size_inches(12,6)\n",
    "sns.boxplot(x='int_rate',data=data,ax=ax)\n",
    "\n",
    "#The points outside the whiskers of boxplot represents outliers."
   ]
  },
  {
   "cell_type": "code",
   "execution_count": 87,
   "metadata": {
    "ExecuteTime": {
     "end_time": "2019-01-26T14:23:12.490025Z",
     "start_time": "2019-01-26T14:23:12.479026Z"
    },
    "scrolled": true
   },
   "outputs": [
    {
     "data": {
      "text/plain": [
       "Default       1116\n",
       "Fully Paid    1112\n",
       "Name: loan_status, dtype: int64"
      ]
     },
     "execution_count": 87,
     "metadata": {},
     "output_type": "execute_result"
    }
   ],
   "source": [
    "data[data['int_rate']>25]['loan_status'].value_counts()"
   ]
  },
  {
   "cell_type": "code",
   "execution_count": 88,
   "metadata": {
    "ExecuteTime": {
     "end_time": "2019-01-26T14:23:12.829629Z",
     "start_time": "2019-01-26T14:23:12.492989Z"
    }
   },
   "outputs": [
    {
     "data": {
      "text/plain": [
       "<matplotlib.axes._subplots.AxesSubplot at 0x28542e02b00>"
      ]
     },
     "execution_count": 88,
     "metadata": {},
     "output_type": "execute_result"
    },
    {
     "data": {
      "image/png": "[encoded data removed]",
      "text/plain": [
       "<Figure size 432x288 with 1 Axes>"
      ]
     },
     "metadata": {},
     "output_type": "display_data"
    }
   ],
   "source": [
    "sns.distplot(data['int_rate'])"
   ]
  },
  {
   "cell_type": "code",
   "execution_count": 89,
   "metadata": {
    "ExecuteTime": {
     "end_time": "2019-01-26T14:23:13.417080Z",
     "start_time": "2019-01-26T14:23:12.831620Z"
    }
   },
   "outputs": [
    {
     "data": {
      "text/plain": [
       "<matplotlib.axes._subplots.AxesSubplot at 0x2850f679e10>"
      ]
     },
     "execution_count": 89,
     "metadata": {},
     "output_type": "execute_result"
    },
    {
     "data": {
      "image/png": "[encoded data removed]",
      "text/plain": [
       "<Figure size 432x288 with 1 Axes>"
      ]
     },
     "metadata": {},
     "output_type": "display_data"
    }
   ],
   "source": [
    "sns.distplot(data['int_rate'].apply(lambda x: np.log1p(x)**2))"
   ]
  },
  {
   "cell_type": "code",
   "execution_count": 90,
   "metadata": {
    "ExecuteTime": {
     "end_time": "2019-01-26T14:23:13.797063Z",
     "start_time": "2019-01-26T14:23:13.419050Z"
    }
   },
   "outputs": [],
   "source": [
    "data['int_rate']=data['int_rate'].apply(lambda x: np.log1p(x)**2)"
   ]
  },
  {
   "cell_type": "markdown",
   "metadata": {},
   "source": [
    "**2. dti**\n",
    "\n",
    "There is only one value greate than 40 which is 57.14. It is an extreme outlier, so I removed it. There is no need to apply any distribution."
   ]
  },
  {
   "cell_type": "code",
   "execution_count": 91,
   "metadata": {
    "ExecuteTime": {
     "end_time": "2019-01-26T14:23:13.933673Z",
     "start_time": "2019-01-26T14:23:13.799057Z"
    }
   },
   "outputs": [
    {
     "data": {
      "text/plain": [
       "<matplotlib.axes._subplots.AxesSubplot at 0x28510794208>"
      ]
     },
     "execution_count": 91,
     "metadata": {},
     "output_type": "execute_result"
    },
    {
     "data": {
      "image/png": "[encoded data removed]",
      "text/plain": [
       "<Figure size 864x432 with 1 Axes>"
      ]
     },
     "metadata": {},
     "output_type": "display_data"
    }
   ],
   "source": [
    "fig, ax = plt.subplots()\n",
    "fig.set_size_inches(12,6)\n",
    "sns.boxplot(x='dti',data=data,ax=ax)"
   ]
  },
  {
   "cell_type": "code",
   "execution_count": 92,
   "metadata": {
    "ExecuteTime": {
     "end_time": "2019-01-26T14:23:14.083298Z",
     "start_time": "2019-01-26T14:23:13.936679Z"
    },
    "scrolled": true
   },
   "outputs": [],
   "source": [
    "data=data[data['dti']<40].reset_index(drop=True)"
   ]
  },
  {
   "cell_type": "code",
   "execution_count": 93,
   "metadata": {
    "ExecuteTime": {
     "end_time": "2019-01-26T14:23:14.355578Z",
     "start_time": "2019-01-26T14:23:14.085268Z"
    }
   },
   "outputs": [
    {
     "data": {
      "text/plain": [
       "<matplotlib.axes._subplots.AxesSubplot at 0x285108ffe48>"
      ]
     },
     "execution_count": 93,
     "metadata": {},
     "output_type": "execute_result"
    },
    {
     "data": {
      "image/png": "[encoded data removed]",
      "text/plain": [
       "<Figure size 432x288 with 1 Axes>"
      ]
     },
     "metadata": {},
     "output_type": "display_data"
    }
   ],
   "source": [
    "sns.distplot(data['dti'])"
   ]
  },
  {
   "cell_type": "markdown",
   "metadata": {},
   "source": [
    "In this way I have handled outliers in the data. Some bullet points are: \n",
    "\n",
    "1. Instances with higher delinquency are too low to get any conclusion.\n",
    "2. As number of inquiries increases, we can see increase in default rate. But, higher 'inq_last_6mths' values have  too low instances. Same is the case for 'open_acc'\n",
    "3. Values with high 'revol_bal' have less defaulters. But values are much spreaded after 40.\n",
    "\n",
    "I can't mention all the steps here. I have added the final code of outlier removal in 'lending_club.data_cleaning.py' file."
   ]
  },
  {
   "cell_type": "code",
   "execution_count": 94,
   "metadata": {
    "ExecuteTime": {
     "end_time": "2019-01-26T14:23:17.390519Z",
     "start_time": "2019-01-26T14:23:14.358536Z"
    }
   },
   "outputs": [],
   "source": [
    "from lending_club.data_cleaning import Transform_Skewed_Features\n",
    "transformer=Transform_Skewed_Features()\n",
    "data=transformer.fit_transform(data)"
   ]
  },
  {
   "cell_type": "code",
   "execution_count": 95,
   "metadata": {
    "ExecuteTime": {
     "end_time": "2019-01-26T14:23:17.398407Z",
     "start_time": "2019-01-26T14:23:17.393425Z"
    }
   },
   "outputs": [],
   "source": [
    "# data.to_csv('DC4.csv',index=False)"
   ]
  },
  {
   "cell_type": "code",
   "execution_count": null,
   "metadata": {},
   "outputs": [],
   "source": []
  },
  {
   "cell_type": "markdown",
   "metadata": {},
   "source": [
    "### Data Cleaning 5: Multicolinearity\n",
    "\n",
    "I have also checked for multi-colinearity in data. Multicoliearity can be checked from variance Inflation Factor (vif). Basically, it detects highly correlated features from the data. Presence of highly correlated features in data will overfit the machine learning model. So, it is necessary to remove such features from data.\n",
    "\n",
    "But, removing all such features may not always help and even in worst case it can make the model worse. So, it is always good to train model in both cases or try changing thrshold of vif. I have not much focused on this part. \n",
    "\n",
    "I have already written code for this in my another project [California House Price Prediction](https://github.com/sonarsushant/California-House-Price-Prediction). I have added this code to 'lending_club.data_analysis.py' file."
   ]
  },
  {
   "cell_type": "code",
   "execution_count": 96,
   "metadata": {
    "ExecuteTime": {
     "end_time": "2019-01-26T14:23:17.517724Z",
     "start_time": "2019-01-26T14:23:17.401422Z"
    }
   },
   "outputs": [],
   "source": [
    "# data=pd.read_csv('DC4.csv')\n",
    "# data.head()"
   ]
  },
  {
   "cell_type": "code",
   "execution_count": 97,
   "metadata": {
    "ExecuteTime": {
     "end_time": "2019-01-26T14:23:17.722685Z",
     "start_time": "2019-01-26T14:23:17.519603Z"
    }
   },
   "outputs": [],
   "source": [
    "y=data['loan_status'].apply(lambda x: 1 if x=='Default' else 0)"
   ]
  },
  {
   "cell_type": "code",
   "execution_count": 98,
   "metadata": {
    "ExecuteTime": {
     "end_time": "2019-01-26T14:23:17.798705Z",
     "start_time": "2019-01-26T14:23:17.724550Z"
    },
    "scrolled": true
   },
   "outputs": [],
   "source": [
    "data.drop(['loan_status','issue_d','issue_year'],axis=1,inplace=True)"
   ]
  },
  {
   "cell_type": "code",
   "execution_count": 99,
   "metadata": {
    "ExecuteTime": {
     "end_time": "2019-01-26T14:23:17.884899Z",
     "start_time": "2019-01-26T14:23:17.800700Z"
    }
   },
   "outputs": [],
   "source": [
    "from lending_club.data_cleaning import remove_by_vif"
   ]
  },
  {
   "cell_type": "code",
   "execution_count": 100,
   "metadata": {
    "ExecuteTime": {
     "end_time": "2019-01-26T14:23:18.009905Z",
     "start_time": "2019-01-26T14:23:17.886871Z"
    },
    "code_folding": [],
    "scrolled": true
   },
   "outputs": [],
   "source": [
    "# remove_by_vif(data)"
   ]
  },
  {
   "cell_type": "code",
   "execution_count": 101,
   "metadata": {
    "ExecuteTime": {
     "end_time": "2019-01-26T14:23:18.109743Z",
     "start_time": "2019-01-26T14:23:18.017883Z"
    }
   },
   "outputs": [],
   "source": [
    "columns_removed_by_vif=['loan_amnt','int_rate','annual_inc','total_acc','revol_bal',\n",
    "                        'debt_consolidation','total_rev_hi_lim','tot_cur_bal','open_acc'\n",
    "                        'revol_util','earliest_cr_line',]"
   ]
  },
  {
   "cell_type": "markdown",
   "metadata": {},
   "source": [
    "### Next Steps:\n",
    "1. Prepare data for machine learning algorithm\n",
    "    1. Create a pipeline to do all the data cleaning I did in this notebook\n",
    "    2. Split data into train and test set\n",
    "    3. Applying SMOTE technique. (I have explained this in next notebook)\n",
    "    4. Standard scaling of data\n",
    "    \n",
    "    \n",
    "2. Training machine learning algorithms"
   ]
  },
  {
   "cell_type": "code",
   "execution_count": null,
   "metadata": {},
   "outputs": [],
   "source": []
  },
  {
   "cell_type": "code",
   "execution_count": null,
   "metadata": {},
   "outputs": [],
   "source": []
  }
 ],
 "metadata": {
  "kernelspec": {
   "display_name": "Python 3 (ipykernel)",
   "language": "python",
   "name": "python3"
  },
  "language_info": {
   "codemirror_mode": {
    "name": "ipython",
    "version": 3
   },
   "file_extension": ".py",
   "mimetype": "text/x-python",
   "name": "python",
   "nbconvert_exporter": "python",
   "pygments_lexer": "ipython3",
   "version": "3.9.7"
  }
 },
 "nbformat": 4,
 "nbformat_minor": 2
}
