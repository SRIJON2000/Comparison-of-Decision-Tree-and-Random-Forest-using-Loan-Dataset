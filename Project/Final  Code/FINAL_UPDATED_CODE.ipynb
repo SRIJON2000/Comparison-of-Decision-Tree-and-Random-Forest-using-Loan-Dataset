{
 "cells": [
  {
   "cell_type": "code",
   "execution_count": 1,
   "id": "b9ceb584",
   "metadata": {},
   "outputs": [],
   "source": [
    "import pandas as pd\n",
    "import math\n",
    "import numpy as np\n",
    "import matplotlib.pyplot as plt"
   ]
  },
  {
   "cell_type": "code",
   "execution_count": 2,
   "id": "8240ebdf",
   "metadata": {},
   "outputs": [
    {
     "name": "stderr",
     "output_type": "stream",
     "text": [
      "C:\\Users\\Srijon Mallick\\anaconda3\\lib\\site-packages\\IPython\\core\\interactiveshell.py:3444: DtypeWarning: Columns (0,47) have mixed types.Specify dtype option on import or set low_memory=False.\n",
      "  exec(code_obj, self.user_global_ns, self.user_ns)\n"
     ]
    }
   ],
   "source": [
    "data=pd.read_csv(r'loan.csv')"
   ]
  },
  {
   "cell_type": "code",
   "execution_count": 3,
   "id": "fb7862cc",
   "metadata": {},
   "outputs": [
    {
     "data": {
      "text/plain": [
       "(42542, 111)"
      ]
     },
     "execution_count": 3,
     "metadata": {},
     "output_type": "execute_result"
    }
   ],
   "source": [
    "data.shape"
   ]
  },
  {
   "cell_type": "code",
   "execution_count": 4,
   "id": "8fd7b05c",
   "metadata": {},
   "outputs": [
    {
     "name": "stdout",
     "output_type": "stream",
     "text": [
      "<class 'pandas.core.frame.DataFrame'>\n",
      "RangeIndex: 42542 entries, 0 to 42541\n",
      "Columns: 111 entries, id to total_il_high_credit_limit\n",
      "dtypes: float64(86), object(25)\n",
      "memory usage: 36.0+ MB\n"
     ]
    }
   ],
   "source": [
    "data.info()"
   ]
  },
  {
   "cell_type": "code",
   "execution_count": 5,
   "id": "f69674f6",
   "metadata": {},
   "outputs": [],
   "source": [
    "data_dict_all=pd.read_excel('LCDataDictionary.xlsx',sheet_name='LoanStats')"
   ]
  },
  {
   "cell_type": "code",
   "execution_count": 6,
   "id": "89427947",
   "metadata": {},
   "outputs": [
    {
     "data": {
      "text/html": [
       "<div>\n",
       "<style scoped>\n",
       "    .dataframe tbody tr th:only-of-type {\n",
       "        vertical-align: middle;\n",
       "    }\n",
       "\n",
       "    .dataframe tbody tr th {\n",
       "        vertical-align: top;\n",
       "    }\n",
       "\n",
       "    .dataframe thead th {\n",
       "        text-align: right;\n",
       "    }\n",
       "</style>\n",
       "<table border=\"1\" class=\"dataframe\">\n",
       "  <thead>\n",
       "    <tr style=\"text-align: right;\">\n",
       "      <th></th>\n",
       "      <th>LoanStatNew</th>\n",
       "      <th>Description</th>\n",
       "    </tr>\n",
       "  </thead>\n",
       "  <tbody>\n",
       "    <tr>\n",
       "      <th>0</th>\n",
       "      <td>acc_now_delinq</td>\n",
       "      <td>The number of accounts on which the borrower i...</td>\n",
       "    </tr>\n",
       "    <tr>\n",
       "      <th>1</th>\n",
       "      <td>acc_open_past_24mths</td>\n",
       "      <td>Number of trades opened in past 24 months.</td>\n",
       "    </tr>\n",
       "    <tr>\n",
       "      <th>2</th>\n",
       "      <td>addr_state</td>\n",
       "      <td>The state provided by the borrower in the loan...</td>\n",
       "    </tr>\n",
       "    <tr>\n",
       "      <th>3</th>\n",
       "      <td>all_util</td>\n",
       "      <td>Balance to credit limit on all trades</td>\n",
       "    </tr>\n",
       "    <tr>\n",
       "      <th>4</th>\n",
       "      <td>annual_inc</td>\n",
       "      <td>The self-reported annual income provided by th...</td>\n",
       "    </tr>\n",
       "  </tbody>\n",
       "</table>\n",
       "</div>"
      ],
      "text/plain": [
       "            LoanStatNew                                        Description\n",
       "0        acc_now_delinq  The number of accounts on which the borrower i...\n",
       "1  acc_open_past_24mths         Number of trades opened in past 24 months.\n",
       "2            addr_state  The state provided by the borrower in the loan...\n",
       "3              all_util              Balance to credit limit on all trades\n",
       "4            annual_inc  The self-reported annual income provided by th..."
      ]
     },
     "execution_count": 6,
     "metadata": {},
     "output_type": "execute_result"
    }
   ],
   "source": [
    "data_dict=data_dict_all.iloc[:,0:2]\n",
    "data_dict.head()"
   ]
  },
  {
   "cell_type": "code",
   "execution_count": 7,
   "id": "d6ba3314",
   "metadata": {},
   "outputs": [],
   "source": [
    "data_dtypes=pd.DataFrame(data.dtypes,columns=['dtype'])\n",
    "data_dtypes.reset_index(inplace=True)\n",
    "data_dtypes.columns=['LoanStatNew', 'dtype']\n",
    "data_dtypes['first value'] = data.loc[0].values"
   ]
  },
  {
   "cell_type": "code",
   "execution_count": 8,
   "id": "c86f35e7",
   "metadata": {},
   "outputs": [
    {
     "data": {
      "text/html": [
       "<div>\n",
       "<style scoped>\n",
       "    .dataframe tbody tr th:only-of-type {\n",
       "        vertical-align: middle;\n",
       "    }\n",
       "\n",
       "    .dataframe tbody tr th {\n",
       "        vertical-align: top;\n",
       "    }\n",
       "\n",
       "    .dataframe thead th {\n",
       "        text-align: right;\n",
       "    }\n",
       "</style>\n",
       "<table border=\"1\" class=\"dataframe\">\n",
       "  <thead>\n",
       "    <tr style=\"text-align: right;\">\n",
       "      <th></th>\n",
       "      <th>LoanStatNew</th>\n",
       "      <th>dtype</th>\n",
       "      <th>first value</th>\n",
       "    </tr>\n",
       "  </thead>\n",
       "  <tbody>\n",
       "    <tr>\n",
       "      <th>0</th>\n",
       "      <td>id</td>\n",
       "      <td>object</td>\n",
       "      <td>1077501</td>\n",
       "    </tr>\n",
       "    <tr>\n",
       "      <th>1</th>\n",
       "      <td>member_id</td>\n",
       "      <td>float64</td>\n",
       "      <td>1296599.0</td>\n",
       "    </tr>\n",
       "    <tr>\n",
       "      <th>2</th>\n",
       "      <td>loan_amnt</td>\n",
       "      <td>float64</td>\n",
       "      <td>5000.0</td>\n",
       "    </tr>\n",
       "    <tr>\n",
       "      <th>3</th>\n",
       "      <td>funded_amnt</td>\n",
       "      <td>float64</td>\n",
       "      <td>5000.0</td>\n",
       "    </tr>\n",
       "    <tr>\n",
       "      <th>4</th>\n",
       "      <td>funded_amnt_inv</td>\n",
       "      <td>float64</td>\n",
       "      <td>4975.0</td>\n",
       "    </tr>\n",
       "  </tbody>\n",
       "</table>\n",
       "</div>"
      ],
      "text/plain": [
       "       LoanStatNew    dtype first value\n",
       "0               id   object     1077501\n",
       "1        member_id  float64   1296599.0\n",
       "2        loan_amnt  float64      5000.0\n",
       "3      funded_amnt  float64      5000.0\n",
       "4  funded_amnt_inv  float64      4975.0"
      ]
     },
     "execution_count": 8,
     "metadata": {},
     "output_type": "execute_result"
    }
   ],
   "source": [
    "data_dtypes.head()"
   ]
  },
  {
   "cell_type": "code",
   "execution_count": 9,
   "id": "466b8de2",
   "metadata": {},
   "outputs": [],
   "source": [
    "data_col=data_dtypes.merge(data_dict, on='LoanStatNew',how='left')"
   ]
  },
  {
   "cell_type": "code",
   "execution_count": 10,
   "id": "ba743be9",
   "metadata": {},
   "outputs": [
    {
     "data": {
      "text/html": [
       "<div>\n",
       "<style scoped>\n",
       "    .dataframe tbody tr th:only-of-type {\n",
       "        vertical-align: middle;\n",
       "    }\n",
       "\n",
       "    .dataframe tbody tr th {\n",
       "        vertical-align: top;\n",
       "    }\n",
       "\n",
       "    .dataframe thead th {\n",
       "        text-align: right;\n",
       "    }\n",
       "</style>\n",
       "<table border=\"1\" class=\"dataframe\">\n",
       "  <thead>\n",
       "    <tr style=\"text-align: right;\">\n",
       "      <th></th>\n",
       "      <th>LoanStatNew</th>\n",
       "      <th>dtype</th>\n",
       "      <th>first value</th>\n",
       "      <th>Description</th>\n",
       "    </tr>\n",
       "  </thead>\n",
       "  <tbody>\n",
       "    <tr>\n",
       "      <th>0</th>\n",
       "      <td>id</td>\n",
       "      <td>object</td>\n",
       "      <td>1077501</td>\n",
       "      <td>A unique LC assigned ID for the loan listing.</td>\n",
       "    </tr>\n",
       "    <tr>\n",
       "      <th>1</th>\n",
       "      <td>member_id</td>\n",
       "      <td>float64</td>\n",
       "      <td>1296599.0</td>\n",
       "      <td>A unique LC assigned Id for the borrower member.</td>\n",
       "    </tr>\n",
       "    <tr>\n",
       "      <th>2</th>\n",
       "      <td>loan_amnt</td>\n",
       "      <td>float64</td>\n",
       "      <td>5000.0</td>\n",
       "      <td>The listed amount of the loan applied for by t...</td>\n",
       "    </tr>\n",
       "    <tr>\n",
       "      <th>3</th>\n",
       "      <td>funded_amnt</td>\n",
       "      <td>float64</td>\n",
       "      <td>5000.0</td>\n",
       "      <td>The total amount committed to that loan at tha...</td>\n",
       "    </tr>\n",
       "    <tr>\n",
       "      <th>4</th>\n",
       "      <td>funded_amnt_inv</td>\n",
       "      <td>float64</td>\n",
       "      <td>4975.0</td>\n",
       "      <td>The total amount committed by investors for th...</td>\n",
       "    </tr>\n",
       "  </tbody>\n",
       "</table>\n",
       "</div>"
      ],
      "text/plain": [
       "       LoanStatNew    dtype first value  \\\n",
       "0               id   object     1077501   \n",
       "1        member_id  float64   1296599.0   \n",
       "2        loan_amnt  float64      5000.0   \n",
       "3      funded_amnt  float64      5000.0   \n",
       "4  funded_amnt_inv  float64      4975.0   \n",
       "\n",
       "                                         Description  \n",
       "0      A unique LC assigned ID for the loan listing.  \n",
       "1   A unique LC assigned Id for the borrower member.  \n",
       "2  The listed amount of the loan applied for by t...  \n",
       "3  The total amount committed to that loan at tha...  \n",
       "4  The total amount committed by investors for th...  "
      ]
     },
     "execution_count": 10,
     "metadata": {},
     "output_type": "execute_result"
    }
   ],
   "source": [
    "data_col.head()"
   ]
  },
  {
   "cell_type": "code",
   "execution_count": 11,
   "id": "4d2f38e5",
   "metadata": {},
   "outputs": [],
   "source": [
    "d={'LoanStatNew':[],'Nulls':[]}\n",
    "for i in data.columns:\n",
    "    d['LoanStatNew'].append(i)\n",
    "    d['Nulls'].append(len(data[data[i].isnull()][i]))\n",
    "data_col=data_col.merge(pd.DataFrame(d),on='LoanStatNew')\n",
    "nulls=pd.DataFrame(d)"
   ]
  },
  {
   "cell_type": "code",
   "execution_count": 12,
   "id": "53e514b8",
   "metadata": {},
   "outputs": [
    {
     "data": {
      "text/html": [
       "<div>\n",
       "<style scoped>\n",
       "    .dataframe tbody tr th:only-of-type {\n",
       "        vertical-align: middle;\n",
       "    }\n",
       "\n",
       "    .dataframe tbody tr th {\n",
       "        vertical-align: top;\n",
       "    }\n",
       "\n",
       "    .dataframe thead th {\n",
       "        text-align: right;\n",
       "    }\n",
       "</style>\n",
       "<table border=\"1\" class=\"dataframe\">\n",
       "  <thead>\n",
       "    <tr style=\"text-align: right;\">\n",
       "      <th></th>\n",
       "      <th>LoanStatNew</th>\n",
       "      <th>dtype</th>\n",
       "      <th>first value</th>\n",
       "      <th>Description</th>\n",
       "      <th>Nulls</th>\n",
       "    </tr>\n",
       "  </thead>\n",
       "  <tbody>\n",
       "    <tr>\n",
       "      <th>0</th>\n",
       "      <td>id</td>\n",
       "      <td>object</td>\n",
       "      <td>1077501</td>\n",
       "      <td>A unique LC assigned ID for the loan listing.</td>\n",
       "      <td>4</td>\n",
       "    </tr>\n",
       "    <tr>\n",
       "      <th>1</th>\n",
       "      <td>member_id</td>\n",
       "      <td>float64</td>\n",
       "      <td>1296599.0</td>\n",
       "      <td>A unique LC assigned Id for the borrower member.</td>\n",
       "      <td>7</td>\n",
       "    </tr>\n",
       "    <tr>\n",
       "      <th>2</th>\n",
       "      <td>loan_amnt</td>\n",
       "      <td>float64</td>\n",
       "      <td>5000.0</td>\n",
       "      <td>The listed amount of the loan applied for by t...</td>\n",
       "      <td>7</td>\n",
       "    </tr>\n",
       "    <tr>\n",
       "      <th>3</th>\n",
       "      <td>funded_amnt</td>\n",
       "      <td>float64</td>\n",
       "      <td>5000.0</td>\n",
       "      <td>The total amount committed to that loan at tha...</td>\n",
       "      <td>7</td>\n",
       "    </tr>\n",
       "    <tr>\n",
       "      <th>4</th>\n",
       "      <td>funded_amnt_inv</td>\n",
       "      <td>float64</td>\n",
       "      <td>4975.0</td>\n",
       "      <td>The total amount committed by investors for th...</td>\n",
       "      <td>7</td>\n",
       "    </tr>\n",
       "  </tbody>\n",
       "</table>\n",
       "</div>"
      ],
      "text/plain": [
       "       LoanStatNew    dtype first value  \\\n",
       "0               id   object     1077501   \n",
       "1        member_id  float64   1296599.0   \n",
       "2        loan_amnt  float64      5000.0   \n",
       "3      funded_amnt  float64      5000.0   \n",
       "4  funded_amnt_inv  float64      4975.0   \n",
       "\n",
       "                                         Description  Nulls  \n",
       "0      A unique LC assigned ID for the loan listing.      4  \n",
       "1   A unique LC assigned Id for the borrower member.      7  \n",
       "2  The listed amount of the loan applied for by t...      7  \n",
       "3  The total amount committed to that loan at tha...      7  \n",
       "4  The total amount committed by investors for th...      7  "
      ]
     },
     "execution_count": 12,
     "metadata": {},
     "output_type": "execute_result"
    }
   ],
   "source": [
    "data_col.head()"
   ]
  },
  {
   "cell_type": "code",
   "execution_count": 13,
   "id": "1e600544",
   "metadata": {},
   "outputs": [
    {
     "data": {
      "text/plain": [
       "array(['Fully Paid', 'Charged Off', 'Current', 'Late (31-120 days)',\n",
       "       'In Grace Period', 'Late (16-30 days)', 'Default', nan,\n",
       "       'Does not meet the credit policy. Status:Fully Paid',\n",
       "       'Does not meet the credit policy. Status:Charged Off'],\n",
       "      dtype=object)"
      ]
     },
     "execution_count": 13,
     "metadata": {},
     "output_type": "execute_result"
    }
   ],
   "source": [
    "data_y=data['loan_status']\n",
    "data_y.unique()"
   ]
  },
  {
   "cell_type": "code",
   "execution_count": 14,
   "id": "ea352010",
   "metadata": {},
   "outputs": [
    {
     "data": {
      "text/plain": [
       "Fully Paid                                             34085\n",
       "Charged Off                                             5662\n",
       "Does not meet the credit policy. Status:Fully Paid      1988\n",
       "Does not meet the credit policy. Status:Charged Off      761\n",
       "Current                                                   19\n",
       "Late (31-120 days)                                         9\n",
       "In Grace Period                                            8\n",
       "Late (16-30 days)                                          2\n",
       "Default                                                    1\n",
       "Name: loan_status, dtype: int64"
      ]
     },
     "execution_count": 14,
     "metadata": {},
     "output_type": "execute_result"
    }
   ],
   "source": [
    "data_y.value_counts()"
   ]
  },
  {
   "cell_type": "code",
   "execution_count": 15,
   "id": "9814c971",
   "metadata": {},
   "outputs": [],
   "source": [
    "paid=['Fully Paid','Does not meet the credit policy. Status:Fully Paid']\n",
    "data['loan_status']=data['loan_status'].apply(lambda x: 'Fully Paid' if x in paid else x)"
   ]
  },
  {
   "cell_type": "code",
   "execution_count": 16,
   "id": "bc919e22",
   "metadata": {},
   "outputs": [],
   "source": [
    "default=['Charged Off','Late (31-120 days)','Late (16-30 days)','Does not meet the credit policy. Status:Charged Off',\n",
    "         'In Grace Period','Default']\n",
    "data['loan_status']=data['loan_status'].apply(lambda x: 'Default' if x in default else x)"
   ]
  },
  {
   "cell_type": "code",
   "execution_count": 17,
   "id": "6ca76a39",
   "metadata": {},
   "outputs": [
    {
     "data": {
      "text/plain": [
       "Fully Paid    36073\n",
       "Default        6443\n",
       "Current          19\n",
       "Name: loan_status, dtype: int64"
      ]
     },
     "execution_count": 17,
     "metadata": {},
     "output_type": "execute_result"
    }
   ],
   "source": [
    "data_y.value_counts()"
   ]
  },
  {
   "cell_type": "code",
   "execution_count": 18,
   "id": "51925fd5",
   "metadata": {},
   "outputs": [],
   "source": [
    "data=data[(data['loan_status']=='Default') | (data['loan_status']=='Fully Paid')]"
   ]
  },
  {
   "cell_type": "code",
   "execution_count": 19,
   "id": "6fa107c1",
   "metadata": {},
   "outputs": [
    {
     "data": {
      "text/plain": [
       "0.8484570514629787"
      ]
     },
     "execution_count": 19,
     "metadata": {},
     "output_type": "execute_result"
    }
   ],
   "source": [
    "# Data is skewed in the ratio of 15.2/84.8\n",
    "data['loan_status'].value_counts()[0]/len(data['loan_status'])"
   ]
  },
  {
   "cell_type": "code",
   "execution_count": 20,
   "id": "d5cc0390",
   "metadata": {},
   "outputs": [
    {
     "data": {
      "text/html": [
       "<div>\n",
       "<style scoped>\n",
       "    .dataframe tbody tr th:only-of-type {\n",
       "        vertical-align: middle;\n",
       "    }\n",
       "\n",
       "    .dataframe tbody tr th {\n",
       "        vertical-align: top;\n",
       "    }\n",
       "\n",
       "    .dataframe thead th {\n",
       "        text-align: right;\n",
       "    }\n",
       "</style>\n",
       "<table border=\"1\" class=\"dataframe\">\n",
       "  <thead>\n",
       "    <tr style=\"text-align: right;\">\n",
       "      <th></th>\n",
       "      <th>loan_amnt</th>\n",
       "    </tr>\n",
       "    <tr>\n",
       "      <th>loan_status</th>\n",
       "      <th></th>\n",
       "    </tr>\n",
       "  </thead>\n",
       "  <tbody>\n",
       "    <tr>\n",
       "      <th>Default</th>\n",
       "      <td>11852.611361</td>\n",
       "    </tr>\n",
       "    <tr>\n",
       "      <th>Fully Paid</th>\n",
       "      <td>10951.009065</td>\n",
       "    </tr>\n",
       "  </tbody>\n",
       "</table>\n",
       "</div>"
      ],
      "text/plain": [
       "                loan_amnt\n",
       "loan_status              \n",
       "Default      11852.611361\n",
       "Fully Paid   10951.009065"
      ]
     },
     "execution_count": 20,
     "metadata": {},
     "output_type": "execute_result"
    }
   ],
   "source": [
    "data[['loan_amnt','loan_status']].groupby(by='loan_status').mean()"
   ]
  },
  {
   "cell_type": "code",
   "execution_count": 21,
   "id": "4e0ed7bb",
   "metadata": {},
   "outputs": [
    {
     "name": "stderr",
     "output_type": "stream",
     "text": [
      "C:\\Users\\Srijon Mallick\\anaconda3\\lib\\site-packages\\seaborn\\_decorators.py:36: FutureWarning: Pass the following variables as keyword args: x, y. From version 0.12, the only valid positional argument will be `data`, and passing other arguments without an explicit keyword will result in an error or misinterpretation.\n",
      "  warnings.warn(\n"
     ]
    },
    {
     "data": {
      "text/plain": [
       "<AxesSubplot:xlabel='loan_amnt', ylabel='loan_status'>"
      ]
     },
     "execution_count": 21,
     "metadata": {},
     "output_type": "execute_result"
    },
    {
     "data": {
      "image/png": "[encoded data removed]",
      "text/plain": [
       "<Figure size 864x432 with 1 Axes>"
      ]
     },
     "metadata": {
      "needs_background": "light"
     },
     "output_type": "display_data"
    }
   ],
   "source": [
    "import seaborn as sns\n",
    "plt.figure(figsize=(12,6))\n",
    "sns.boxplot(data['loan_amnt'],data['loan_status'])"
   ]
  },
  {
   "cell_type": "code",
   "execution_count": 22,
   "id": "e46ef8c3",
   "metadata": {},
   "outputs": [
    {
     "data": {
      "text/plain": [
       "<AxesSubplot:xlabel='loan_status'>"
      ]
     },
     "execution_count": 22,
     "metadata": {},
     "output_type": "execute_result"
    },
    {
     "data": {
      "image/png": "[encoded data removed]",
      "text/plain": [
       "<Figure size 432x288 with 1 Axes>"
      ]
     },
     "metadata": {
      "needs_background": "light"
     },
     "output_type": "display_data"
    }
   ],
   "source": [
    "total_funded_amnt=data['funded_amnt'].sum()\n",
    "(data[['funded_amnt','loan_status']].groupby(by='loan_status').\\\n",
    "         sum()/total_funded_amnt*100).plot(kind='bar')"
   ]
  },
  {
   "cell_type": "markdown",
   "id": "7f197a44",
   "metadata": {},
   "source": [
    "**Cleaning Part 1**"
   ]
  },
  {
   "cell_type": "code",
   "execution_count": 23,
   "id": "d2da2a16",
   "metadata": {},
   "outputs": [
    {
     "data": {
      "text/html": [
       "<div>\n",
       "<style scoped>\n",
       "    .dataframe tbody tr th:only-of-type {\n",
       "        vertical-align: middle;\n",
       "    }\n",
       "\n",
       "    .dataframe tbody tr th {\n",
       "        vertical-align: top;\n",
       "    }\n",
       "\n",
       "    .dataframe thead th {\n",
       "        text-align: right;\n",
       "    }\n",
       "</style>\n",
       "<table border=\"1\" class=\"dataframe\">\n",
       "  <thead>\n",
       "    <tr style=\"text-align: right;\">\n",
       "      <th></th>\n",
       "      <th>LoanStatNew</th>\n",
       "      <th>dtype</th>\n",
       "      <th>first value</th>\n",
       "      <th>Description</th>\n",
       "      <th>Nulls</th>\n",
       "    </tr>\n",
       "  </thead>\n",
       "  <tbody>\n",
       "    <tr>\n",
       "      <th>0</th>\n",
       "      <td>id</td>\n",
       "      <td>object</td>\n",
       "      <td>1077501</td>\n",
       "      <td>A unique LC assigned ID for the loan listing.</td>\n",
       "      <td>4</td>\n",
       "    </tr>\n",
       "    <tr>\n",
       "      <th>1</th>\n",
       "      <td>member_id</td>\n",
       "      <td>float64</td>\n",
       "      <td>1296599.0</td>\n",
       "      <td>A unique LC assigned Id for the borrower member.</td>\n",
       "      <td>7</td>\n",
       "    </tr>\n",
       "    <tr>\n",
       "      <th>2</th>\n",
       "      <td>loan_amnt</td>\n",
       "      <td>float64</td>\n",
       "      <td>5000.0</td>\n",
       "      <td>The listed amount of the loan applied for by t...</td>\n",
       "      <td>7</td>\n",
       "    </tr>\n",
       "    <tr>\n",
       "      <th>3</th>\n",
       "      <td>funded_amnt</td>\n",
       "      <td>float64</td>\n",
       "      <td>5000.0</td>\n",
       "      <td>The total amount committed to that loan at tha...</td>\n",
       "      <td>7</td>\n",
       "    </tr>\n",
       "    <tr>\n",
       "      <th>4</th>\n",
       "      <td>funded_amnt_inv</td>\n",
       "      <td>float64</td>\n",
       "      <td>4975.0</td>\n",
       "      <td>The total amount committed by investors for th...</td>\n",
       "      <td>7</td>\n",
       "    </tr>\n",
       "    <tr>\n",
       "      <th>5</th>\n",
       "      <td>term</td>\n",
       "      <td>object</td>\n",
       "      <td>36 months</td>\n",
       "      <td>The number of payments on the loan. Values are...</td>\n",
       "      <td>7</td>\n",
       "    </tr>\n",
       "    <tr>\n",
       "      <th>6</th>\n",
       "      <td>int_rate</td>\n",
       "      <td>object</td>\n",
       "      <td>10.65%</td>\n",
       "      <td>Interest Rate on the loan</td>\n",
       "      <td>7</td>\n",
       "    </tr>\n",
       "    <tr>\n",
       "      <th>7</th>\n",
       "      <td>installment</td>\n",
       "      <td>float64</td>\n",
       "      <td>162.87</td>\n",
       "      <td>The monthly payment owed by the borrower if th...</td>\n",
       "      <td>7</td>\n",
       "    </tr>\n",
       "    <tr>\n",
       "      <th>8</th>\n",
       "      <td>grade</td>\n",
       "      <td>object</td>\n",
       "      <td>B</td>\n",
       "      <td>LC assigned loan grade</td>\n",
       "      <td>7</td>\n",
       "    </tr>\n",
       "    <tr>\n",
       "      <th>9</th>\n",
       "      <td>sub_grade</td>\n",
       "      <td>object</td>\n",
       "      <td>B2</td>\n",
       "      <td>LC assigned loan subgrade</td>\n",
       "      <td>7</td>\n",
       "    </tr>\n",
       "    <tr>\n",
       "      <th>10</th>\n",
       "      <td>emp_title</td>\n",
       "      <td>object</td>\n",
       "      <td>NaN</td>\n",
       "      <td>The job title supplied by the Borrower when ap...</td>\n",
       "      <td>2633</td>\n",
       "    </tr>\n",
       "    <tr>\n",
       "      <th>11</th>\n",
       "      <td>emp_length</td>\n",
       "      <td>object</td>\n",
       "      <td>10+ years</td>\n",
       "      <td>Employment length in years. Possible values ar...</td>\n",
       "      <td>1119</td>\n",
       "    </tr>\n",
       "    <tr>\n",
       "      <th>12</th>\n",
       "      <td>home_ownership</td>\n",
       "      <td>object</td>\n",
       "      <td>RENT</td>\n",
       "      <td>The home ownership status provided by the borr...</td>\n",
       "      <td>7</td>\n",
       "    </tr>\n",
       "  </tbody>\n",
       "</table>\n",
       "</div>"
      ],
      "text/plain": [
       "        LoanStatNew    dtype first value  \\\n",
       "0                id   object     1077501   \n",
       "1         member_id  float64   1296599.0   \n",
       "2         loan_amnt  float64      5000.0   \n",
       "3       funded_amnt  float64      5000.0   \n",
       "4   funded_amnt_inv  float64      4975.0   \n",
       "5              term   object   36 months   \n",
       "6          int_rate   object      10.65%   \n",
       "7       installment  float64      162.87   \n",
       "8             grade   object           B   \n",
       "9         sub_grade   object          B2   \n",
       "10        emp_title   object         NaN   \n",
       "11       emp_length   object   10+ years   \n",
       "12   home_ownership   object        RENT   \n",
       "\n",
       "                                          Description  Nulls  \n",
       "0       A unique LC assigned ID for the loan listing.      4  \n",
       "1    A unique LC assigned Id for the borrower member.      7  \n",
       "2   The listed amount of the loan applied for by t...      7  \n",
       "3   The total amount committed to that loan at tha...      7  \n",
       "4   The total amount committed by investors for th...      7  \n",
       "5   The number of payments on the loan. Values are...      7  \n",
       "6                           Interest Rate on the loan      7  \n",
       "7   The monthly payment owed by the borrower if th...      7  \n",
       "8                              LC assigned loan grade      7  \n",
       "9                           LC assigned loan subgrade      7  \n",
       "10  The job title supplied by the Borrower when ap...   2633  \n",
       "11  Employment length in years. Possible values ar...   1119  \n",
       "12  The home ownership status provided by the borr...      7  "
      ]
     },
     "execution_count": 23,
     "metadata": {},
     "output_type": "execute_result"
    }
   ],
   "source": [
    "data_col[0:13]"
   ]
  },
  {
   "cell_type": "code",
   "execution_count": 24,
   "id": "475d9afa",
   "metadata": {},
   "outputs": [],
   "source": [
    "#'grade' and 'sub_grade' gives same information\n",
    "data.drop(['id','member_id','funded_amnt','funded_amnt_inv','installment','sub_grade','emp_title'],axis=1,inplace=True)"
   ]
  },
  {
   "cell_type": "code",
   "execution_count": 25,
   "id": "77eb3f5f",
   "metadata": {},
   "outputs": [
    {
     "data": {
      "text/plain": [
       "(42516, 104)"
      ]
     },
     "execution_count": 25,
     "metadata": {},
     "output_type": "execute_result"
    }
   ],
   "source": [
    "data.shape"
   ]
  },
  {
   "cell_type": "code",
   "execution_count": 26,
   "id": "7342df8a",
   "metadata": {},
   "outputs": [
    {
     "data": {
      "text/html": [
       "<div>\n",
       "<style scoped>\n",
       "    .dataframe tbody tr th:only-of-type {\n",
       "        vertical-align: middle;\n",
       "    }\n",
       "\n",
       "    .dataframe tbody tr th {\n",
       "        vertical-align: top;\n",
       "    }\n",
       "\n",
       "    .dataframe thead th {\n",
       "        text-align: right;\n",
       "    }\n",
       "</style>\n",
       "<table border=\"1\" class=\"dataframe\">\n",
       "  <thead>\n",
       "    <tr style=\"text-align: right;\">\n",
       "      <th></th>\n",
       "      <th>LoanStatNew</th>\n",
       "      <th>dtype</th>\n",
       "      <th>first value</th>\n",
       "      <th>Description</th>\n",
       "      <th>Nulls</th>\n",
       "    </tr>\n",
       "  </thead>\n",
       "  <tbody>\n",
       "    <tr>\n",
       "      <th>13</th>\n",
       "      <td>annual_inc</td>\n",
       "      <td>float64</td>\n",
       "      <td>24000.0</td>\n",
       "      <td>The self-reported annual income provided by th...</td>\n",
       "      <td>11</td>\n",
       "    </tr>\n",
       "    <tr>\n",
       "      <th>14</th>\n",
       "      <td>verification_status</td>\n",
       "      <td>object</td>\n",
       "      <td>Verified</td>\n",
       "      <td>Indicates if income was verified by LC, not ve...</td>\n",
       "      <td>7</td>\n",
       "    </tr>\n",
       "    <tr>\n",
       "      <th>15</th>\n",
       "      <td>issue_d</td>\n",
       "      <td>object</td>\n",
       "      <td>11-Dec</td>\n",
       "      <td>The month which the loan was funded</td>\n",
       "      <td>7</td>\n",
       "    </tr>\n",
       "    <tr>\n",
       "      <th>16</th>\n",
       "      <td>loan_status</td>\n",
       "      <td>object</td>\n",
       "      <td>Fully Paid</td>\n",
       "      <td>Current status of the loan</td>\n",
       "      <td>7</td>\n",
       "    </tr>\n",
       "    <tr>\n",
       "      <th>17</th>\n",
       "      <td>pymnt_plan</td>\n",
       "      <td>object</td>\n",
       "      <td>n</td>\n",
       "      <td>Indicates if a payment plan has been put in pl...</td>\n",
       "      <td>7</td>\n",
       "    </tr>\n",
       "    <tr>\n",
       "      <th>18</th>\n",
       "      <td>url</td>\n",
       "      <td>object</td>\n",
       "      <td>https://lendingclub.com/browse/loanDetail.acti...</td>\n",
       "      <td>URL for the LC page with listing data.</td>\n",
       "      <td>7</td>\n",
       "    </tr>\n",
       "    <tr>\n",
       "      <th>19</th>\n",
       "      <td>desc</td>\n",
       "      <td>object</td>\n",
       "      <td>Borrower added on 12/22/11 &gt; I need to upgra...</td>\n",
       "      <td>Loan description provided by the borrower</td>\n",
       "      <td>13300</td>\n",
       "    </tr>\n",
       "    <tr>\n",
       "      <th>20</th>\n",
       "      <td>purpose</td>\n",
       "      <td>object</td>\n",
       "      <td>credit_card</td>\n",
       "      <td>A category provided by the borrower for the lo...</td>\n",
       "      <td>7</td>\n",
       "    </tr>\n",
       "    <tr>\n",
       "      <th>21</th>\n",
       "      <td>title</td>\n",
       "      <td>object</td>\n",
       "      <td>Computer</td>\n",
       "      <td>The loan title provided by the borrower</td>\n",
       "      <td>20</td>\n",
       "    </tr>\n",
       "    <tr>\n",
       "      <th>22</th>\n",
       "      <td>zip_code</td>\n",
       "      <td>object</td>\n",
       "      <td>860xx</td>\n",
       "      <td>The first 3 numbers of the zip code provided b...</td>\n",
       "      <td>7</td>\n",
       "    </tr>\n",
       "    <tr>\n",
       "      <th>23</th>\n",
       "      <td>addr_state</td>\n",
       "      <td>object</td>\n",
       "      <td>AZ</td>\n",
       "      <td>The state provided by the borrower in the loan...</td>\n",
       "      <td>7</td>\n",
       "    </tr>\n",
       "    <tr>\n",
       "      <th>24</th>\n",
       "      <td>dti</td>\n",
       "      <td>float64</td>\n",
       "      <td>27.65</td>\n",
       "      <td>A ratio calculated using the borrower’s total ...</td>\n",
       "      <td>7</td>\n",
       "    </tr>\n",
       "    <tr>\n",
       "      <th>25</th>\n",
       "      <td>delinq_2yrs</td>\n",
       "      <td>float64</td>\n",
       "      <td>0.0</td>\n",
       "      <td>The number of 30+ days past-due incidences of ...</td>\n",
       "      <td>36</td>\n",
       "    </tr>\n",
       "  </tbody>\n",
       "</table>\n",
       "</div>"
      ],
      "text/plain": [
       "            LoanStatNew    dtype  \\\n",
       "13           annual_inc  float64   \n",
       "14  verification_status   object   \n",
       "15              issue_d   object   \n",
       "16          loan_status   object   \n",
       "17           pymnt_plan   object   \n",
       "18                  url   object   \n",
       "19                 desc   object   \n",
       "20              purpose   object   \n",
       "21                title   object   \n",
       "22             zip_code   object   \n",
       "23           addr_state   object   \n",
       "24                  dti  float64   \n",
       "25          delinq_2yrs  float64   \n",
       "\n",
       "                                          first value  \\\n",
       "13                                            24000.0   \n",
       "14                                           Verified   \n",
       "15                                             11-Dec   \n",
       "16                                         Fully Paid   \n",
       "17                                                  n   \n",
       "18  https://lendingclub.com/browse/loanDetail.acti...   \n",
       "19    Borrower added on 12/22/11 > I need to upgra...   \n",
       "20                                        credit_card   \n",
       "21                                           Computer   \n",
       "22                                              860xx   \n",
       "23                                                 AZ   \n",
       "24                                              27.65   \n",
       "25                                                0.0   \n",
       "\n",
       "                                          Description  Nulls  \n",
       "13  The self-reported annual income provided by th...     11  \n",
       "14  Indicates if income was verified by LC, not ve...      7  \n",
       "15                The month which the loan was funded      7  \n",
       "16                         Current status of the loan      7  \n",
       "17  Indicates if a payment plan has been put in pl...      7  \n",
       "18             URL for the LC page with listing data.      7  \n",
       "19          Loan description provided by the borrower  13300  \n",
       "20  A category provided by the borrower for the lo...      7  \n",
       "21            The loan title provided by the borrower     20  \n",
       "22  The first 3 numbers of the zip code provided b...      7  \n",
       "23  The state provided by the borrower in the loan...      7  \n",
       "24  A ratio calculated using the borrower’s total ...      7  \n",
       "25  The number of 30+ days past-due incidences of ...     36  "
      ]
     },
     "execution_count": 26,
     "metadata": {},
     "output_type": "execute_result"
    }
   ],
   "source": [
    "data_col[13:26]"
   ]
  },
  {
   "cell_type": "code",
   "execution_count": 27,
   "id": "0d1b090f",
   "metadata": {},
   "outputs": [],
   "source": [
    "data.drop(['url','desc','title','zip_code'],axis=1,inplace=True)\n",
    "#Info in 'title' and 'purpose' is same"
   ]
  },
  {
   "cell_type": "code",
   "execution_count": 28,
   "id": "a56114d2",
   "metadata": {},
   "outputs": [
    {
     "data": {
      "text/plain": [
       "(42516, 100)"
      ]
     },
     "execution_count": 28,
     "metadata": {},
     "output_type": "execute_result"
    }
   ],
   "source": [
    "data.shape"
   ]
  },
  {
   "cell_type": "code",
   "execution_count": 29,
   "id": "f6c7681a",
   "metadata": {},
   "outputs": [
    {
     "data": {
      "text/html": [
       "<div>\n",
       "<style scoped>\n",
       "    .dataframe tbody tr th:only-of-type {\n",
       "        vertical-align: middle;\n",
       "    }\n",
       "\n",
       "    .dataframe tbody tr th {\n",
       "        vertical-align: top;\n",
       "    }\n",
       "\n",
       "    .dataframe thead th {\n",
       "        text-align: right;\n",
       "    }\n",
       "</style>\n",
       "<table border=\"1\" class=\"dataframe\">\n",
       "  <thead>\n",
       "    <tr style=\"text-align: right;\">\n",
       "      <th></th>\n",
       "      <th>LoanStatNew</th>\n",
       "      <th>dtype</th>\n",
       "      <th>first value</th>\n",
       "      <th>Description</th>\n",
       "      <th>Nulls</th>\n",
       "    </tr>\n",
       "  </thead>\n",
       "  <tbody>\n",
       "    <tr>\n",
       "      <th>26</th>\n",
       "      <td>earliest_cr_line</td>\n",
       "      <td>object</td>\n",
       "      <td>Jan-85</td>\n",
       "      <td>The month the borrower's earliest reported cre...</td>\n",
       "      <td>36</td>\n",
       "    </tr>\n",
       "    <tr>\n",
       "      <th>27</th>\n",
       "      <td>inq_last_6mths</td>\n",
       "      <td>float64</td>\n",
       "      <td>1.0</td>\n",
       "      <td>The number of inquiries in past 6 months (excl...</td>\n",
       "      <td>36</td>\n",
       "    </tr>\n",
       "    <tr>\n",
       "      <th>28</th>\n",
       "      <td>mths_since_last_delinq</td>\n",
       "      <td>float64</td>\n",
       "      <td>NaN</td>\n",
       "      <td>The number of months since the borrower's last...</td>\n",
       "      <td>26933</td>\n",
       "    </tr>\n",
       "    <tr>\n",
       "      <th>29</th>\n",
       "      <td>mths_since_last_record</td>\n",
       "      <td>float64</td>\n",
       "      <td>NaN</td>\n",
       "      <td>The number of months since the last public rec...</td>\n",
       "      <td>38891</td>\n",
       "    </tr>\n",
       "    <tr>\n",
       "      <th>30</th>\n",
       "      <td>open_acc</td>\n",
       "      <td>float64</td>\n",
       "      <td>3.0</td>\n",
       "      <td>The number of open credit lines in the borrowe...</td>\n",
       "      <td>36</td>\n",
       "    </tr>\n",
       "    <tr>\n",
       "      <th>31</th>\n",
       "      <td>pub_rec</td>\n",
       "      <td>float64</td>\n",
       "      <td>0.0</td>\n",
       "      <td>Number of derogatory public records</td>\n",
       "      <td>36</td>\n",
       "    </tr>\n",
       "    <tr>\n",
       "      <th>32</th>\n",
       "      <td>revol_bal</td>\n",
       "      <td>float64</td>\n",
       "      <td>13648.0</td>\n",
       "      <td>Total credit revolving balance</td>\n",
       "      <td>7</td>\n",
       "    </tr>\n",
       "    <tr>\n",
       "      <th>33</th>\n",
       "      <td>revol_util</td>\n",
       "      <td>object</td>\n",
       "      <td>83.70%</td>\n",
       "      <td>Revolving line utilization rate, or the amount...</td>\n",
       "      <td>97</td>\n",
       "    </tr>\n",
       "    <tr>\n",
       "      <th>34</th>\n",
       "      <td>total_acc</td>\n",
       "      <td>float64</td>\n",
       "      <td>9.0</td>\n",
       "      <td>The total number of credit lines currently in ...</td>\n",
       "      <td>36</td>\n",
       "    </tr>\n",
       "    <tr>\n",
       "      <th>35</th>\n",
       "      <td>initial_list_status</td>\n",
       "      <td>object</td>\n",
       "      <td>f</td>\n",
       "      <td>The initial listing status of the loan. Possib...</td>\n",
       "      <td>7</td>\n",
       "    </tr>\n",
       "    <tr>\n",
       "      <th>36</th>\n",
       "      <td>out_prncp</td>\n",
       "      <td>float64</td>\n",
       "      <td>0.0</td>\n",
       "      <td>Remaining outstanding principal for total amou...</td>\n",
       "      <td>7</td>\n",
       "    </tr>\n",
       "    <tr>\n",
       "      <th>37</th>\n",
       "      <td>out_prncp_inv</td>\n",
       "      <td>float64</td>\n",
       "      <td>0.0</td>\n",
       "      <td>Remaining outstanding principal for portion of...</td>\n",
       "      <td>7</td>\n",
       "    </tr>\n",
       "    <tr>\n",
       "      <th>38</th>\n",
       "      <td>total_pymnt</td>\n",
       "      <td>float64</td>\n",
       "      <td>5863.155187</td>\n",
       "      <td>Payments received to date for total amount funded</td>\n",
       "      <td>7</td>\n",
       "    </tr>\n",
       "  </tbody>\n",
       "</table>\n",
       "</div>"
      ],
      "text/plain": [
       "               LoanStatNew    dtype  first value  \\\n",
       "26        earliest_cr_line   object       Jan-85   \n",
       "27          inq_last_6mths  float64          1.0   \n",
       "28  mths_since_last_delinq  float64          NaN   \n",
       "29  mths_since_last_record  float64          NaN   \n",
       "30                open_acc  float64          3.0   \n",
       "31                 pub_rec  float64          0.0   \n",
       "32               revol_bal  float64      13648.0   \n",
       "33              revol_util   object       83.70%   \n",
       "34               total_acc  float64          9.0   \n",
       "35     initial_list_status   object            f   \n",
       "36               out_prncp  float64          0.0   \n",
       "37           out_prncp_inv  float64          0.0   \n",
       "38             total_pymnt  float64  5863.155187   \n",
       "\n",
       "                                          Description  Nulls  \n",
       "26  The month the borrower's earliest reported cre...     36  \n",
       "27  The number of inquiries in past 6 months (excl...     36  \n",
       "28  The number of months since the borrower's last...  26933  \n",
       "29  The number of months since the last public rec...  38891  \n",
       "30  The number of open credit lines in the borrowe...     36  \n",
       "31                Number of derogatory public records     36  \n",
       "32                     Total credit revolving balance      7  \n",
       "33  Revolving line utilization rate, or the amount...     97  \n",
       "34  The total number of credit lines currently in ...     36  \n",
       "35  The initial listing status of the loan. Possib...      7  \n",
       "36  Remaining outstanding principal for total amou...      7  \n",
       "37  Remaining outstanding principal for portion of...      7  \n",
       "38  Payments received to date for total amount funded      7  "
      ]
     },
     "execution_count": 29,
     "metadata": {},
     "output_type": "execute_result"
    }
   ],
   "source": [
    "data_col[26:39]"
   ]
  },
  {
   "cell_type": "code",
   "execution_count": 30,
   "id": "7acd938b",
   "metadata": {},
   "outputs": [],
   "source": [
    "data.drop(['mths_since_last_delinq','mths_since_last_record','out_prncp','out_prncp_inv','total_pymnt'],\n",
    "          axis=1,inplace=True)"
   ]
  },
  {
   "cell_type": "code",
   "execution_count": 31,
   "id": "2abc4610",
   "metadata": {},
   "outputs": [
    {
     "data": {
      "text/plain": [
       "(42516, 95)"
      ]
     },
     "execution_count": 31,
     "metadata": {},
     "output_type": "execute_result"
    }
   ],
   "source": [
    "data.shape"
   ]
  },
  {
   "cell_type": "code",
   "execution_count": 32,
   "id": "969c045f",
   "metadata": {},
   "outputs": [
    {
     "data": {
      "text/html": [
       "<div>\n",
       "<style scoped>\n",
       "    .dataframe tbody tr th:only-of-type {\n",
       "        vertical-align: middle;\n",
       "    }\n",
       "\n",
       "    .dataframe tbody tr th {\n",
       "        vertical-align: top;\n",
       "    }\n",
       "\n",
       "    .dataframe thead th {\n",
       "        text-align: right;\n",
       "    }\n",
       "</style>\n",
       "<table border=\"1\" class=\"dataframe\">\n",
       "  <thead>\n",
       "    <tr style=\"text-align: right;\">\n",
       "      <th></th>\n",
       "      <th>LoanStatNew</th>\n",
       "      <th>dtype</th>\n",
       "      <th>first value</th>\n",
       "      <th>Description</th>\n",
       "      <th>Nulls</th>\n",
       "    </tr>\n",
       "  </thead>\n",
       "  <tbody>\n",
       "    <tr>\n",
       "      <th>39</th>\n",
       "      <td>total_pymnt_inv</td>\n",
       "      <td>float64</td>\n",
       "      <td>5833.84</td>\n",
       "      <td>Payments received to date for portion of total...</td>\n",
       "      <td>7</td>\n",
       "    </tr>\n",
       "    <tr>\n",
       "      <th>40</th>\n",
       "      <td>total_rec_prncp</td>\n",
       "      <td>float64</td>\n",
       "      <td>5000.0</td>\n",
       "      <td>Principal received to date</td>\n",
       "      <td>7</td>\n",
       "    </tr>\n",
       "    <tr>\n",
       "      <th>41</th>\n",
       "      <td>total_rec_int</td>\n",
       "      <td>float64</td>\n",
       "      <td>863.16</td>\n",
       "      <td>Interest received to date</td>\n",
       "      <td>7</td>\n",
       "    </tr>\n",
       "    <tr>\n",
       "      <th>42</th>\n",
       "      <td>total_rec_late_fee</td>\n",
       "      <td>float64</td>\n",
       "      <td>0.0</td>\n",
       "      <td>Late fees received to date</td>\n",
       "      <td>7</td>\n",
       "    </tr>\n",
       "    <tr>\n",
       "      <th>43</th>\n",
       "      <td>recoveries</td>\n",
       "      <td>float64</td>\n",
       "      <td>0.0</td>\n",
       "      <td>post charge off gross recovery</td>\n",
       "      <td>7</td>\n",
       "    </tr>\n",
       "    <tr>\n",
       "      <th>44</th>\n",
       "      <td>collection_recovery_fee</td>\n",
       "      <td>float64</td>\n",
       "      <td>0.0</td>\n",
       "      <td>post charge off collection fee</td>\n",
       "      <td>7</td>\n",
       "    </tr>\n",
       "    <tr>\n",
       "      <th>45</th>\n",
       "      <td>last_pymnt_d</td>\n",
       "      <td>object</td>\n",
       "      <td>15-Jan</td>\n",
       "      <td>Last month payment was received</td>\n",
       "      <td>90</td>\n",
       "    </tr>\n",
       "    <tr>\n",
       "      <th>46</th>\n",
       "      <td>last_pymnt_amnt</td>\n",
       "      <td>float64</td>\n",
       "      <td>171.62</td>\n",
       "      <td>Last total payment amount received</td>\n",
       "      <td>7</td>\n",
       "    </tr>\n",
       "    <tr>\n",
       "      <th>47</th>\n",
       "      <td>next_pymnt_d</td>\n",
       "      <td>object</td>\n",
       "      <td>NaN</td>\n",
       "      <td>Next scheduled payment date</td>\n",
       "      <td>39754</td>\n",
       "    </tr>\n",
       "    <tr>\n",
       "      <th>48</th>\n",
       "      <td>last_credit_pull_d</td>\n",
       "      <td>object</td>\n",
       "      <td>16-Dec</td>\n",
       "      <td>The most recent month LC pulled credit for thi...</td>\n",
       "      <td>11</td>\n",
       "    </tr>\n",
       "    <tr>\n",
       "      <th>49</th>\n",
       "      <td>collections_12_mths_ex_med</td>\n",
       "      <td>float64</td>\n",
       "      <td>0.0</td>\n",
       "      <td>Number of collections in 12 months excluding m...</td>\n",
       "      <td>152</td>\n",
       "    </tr>\n",
       "    <tr>\n",
       "      <th>50</th>\n",
       "      <td>mths_since_last_major_derog</td>\n",
       "      <td>float64</td>\n",
       "      <td>NaN</td>\n",
       "      <td>Months since most recent 90-day or worse rating</td>\n",
       "      <td>42542</td>\n",
       "    </tr>\n",
       "    <tr>\n",
       "      <th>51</th>\n",
       "      <td>policy_code</td>\n",
       "      <td>float64</td>\n",
       "      <td>1.0</td>\n",
       "      <td>publicly available policy_code=1\\nnew products...</td>\n",
       "      <td>7</td>\n",
       "    </tr>\n",
       "  </tbody>\n",
       "</table>\n",
       "</div>"
      ],
      "text/plain": [
       "                    LoanStatNew    dtype first value  \\\n",
       "39              total_pymnt_inv  float64     5833.84   \n",
       "40              total_rec_prncp  float64      5000.0   \n",
       "41                total_rec_int  float64      863.16   \n",
       "42           total_rec_late_fee  float64         0.0   \n",
       "43                   recoveries  float64         0.0   \n",
       "44      collection_recovery_fee  float64         0.0   \n",
       "45                 last_pymnt_d   object      15-Jan   \n",
       "46              last_pymnt_amnt  float64      171.62   \n",
       "47                 next_pymnt_d   object         NaN   \n",
       "48           last_credit_pull_d   object      16-Dec   \n",
       "49   collections_12_mths_ex_med  float64         0.0   \n",
       "50  mths_since_last_major_derog  float64         NaN   \n",
       "51                  policy_code  float64         1.0   \n",
       "\n",
       "                                          Description  Nulls  \n",
       "39  Payments received to date for portion of total...      7  \n",
       "40                         Principal received to date      7  \n",
       "41                          Interest received to date      7  \n",
       "42                         Late fees received to date      7  \n",
       "43                     post charge off gross recovery      7  \n",
       "44                     post charge off collection fee      7  \n",
       "45                    Last month payment was received     90  \n",
       "46                 Last total payment amount received      7  \n",
       "47                        Next scheduled payment date  39754  \n",
       "48  The most recent month LC pulled credit for thi...     11  \n",
       "49  Number of collections in 12 months excluding m...    152  \n",
       "50    Months since most recent 90-day or worse rating  42542  \n",
       "51  publicly available policy_code=1\\nnew products...      7  "
      ]
     },
     "execution_count": 32,
     "metadata": {},
     "output_type": "execute_result"
    }
   ],
   "source": [
    "data_col[39:52]"
   ]
  },
  {
   "cell_type": "code",
   "execution_count": 33,
   "id": "a5d35d05",
   "metadata": {},
   "outputs": [],
   "source": [
    "data.drop(['total_pymnt_inv','total_rec_prncp','total_rec_int','total_rec_late_fee','recoveries',\n",
    "          'collection_recovery_fee','last_pymnt_d','last_pymnt_amnt','next_pymnt_d','last_credit_pull_d',\n",
    "           'collections_12_mths_ex_med','policy_code','mths_since_last_major_derog'],\n",
    "          axis=1,inplace=True)"
   ]
  },
  {
   "cell_type": "code",
   "execution_count": 34,
   "id": "9b62e1be",
   "metadata": {},
   "outputs": [
    {
     "data": {
      "text/plain": [
       "(42516, 82)"
      ]
     },
     "execution_count": 34,
     "metadata": {},
     "output_type": "execute_result"
    }
   ],
   "source": [
    "data.shape"
   ]
  },
  {
   "cell_type": "code",
   "execution_count": 35,
   "id": "59133c9f",
   "metadata": {},
   "outputs": [
    {
     "data": {
      "text/html": [
       "<div>\n",
       "<style scoped>\n",
       "    .dataframe tbody tr th:only-of-type {\n",
       "        vertical-align: middle;\n",
       "    }\n",
       "\n",
       "    .dataframe tbody tr th {\n",
       "        vertical-align: top;\n",
       "    }\n",
       "\n",
       "    .dataframe thead th {\n",
       "        text-align: right;\n",
       "    }\n",
       "</style>\n",
       "<table border=\"1\" class=\"dataframe\">\n",
       "  <thead>\n",
       "    <tr style=\"text-align: right;\">\n",
       "      <th></th>\n",
       "      <th>LoanStatNew</th>\n",
       "      <th>dtype</th>\n",
       "      <th>first value</th>\n",
       "      <th>Description</th>\n",
       "      <th>Nulls</th>\n",
       "    </tr>\n",
       "  </thead>\n",
       "  <tbody>\n",
       "    <tr>\n",
       "      <th>52</th>\n",
       "      <td>application_type</td>\n",
       "      <td>object</td>\n",
       "      <td>INDIVIDUAL</td>\n",
       "      <td>Indicates whether the loan is an individual ap...</td>\n",
       "      <td>7</td>\n",
       "    </tr>\n",
       "    <tr>\n",
       "      <th>53</th>\n",
       "      <td>annual_inc_joint</td>\n",
       "      <td>float64</td>\n",
       "      <td>NaN</td>\n",
       "      <td>The combined self-reported annual income provi...</td>\n",
       "      <td>42542</td>\n",
       "    </tr>\n",
       "    <tr>\n",
       "      <th>54</th>\n",
       "      <td>dti_joint</td>\n",
       "      <td>float64</td>\n",
       "      <td>NaN</td>\n",
       "      <td>A ratio calculated using the co-borrowers' tot...</td>\n",
       "      <td>42542</td>\n",
       "    </tr>\n",
       "    <tr>\n",
       "      <th>55</th>\n",
       "      <td>verification_status_joint</td>\n",
       "      <td>float64</td>\n",
       "      <td>NaN</td>\n",
       "      <td>NaN</td>\n",
       "      <td>42542</td>\n",
       "    </tr>\n",
       "    <tr>\n",
       "      <th>56</th>\n",
       "      <td>acc_now_delinq</td>\n",
       "      <td>float64</td>\n",
       "      <td>0.0</td>\n",
       "      <td>The number of accounts on which the borrower i...</td>\n",
       "      <td>36</td>\n",
       "    </tr>\n",
       "    <tr>\n",
       "      <th>57</th>\n",
       "      <td>tot_coll_amt</td>\n",
       "      <td>float64</td>\n",
       "      <td>NaN</td>\n",
       "      <td>Total collection amounts ever owed</td>\n",
       "      <td>42542</td>\n",
       "    </tr>\n",
       "    <tr>\n",
       "      <th>58</th>\n",
       "      <td>tot_cur_bal</td>\n",
       "      <td>float64</td>\n",
       "      <td>NaN</td>\n",
       "      <td>Total current balance of all accounts</td>\n",
       "      <td>42542</td>\n",
       "    </tr>\n",
       "    <tr>\n",
       "      <th>59</th>\n",
       "      <td>open_acc_6m</td>\n",
       "      <td>float64</td>\n",
       "      <td>NaN</td>\n",
       "      <td>Number of open trades in last 6 months</td>\n",
       "      <td>42542</td>\n",
       "    </tr>\n",
       "    <tr>\n",
       "      <th>60</th>\n",
       "      <td>open_il_6m</td>\n",
       "      <td>float64</td>\n",
       "      <td>NaN</td>\n",
       "      <td>Number of currently active installment trades</td>\n",
       "      <td>42542</td>\n",
       "    </tr>\n",
       "    <tr>\n",
       "      <th>61</th>\n",
       "      <td>open_il_12m</td>\n",
       "      <td>float64</td>\n",
       "      <td>NaN</td>\n",
       "      <td>Number of installment accounts opened in past ...</td>\n",
       "      <td>42542</td>\n",
       "    </tr>\n",
       "    <tr>\n",
       "      <th>62</th>\n",
       "      <td>open_il_24m</td>\n",
       "      <td>float64</td>\n",
       "      <td>NaN</td>\n",
       "      <td>Number of installment accounts opened in past ...</td>\n",
       "      <td>42542</td>\n",
       "    </tr>\n",
       "    <tr>\n",
       "      <th>63</th>\n",
       "      <td>mths_since_rcnt_il</td>\n",
       "      <td>float64</td>\n",
       "      <td>NaN</td>\n",
       "      <td>Months since most recent installment accounts ...</td>\n",
       "      <td>42542</td>\n",
       "    </tr>\n",
       "    <tr>\n",
       "      <th>64</th>\n",
       "      <td>total_bal_il</td>\n",
       "      <td>float64</td>\n",
       "      <td>NaN</td>\n",
       "      <td>Total current balance of all installment accounts</td>\n",
       "      <td>42542</td>\n",
       "    </tr>\n",
       "    <tr>\n",
       "      <th>65</th>\n",
       "      <td>il_util</td>\n",
       "      <td>float64</td>\n",
       "      <td>NaN</td>\n",
       "      <td>Ratio of total current balance to high credit/...</td>\n",
       "      <td>42542</td>\n",
       "    </tr>\n",
       "    <tr>\n",
       "      <th>66</th>\n",
       "      <td>open_rv_12m</td>\n",
       "      <td>float64</td>\n",
       "      <td>NaN</td>\n",
       "      <td>Number of revolving trades opened in past 12 m...</td>\n",
       "      <td>42542</td>\n",
       "    </tr>\n",
       "    <tr>\n",
       "      <th>67</th>\n",
       "      <td>open_rv_24m</td>\n",
       "      <td>float64</td>\n",
       "      <td>NaN</td>\n",
       "      <td>Number of revolving trades opened in past 24 m...</td>\n",
       "      <td>42542</td>\n",
       "    </tr>\n",
       "    <tr>\n",
       "      <th>68</th>\n",
       "      <td>max_bal_bc</td>\n",
       "      <td>float64</td>\n",
       "      <td>NaN</td>\n",
       "      <td>Maximum current balance owed on all revolving ...</td>\n",
       "      <td>42542</td>\n",
       "    </tr>\n",
       "    <tr>\n",
       "      <th>69</th>\n",
       "      <td>all_util</td>\n",
       "      <td>float64</td>\n",
       "      <td>NaN</td>\n",
       "      <td>Balance to credit limit on all trades</td>\n",
       "      <td>42542</td>\n",
       "    </tr>\n",
       "    <tr>\n",
       "      <th>70</th>\n",
       "      <td>total_rev_hi_lim</td>\n",
       "      <td>float64</td>\n",
       "      <td>NaN</td>\n",
       "      <td>NaN</td>\n",
       "      <td>42542</td>\n",
       "    </tr>\n",
       "    <tr>\n",
       "      <th>71</th>\n",
       "      <td>inq_fi</td>\n",
       "      <td>float64</td>\n",
       "      <td>NaN</td>\n",
       "      <td>Number of personal finance inquiries</td>\n",
       "      <td>42542</td>\n",
       "    </tr>\n",
       "    <tr>\n",
       "      <th>72</th>\n",
       "      <td>total_cu_tl</td>\n",
       "      <td>float64</td>\n",
       "      <td>NaN</td>\n",
       "      <td>Number of finance trades</td>\n",
       "      <td>42542</td>\n",
       "    </tr>\n",
       "    <tr>\n",
       "      <th>73</th>\n",
       "      <td>inq_last_12m</td>\n",
       "      <td>float64</td>\n",
       "      <td>NaN</td>\n",
       "      <td>Number of credit inquiries in past 12 months</td>\n",
       "      <td>42542</td>\n",
       "    </tr>\n",
       "    <tr>\n",
       "      <th>74</th>\n",
       "      <td>acc_open_past_24mths</td>\n",
       "      <td>float64</td>\n",
       "      <td>NaN</td>\n",
       "      <td>Number of trades opened in past 24 months.</td>\n",
       "      <td>42542</td>\n",
       "    </tr>\n",
       "    <tr>\n",
       "      <th>75</th>\n",
       "      <td>avg_cur_bal</td>\n",
       "      <td>float64</td>\n",
       "      <td>NaN</td>\n",
       "      <td>Average current balance of all accounts</td>\n",
       "      <td>42542</td>\n",
       "    </tr>\n",
       "    <tr>\n",
       "      <th>76</th>\n",
       "      <td>bc_open_to_buy</td>\n",
       "      <td>float64</td>\n",
       "      <td>NaN</td>\n",
       "      <td>Total open to buy on revolving bankcards.</td>\n",
       "      <td>42542</td>\n",
       "    </tr>\n",
       "    <tr>\n",
       "      <th>77</th>\n",
       "      <td>bc_util</td>\n",
       "      <td>float64</td>\n",
       "      <td>NaN</td>\n",
       "      <td>Ratio of total current balance to high credit/...</td>\n",
       "      <td>42542</td>\n",
       "    </tr>\n",
       "    <tr>\n",
       "      <th>78</th>\n",
       "      <td>chargeoff_within_12_mths</td>\n",
       "      <td>float64</td>\n",
       "      <td>0.0</td>\n",
       "      <td>Number of charge-offs within 12 months</td>\n",
       "      <td>152</td>\n",
       "    </tr>\n",
       "    <tr>\n",
       "      <th>79</th>\n",
       "      <td>delinq_amnt</td>\n",
       "      <td>float64</td>\n",
       "      <td>0.0</td>\n",
       "      <td>The past-due amount owed for the accounts on w...</td>\n",
       "      <td>36</td>\n",
       "    </tr>\n",
       "    <tr>\n",
       "      <th>80</th>\n",
       "      <td>mo_sin_old_il_acct</td>\n",
       "      <td>float64</td>\n",
       "      <td>NaN</td>\n",
       "      <td>Months since oldest bank installment account o...</td>\n",
       "      <td>42542</td>\n",
       "    </tr>\n",
       "    <tr>\n",
       "      <th>81</th>\n",
       "      <td>mo_sin_old_rev_tl_op</td>\n",
       "      <td>float64</td>\n",
       "      <td>NaN</td>\n",
       "      <td>Months since oldest revolving account opened</td>\n",
       "      <td>42542</td>\n",
       "    </tr>\n",
       "    <tr>\n",
       "      <th>82</th>\n",
       "      <td>mo_sin_rcnt_rev_tl_op</td>\n",
       "      <td>float64</td>\n",
       "      <td>NaN</td>\n",
       "      <td>Months since most recent revolving account opened</td>\n",
       "      <td>42542</td>\n",
       "    </tr>\n",
       "    <tr>\n",
       "      <th>83</th>\n",
       "      <td>mo_sin_rcnt_tl</td>\n",
       "      <td>float64</td>\n",
       "      <td>NaN</td>\n",
       "      <td>Months since most recent account opened</td>\n",
       "      <td>42542</td>\n",
       "    </tr>\n",
       "    <tr>\n",
       "      <th>84</th>\n",
       "      <td>mort_acc</td>\n",
       "      <td>float64</td>\n",
       "      <td>NaN</td>\n",
       "      <td>Number of mortgage accounts.</td>\n",
       "      <td>42542</td>\n",
       "    </tr>\n",
       "    <tr>\n",
       "      <th>85</th>\n",
       "      <td>mths_since_recent_bc</td>\n",
       "      <td>float64</td>\n",
       "      <td>NaN</td>\n",
       "      <td>Months since most recent bankcard account opened.</td>\n",
       "      <td>42542</td>\n",
       "    </tr>\n",
       "    <tr>\n",
       "      <th>86</th>\n",
       "      <td>mths_since_recent_bc_dlq</td>\n",
       "      <td>float64</td>\n",
       "      <td>NaN</td>\n",
       "      <td>Months since most recent bankcard delinquency</td>\n",
       "      <td>42542</td>\n",
       "    </tr>\n",
       "    <tr>\n",
       "      <th>87</th>\n",
       "      <td>mths_since_recent_inq</td>\n",
       "      <td>float64</td>\n",
       "      <td>NaN</td>\n",
       "      <td>Months since most recent inquiry.</td>\n",
       "      <td>42542</td>\n",
       "    </tr>\n",
       "    <tr>\n",
       "      <th>88</th>\n",
       "      <td>mths_since_recent_revol_delinq</td>\n",
       "      <td>float64</td>\n",
       "      <td>NaN</td>\n",
       "      <td>Months since most recent revolving delinquency.</td>\n",
       "      <td>42542</td>\n",
       "    </tr>\n",
       "    <tr>\n",
       "      <th>89</th>\n",
       "      <td>num_accts_ever_120_pd</td>\n",
       "      <td>float64</td>\n",
       "      <td>NaN</td>\n",
       "      <td>Number of accounts ever 120 or more days past due</td>\n",
       "      <td>42542</td>\n",
       "    </tr>\n",
       "    <tr>\n",
       "      <th>90</th>\n",
       "      <td>num_actv_bc_tl</td>\n",
       "      <td>float64</td>\n",
       "      <td>NaN</td>\n",
       "      <td>Number of currently active bankcard accounts</td>\n",
       "      <td>42542</td>\n",
       "    </tr>\n",
       "    <tr>\n",
       "      <th>91</th>\n",
       "      <td>num_actv_rev_tl</td>\n",
       "      <td>float64</td>\n",
       "      <td>NaN</td>\n",
       "      <td>Number of currently active revolving trades</td>\n",
       "      <td>42542</td>\n",
       "    </tr>\n",
       "    <tr>\n",
       "      <th>92</th>\n",
       "      <td>num_bc_sats</td>\n",
       "      <td>float64</td>\n",
       "      <td>NaN</td>\n",
       "      <td>Number of satisfactory bankcard accounts</td>\n",
       "      <td>42542</td>\n",
       "    </tr>\n",
       "    <tr>\n",
       "      <th>93</th>\n",
       "      <td>num_bc_tl</td>\n",
       "      <td>float64</td>\n",
       "      <td>NaN</td>\n",
       "      <td>Number of bankcard accounts</td>\n",
       "      <td>42542</td>\n",
       "    </tr>\n",
       "    <tr>\n",
       "      <th>94</th>\n",
       "      <td>num_il_tl</td>\n",
       "      <td>float64</td>\n",
       "      <td>NaN</td>\n",
       "      <td>Number of installment accounts</td>\n",
       "      <td>42542</td>\n",
       "    </tr>\n",
       "    <tr>\n",
       "      <th>95</th>\n",
       "      <td>num_op_rev_tl</td>\n",
       "      <td>float64</td>\n",
       "      <td>NaN</td>\n",
       "      <td>Number of open revolving accounts</td>\n",
       "      <td>42542</td>\n",
       "    </tr>\n",
       "    <tr>\n",
       "      <th>96</th>\n",
       "      <td>num_rev_accts</td>\n",
       "      <td>float64</td>\n",
       "      <td>NaN</td>\n",
       "      <td>Number of revolving accounts</td>\n",
       "      <td>42542</td>\n",
       "    </tr>\n",
       "    <tr>\n",
       "      <th>97</th>\n",
       "      <td>num_rev_tl_bal_gt_0</td>\n",
       "      <td>float64</td>\n",
       "      <td>NaN</td>\n",
       "      <td>Number of revolving trades with balance &gt;0</td>\n",
       "      <td>42542</td>\n",
       "    </tr>\n",
       "    <tr>\n",
       "      <th>98</th>\n",
       "      <td>num_sats</td>\n",
       "      <td>float64</td>\n",
       "      <td>NaN</td>\n",
       "      <td>Number of satisfactory accounts</td>\n",
       "      <td>42542</td>\n",
       "    </tr>\n",
       "    <tr>\n",
       "      <th>99</th>\n",
       "      <td>num_tl_120dpd_2m</td>\n",
       "      <td>float64</td>\n",
       "      <td>NaN</td>\n",
       "      <td>Number of accounts currently 120 days past due...</td>\n",
       "      <td>42542</td>\n",
       "    </tr>\n",
       "    <tr>\n",
       "      <th>100</th>\n",
       "      <td>num_tl_30dpd</td>\n",
       "      <td>float64</td>\n",
       "      <td>NaN</td>\n",
       "      <td>Number of accounts currently 30 days past due ...</td>\n",
       "      <td>42542</td>\n",
       "    </tr>\n",
       "    <tr>\n",
       "      <th>101</th>\n",
       "      <td>num_tl_90g_dpd_24m</td>\n",
       "      <td>float64</td>\n",
       "      <td>NaN</td>\n",
       "      <td>Number of accounts 90 or more days past due in...</td>\n",
       "      <td>42542</td>\n",
       "    </tr>\n",
       "    <tr>\n",
       "      <th>102</th>\n",
       "      <td>num_tl_op_past_12m</td>\n",
       "      <td>float64</td>\n",
       "      <td>NaN</td>\n",
       "      <td>Number of accounts opened in past 12 months</td>\n",
       "      <td>42542</td>\n",
       "    </tr>\n",
       "    <tr>\n",
       "      <th>103</th>\n",
       "      <td>pct_tl_nvr_dlq</td>\n",
       "      <td>float64</td>\n",
       "      <td>NaN</td>\n",
       "      <td>Percent of trades never delinquent</td>\n",
       "      <td>42542</td>\n",
       "    </tr>\n",
       "    <tr>\n",
       "      <th>104</th>\n",
       "      <td>percent_bc_gt_75</td>\n",
       "      <td>float64</td>\n",
       "      <td>NaN</td>\n",
       "      <td>Percentage of all bankcard accounts &gt; 75% of l...</td>\n",
       "      <td>42542</td>\n",
       "    </tr>\n",
       "    <tr>\n",
       "      <th>105</th>\n",
       "      <td>pub_rec_bankruptcies</td>\n",
       "      <td>float64</td>\n",
       "      <td>0.0</td>\n",
       "      <td>Number of public record bankruptcies</td>\n",
       "      <td>1372</td>\n",
       "    </tr>\n",
       "    <tr>\n",
       "      <th>106</th>\n",
       "      <td>tax_liens</td>\n",
       "      <td>float64</td>\n",
       "      <td>0.0</td>\n",
       "      <td>Number of tax liens</td>\n",
       "      <td>112</td>\n",
       "    </tr>\n",
       "    <tr>\n",
       "      <th>107</th>\n",
       "      <td>tot_hi_cred_lim</td>\n",
       "      <td>float64</td>\n",
       "      <td>NaN</td>\n",
       "      <td>Total high credit/credit limit</td>\n",
       "      <td>42542</td>\n",
       "    </tr>\n",
       "    <tr>\n",
       "      <th>108</th>\n",
       "      <td>total_bal_ex_mort</td>\n",
       "      <td>float64</td>\n",
       "      <td>NaN</td>\n",
       "      <td>Total credit balance excluding mortgage</td>\n",
       "      <td>42542</td>\n",
       "    </tr>\n",
       "    <tr>\n",
       "      <th>109</th>\n",
       "      <td>total_bc_limit</td>\n",
       "      <td>float64</td>\n",
       "      <td>NaN</td>\n",
       "      <td>Total bankcard high credit/credit limit</td>\n",
       "      <td>42542</td>\n",
       "    </tr>\n",
       "    <tr>\n",
       "      <th>110</th>\n",
       "      <td>total_il_high_credit_limit</td>\n",
       "      <td>float64</td>\n",
       "      <td>NaN</td>\n",
       "      <td>Total installment high credit/credit limit</td>\n",
       "      <td>42542</td>\n",
       "    </tr>\n",
       "  </tbody>\n",
       "</table>\n",
       "</div>"
      ],
      "text/plain": [
       "                        LoanStatNew    dtype first value  \\\n",
       "52                 application_type   object  INDIVIDUAL   \n",
       "53                 annual_inc_joint  float64         NaN   \n",
       "54                        dti_joint  float64         NaN   \n",
       "55        verification_status_joint  float64         NaN   \n",
       "56                   acc_now_delinq  float64         0.0   \n",
       "57                     tot_coll_amt  float64         NaN   \n",
       "58                      tot_cur_bal  float64         NaN   \n",
       "59                      open_acc_6m  float64         NaN   \n",
       "60                       open_il_6m  float64         NaN   \n",
       "61                      open_il_12m  float64         NaN   \n",
       "62                      open_il_24m  float64         NaN   \n",
       "63               mths_since_rcnt_il  float64         NaN   \n",
       "64                     total_bal_il  float64         NaN   \n",
       "65                          il_util  float64         NaN   \n",
       "66                      open_rv_12m  float64         NaN   \n",
       "67                      open_rv_24m  float64         NaN   \n",
       "68                       max_bal_bc  float64         NaN   \n",
       "69                         all_util  float64         NaN   \n",
       "70                 total_rev_hi_lim  float64         NaN   \n",
       "71                           inq_fi  float64         NaN   \n",
       "72                      total_cu_tl  float64         NaN   \n",
       "73                     inq_last_12m  float64         NaN   \n",
       "74             acc_open_past_24mths  float64         NaN   \n",
       "75                      avg_cur_bal  float64         NaN   \n",
       "76                   bc_open_to_buy  float64         NaN   \n",
       "77                          bc_util  float64         NaN   \n",
       "78         chargeoff_within_12_mths  float64         0.0   \n",
       "79                      delinq_amnt  float64         0.0   \n",
       "80               mo_sin_old_il_acct  float64         NaN   \n",
       "81             mo_sin_old_rev_tl_op  float64         NaN   \n",
       "82            mo_sin_rcnt_rev_tl_op  float64         NaN   \n",
       "83                   mo_sin_rcnt_tl  float64         NaN   \n",
       "84                         mort_acc  float64         NaN   \n",
       "85             mths_since_recent_bc  float64         NaN   \n",
       "86         mths_since_recent_bc_dlq  float64         NaN   \n",
       "87            mths_since_recent_inq  float64         NaN   \n",
       "88   mths_since_recent_revol_delinq  float64         NaN   \n",
       "89            num_accts_ever_120_pd  float64         NaN   \n",
       "90                   num_actv_bc_tl  float64         NaN   \n",
       "91                  num_actv_rev_tl  float64         NaN   \n",
       "92                      num_bc_sats  float64         NaN   \n",
       "93                        num_bc_tl  float64         NaN   \n",
       "94                        num_il_tl  float64         NaN   \n",
       "95                    num_op_rev_tl  float64         NaN   \n",
       "96                    num_rev_accts  float64         NaN   \n",
       "97              num_rev_tl_bal_gt_0  float64         NaN   \n",
       "98                         num_sats  float64         NaN   \n",
       "99                 num_tl_120dpd_2m  float64         NaN   \n",
       "100                    num_tl_30dpd  float64         NaN   \n",
       "101              num_tl_90g_dpd_24m  float64         NaN   \n",
       "102              num_tl_op_past_12m  float64         NaN   \n",
       "103                  pct_tl_nvr_dlq  float64         NaN   \n",
       "104                percent_bc_gt_75  float64         NaN   \n",
       "105            pub_rec_bankruptcies  float64         0.0   \n",
       "106                       tax_liens  float64         0.0   \n",
       "107                 tot_hi_cred_lim  float64         NaN   \n",
       "108               total_bal_ex_mort  float64         NaN   \n",
       "109                  total_bc_limit  float64         NaN   \n",
       "110      total_il_high_credit_limit  float64         NaN   \n",
       "\n",
       "                                           Description  Nulls  \n",
       "52   Indicates whether the loan is an individual ap...      7  \n",
       "53   The combined self-reported annual income provi...  42542  \n",
       "54   A ratio calculated using the co-borrowers' tot...  42542  \n",
       "55                                                 NaN  42542  \n",
       "56   The number of accounts on which the borrower i...     36  \n",
       "57                  Total collection amounts ever owed  42542  \n",
       "58               Total current balance of all accounts  42542  \n",
       "59              Number of open trades in last 6 months  42542  \n",
       "60       Number of currently active installment trades  42542  \n",
       "61   Number of installment accounts opened in past ...  42542  \n",
       "62   Number of installment accounts opened in past ...  42542  \n",
       "63   Months since most recent installment accounts ...  42542  \n",
       "64   Total current balance of all installment accounts  42542  \n",
       "65   Ratio of total current balance to high credit/...  42542  \n",
       "66   Number of revolving trades opened in past 12 m...  42542  \n",
       "67   Number of revolving trades opened in past 24 m...  42542  \n",
       "68   Maximum current balance owed on all revolving ...  42542  \n",
       "69               Balance to credit limit on all trades  42542  \n",
       "70                                                 NaN  42542  \n",
       "71                Number of personal finance inquiries  42542  \n",
       "72                            Number of finance trades  42542  \n",
       "73        Number of credit inquiries in past 12 months  42542  \n",
       "74          Number of trades opened in past 24 months.  42542  \n",
       "75             Average current balance of all accounts  42542  \n",
       "76           Total open to buy on revolving bankcards.  42542  \n",
       "77   Ratio of total current balance to high credit/...  42542  \n",
       "78              Number of charge-offs within 12 months    152  \n",
       "79   The past-due amount owed for the accounts on w...     36  \n",
       "80   Months since oldest bank installment account o...  42542  \n",
       "81        Months since oldest revolving account opened  42542  \n",
       "82   Months since most recent revolving account opened  42542  \n",
       "83             Months since most recent account opened  42542  \n",
       "84                        Number of mortgage accounts.  42542  \n",
       "85   Months since most recent bankcard account opened.  42542  \n",
       "86       Months since most recent bankcard delinquency  42542  \n",
       "87                   Months since most recent inquiry.  42542  \n",
       "88     Months since most recent revolving delinquency.  42542  \n",
       "89   Number of accounts ever 120 or more days past due  42542  \n",
       "90        Number of currently active bankcard accounts  42542  \n",
       "91         Number of currently active revolving trades  42542  \n",
       "92            Number of satisfactory bankcard accounts  42542  \n",
       "93                         Number of bankcard accounts  42542  \n",
       "94                      Number of installment accounts  42542  \n",
       "95                   Number of open revolving accounts  42542  \n",
       "96                        Number of revolving accounts  42542  \n",
       "97          Number of revolving trades with balance >0  42542  \n",
       "98                     Number of satisfactory accounts  42542  \n",
       "99   Number of accounts currently 120 days past due...  42542  \n",
       "100  Number of accounts currently 30 days past due ...  42542  \n",
       "101  Number of accounts 90 or more days past due in...  42542  \n",
       "102        Number of accounts opened in past 12 months  42542  \n",
       "103                 Percent of trades never delinquent  42542  \n",
       "104  Percentage of all bankcard accounts > 75% of l...  42542  \n",
       "105               Number of public record bankruptcies   1372  \n",
       "106                                Number of tax liens    112  \n",
       "107                     Total high credit/credit limit  42542  \n",
       "108            Total credit balance excluding mortgage  42542  \n",
       "109            Total bankcard high credit/credit limit  42542  \n",
       "110         Total installment high credit/credit limit  42542  "
      ]
     },
     "execution_count": 35,
     "metadata": {},
     "output_type": "execute_result"
    }
   ],
   "source": [
    "data_col[52:]"
   ]
  },
  {
   "cell_type": "code",
   "execution_count": 36,
   "id": "1fc9067e",
   "metadata": {},
   "outputs": [],
   "source": [
    "# Drop any column with more than 50% missing values\n",
    "data = data.dropna(thresh=(len(data)/2),axis=1) "
   ]
  },
  {
   "cell_type": "code",
   "execution_count": 37,
   "id": "c9c27d0b",
   "metadata": {},
   "outputs": [
    {
     "data": {
      "text/plain": [
       "Index(['loan_amnt', 'term', 'int_rate', 'grade', 'emp_length',\n",
       "       'home_ownership', 'annual_inc', 'verification_status', 'issue_d',\n",
       "       'loan_status', 'pymnt_plan', 'purpose', 'addr_state', 'dti',\n",
       "       'delinq_2yrs', 'earliest_cr_line', 'inq_last_6mths', 'open_acc',\n",
       "       'pub_rec', 'revol_bal', 'revol_util', 'total_acc',\n",
       "       'initial_list_status', 'application_type', 'acc_now_delinq',\n",
       "       'chargeoff_within_12_mths', 'delinq_amnt', 'pub_rec_bankruptcies',\n",
       "       'tax_liens'],\n",
       "      dtype='object')"
      ]
     },
     "execution_count": 37,
     "metadata": {},
     "output_type": "execute_result"
    }
   ],
   "source": [
    "#pd.set_option(\"display.max_rows\", None)\n",
    "data.columns"
   ]
  },
  {
   "cell_type": "code",
   "execution_count": 38,
   "id": "f0e6d8fa",
   "metadata": {},
   "outputs": [],
   "source": [
    "#data['tax_liens'].value_counts()\n",
    "data.drop(['earliest_cr_line', 'inq_last_6mths','pub_rec', 'revol_bal', 'acc_now_delinq','revol_util',\n",
    "           'initial_list_status','pub_rec_bankruptcies','chargeoff_within_12_mths','tax_liens'],\n",
    "          axis=1,inplace=True)"
   ]
  },
  {
   "cell_type": "code",
   "execution_count": 39,
   "id": "7252d604",
   "metadata": {},
   "outputs": [
    {
     "data": {
      "text/plain": [
       "(42516, 19)"
      ]
     },
     "execution_count": 39,
     "metadata": {},
     "output_type": "execute_result"
    }
   ],
   "source": [
    "data.shape"
   ]
  },
  {
   "cell_type": "code",
   "execution_count": 40,
   "id": "3a00842b",
   "metadata": {},
   "outputs": [
    {
     "data": {
      "text/plain": [
       "Index(['loan_amnt', 'term', 'int_rate', 'grade', 'emp_length',\n",
       "       'home_ownership', 'annual_inc', 'verification_status', 'issue_d',\n",
       "       'loan_status', 'pymnt_plan', 'purpose', 'addr_state', 'dti',\n",
       "       'delinq_2yrs', 'open_acc', 'total_acc', 'application_type',\n",
       "       'delinq_amnt'],\n",
       "      dtype='object')"
      ]
     },
     "execution_count": 40,
     "metadata": {},
     "output_type": "execute_result"
    }
   ],
   "source": [
    "data.columns"
   ]
  },
  {
   "cell_type": "markdown",
   "id": "01f0f63b",
   "metadata": {},
   "source": [
    "**Cleaning Part 2**"
   ]
  },
  {
   "cell_type": "code",
   "execution_count": 41,
   "id": "6ae3243a",
   "metadata": {},
   "outputs": [
    {
     "data": {
      "text/html": [
       "<div>\n",
       "<style scoped>\n",
       "    .dataframe tbody tr th:only-of-type {\n",
       "        vertical-align: middle;\n",
       "    }\n",
       "\n",
       "    .dataframe tbody tr th {\n",
       "        vertical-align: top;\n",
       "    }\n",
       "\n",
       "    .dataframe thead th {\n",
       "        text-align: right;\n",
       "    }\n",
       "</style>\n",
       "<table border=\"1\" class=\"dataframe\">\n",
       "  <thead>\n",
       "    <tr style=\"text-align: right;\">\n",
       "      <th></th>\n",
       "      <th>% Nulls</th>\n",
       "    </tr>\n",
       "  </thead>\n",
       "  <tbody>\n",
       "    <tr>\n",
       "      <th>emp_length</th>\n",
       "      <td>2.61</td>\n",
       "    </tr>\n",
       "    <tr>\n",
       "      <th>annual_inc</th>\n",
       "      <td>0.01</td>\n",
       "    </tr>\n",
       "    <tr>\n",
       "      <th>delinq_2yrs</th>\n",
       "      <td>0.07</td>\n",
       "    </tr>\n",
       "    <tr>\n",
       "      <th>open_acc</th>\n",
       "      <td>0.07</td>\n",
       "    </tr>\n",
       "    <tr>\n",
       "      <th>total_acc</th>\n",
       "      <td>0.07</td>\n",
       "    </tr>\n",
       "    <tr>\n",
       "      <th>delinq_amnt</th>\n",
       "      <td>0.07</td>\n",
       "    </tr>\n",
       "  </tbody>\n",
       "</table>\n",
       "</div>"
      ],
      "text/plain": [
       "             % Nulls\n",
       "emp_length      2.61\n",
       "annual_inc      0.01\n",
       "delinq_2yrs     0.07\n",
       "open_acc        0.07\n",
       "total_acc       0.07\n",
       "delinq_amnt     0.07"
      ]
     },
     "execution_count": 41,
     "metadata": {},
     "output_type": "execute_result"
    }
   ],
   "source": [
    "nulls_percent=[]\n",
    "for i in data.columns:\n",
    "    tmp=len(data[data[i].isnull()])/len(data)*100\n",
    "    nulls_percent.append(round(tmp,2))\n",
    "null_df=pd.DataFrame(data=nulls_percent,index=data.columns,columns=['% Nulls'])\n",
    "null_df[null_df['% Nulls']!=0]"
   ]
  },
  {
   "cell_type": "code",
   "execution_count": 42,
   "id": "788d7874",
   "metadata": {},
   "outputs": [
    {
     "data": {
      "text/plain": [
       "array(['10+ years', '< 1 year', '3 years', '8 years', '9 years',\n",
       "       '4 years', '5 years', '1 year', '6 years', '2 years', '7 years',\n",
       "       nan], dtype=object)"
      ]
     },
     "execution_count": 42,
     "metadata": {},
     "output_type": "execute_result"
    }
   ],
   "source": [
    "data['emp_length'].unique()"
   ]
  },
  {
   "cell_type": "code",
   "execution_count": 43,
   "id": "c84b80c6",
   "metadata": {},
   "outputs": [],
   "source": [
    "def encode_emp_length(x):\n",
    "    if type(x)==float: #Check for nan ,as only Nans are float while other values are str\n",
    "        return 0 # nan will be replaced with zero\n",
    "    if x=='10+ years':\n",
    "        return 10\n",
    "    if x=='< 1 year':\n",
    "        return 0\n",
    "    else:\n",
    "        return int(x.split(' ')[0])\n",
    "    \n",
    "data['emp_length']=data['emp_length'].apply(encode_emp_length)"
   ]
  },
  {
   "cell_type": "code",
   "execution_count": 44,
   "id": "54a5b559",
   "metadata": {},
   "outputs": [
    {
     "data": {
      "text/plain": [
       "10    9366\n",
       "0     6171\n",
       "2     4741\n",
       "3     4362\n",
       "4     3645\n",
       "1     3592\n",
       "5     3458\n",
       "6     2374\n",
       "7     1875\n",
       "8     1591\n",
       "9     1341\n",
       "Name: emp_length, dtype: int64"
      ]
     },
     "execution_count": 44,
     "metadata": {},
     "output_type": "execute_result"
    }
   ],
   "source": [
    "data['emp_length'].value_counts()"
   ]
  },
  {
   "cell_type": "code",
   "execution_count": 45,
   "id": "414fe503",
   "metadata": {},
   "outputs": [
    {
     "data": {
      "text/plain": [
       "array([' 36 months', ' 60 months'], dtype=object)"
      ]
     },
     "execution_count": 45,
     "metadata": {},
     "output_type": "execute_result"
    }
   ],
   "source": [
    "data['term'].unique() #Term column has two unique data so for better accessiblity later converted it to binary values."
   ]
  },
  {
   "cell_type": "code",
   "execution_count": 46,
   "id": "747ac71c",
   "metadata": {},
   "outputs": [],
   "source": [
    "def encode_term(x):\n",
    "    if x==' 36 months':\n",
    "        return int(36)\n",
    "    if x==' 60 months':\n",
    "        return int(60)\n",
    "\n",
    "data['term']=data['term'].apply(encode_term)"
   ]
  },
  {
   "cell_type": "code",
   "execution_count": 47,
   "id": "6b835775",
   "metadata": {},
   "outputs": [
    {
     "data": {
      "text/plain": [
       "array([36, 60], dtype=int64)"
      ]
     },
     "execution_count": 47,
     "metadata": {},
     "output_type": "execute_result"
    }
   ],
   "source": [
    "data['term'].unique() #Term column has two unique data so for better accessiblity later converted it to binary values."
   ]
  },
  {
   "cell_type": "code",
   "execution_count": 48,
   "id": "e9342262",
   "metadata": {},
   "outputs": [
    {
     "data": {
      "text/plain": [
       "B    12385\n",
       "A    10183\n",
       "C     8736\n",
       "D     6011\n",
       "E     3390\n",
       "F     1299\n",
       "G      512\n",
       "Name: grade, dtype: int64"
      ]
     },
     "execution_count": 48,
     "metadata": {},
     "output_type": "execute_result"
    }
   ],
   "source": [
    "data['grade'].value_counts()"
   ]
  },
  {
   "cell_type": "code",
   "execution_count": 49,
   "id": "7a74a59a",
   "metadata": {},
   "outputs": [],
   "source": [
    "def encode_grade(x):\n",
    "    if x=='A':\n",
    "        return 1\n",
    "    if x=='B':\n",
    "        return 2\n",
    "    if x=='C':\n",
    "        return 3\n",
    "    if x=='D':\n",
    "        return 4\n",
    "    if x=='E':\n",
    "        return 5\n",
    "    if x=='F':\n",
    "        return 6\n",
    "    if x=='G':\n",
    "        return 7\n",
    "    \n",
    "data['grade']=data['grade'].apply(encode_grade)"
   ]
  },
  {
   "cell_type": "code",
   "execution_count": 50,
   "id": "7d318db3",
   "metadata": {},
   "outputs": [
    {
     "data": {
      "text/plain": [
       "array([2, 3, 1, 5, 6, 4, 7], dtype=int64)"
      ]
     },
     "execution_count": 50,
     "metadata": {},
     "output_type": "execute_result"
    }
   ],
   "source": [
    "data['grade'].unique()"
   ]
  },
  {
   "cell_type": "code",
   "execution_count": 51,
   "id": "0bda94c3",
   "metadata": {},
   "outputs": [
    {
     "data": {
      "text/plain": [
       "RENT        20169\n",
       "MORTGAGE    18952\n",
       "OWN          3251\n",
       "OTHER         136\n",
       "NONE            8\n",
       "Name: home_ownership, dtype: int64"
      ]
     },
     "execution_count": 51,
     "metadata": {},
     "output_type": "execute_result"
    }
   ],
   "source": [
    "data['home_ownership'].value_counts()"
   ]
  },
  {
   "cell_type": "code",
   "execution_count": 52,
   "id": "1a27de1c",
   "metadata": {},
   "outputs": [
    {
     "name": "stderr",
     "output_type": "stream",
     "text": [
      "C:\\Users\\Srijon Mallick\\anaconda3\\lib\\site-packages\\seaborn\\_decorators.py:36: FutureWarning: Pass the following variables as keyword args: x, y. From version 0.12, the only valid positional argument will be `data`, and passing other arguments without an explicit keyword will result in an error or misinterpretation.\n",
      "  warnings.warn(\n"
     ]
    },
    {
     "data": {
      "text/plain": [
       "<AxesSubplot:xlabel='home_ownership', ylabel='loan_amnt'>"
      ]
     },
     "execution_count": 52,
     "metadata": {},
     "output_type": "execute_result"
    },
    {
     "data": {
      "image/png": "[encoded data removed]",
      "text/plain": [
       "<Figure size 864x432 with 1 Axes>"
      ]
     },
     "metadata": {
      "needs_background": "light"
     },
     "output_type": "display_data"
    }
   ],
   "source": [
    "import seaborn as sns\n",
    "plt.figure(figsize=(12,6))\n",
    "sns.boxplot(data['home_ownership'],data['loan_amnt'])"
   ]
  },
  {
   "cell_type": "code",
   "execution_count": 53,
   "id": "0a697bb3",
   "metadata": {},
   "outputs": [],
   "source": [
    "#Change OTHER, NONE to RENT as these data points are too low.\n",
    "data['home_ownership']=data['home_ownership'].apply(lambda x: 'RENT' if x in ['OTHER','NONE'] else x)"
   ]
  },
  {
   "cell_type": "code",
   "execution_count": 54,
   "id": "70880aea",
   "metadata": {},
   "outputs": [],
   "source": [
    "# rent =1, mortgage=2, own=3\n",
    "def encode_home(x):\n",
    "    if x=='RENT':\n",
    "        return 1\n",
    "    if x=='MORTGAGE':\n",
    "        return 2\n",
    "    if x=='OWN':\n",
    "        return 3\n",
    "    \n",
    "data['home_ownership']=data['home_ownership'].apply(encode_home)"
   ]
  },
  {
   "cell_type": "code",
   "execution_count": 55,
   "id": "5475ee7d",
   "metadata": {},
   "outputs": [
    {
     "data": {
      "text/plain": [
       "array(['Verified', 'Source Verified', 'Not Verified'], dtype=object)"
      ]
     },
     "execution_count": 55,
     "metadata": {},
     "output_type": "execute_result"
    }
   ],
   "source": [
    "data['verification_status'].unique()"
   ]
  },
  {
   "cell_type": "code",
   "execution_count": 56,
   "id": "23412859",
   "metadata": {},
   "outputs": [],
   "source": [
    "# Not verified=0, verified=1, source verified=2\n",
    "def encode_status(x):\n",
    "    if x=='Not Verified':\n",
    "        return 0\n",
    "    if x=='Verified':\n",
    "        return 1\n",
    "    if x=='Source Verified':\n",
    "        return 2\n",
    "    \n",
    "data['verification_status']=data['verification_status'].apply(encode_status)"
   ]
  },
  {
   "cell_type": "code",
   "execution_count": 57,
   "id": "79d38d2a",
   "metadata": {},
   "outputs": [
    {
     "data": {
      "text/plain": [
       "10.99%    970\n",
       "11.49%    837\n",
       "13.49%    832\n",
       "7.51%     787\n",
       "7.88%     742\n",
       "         ... \n",
       "17.46%      1\n",
       "21.48%      1\n",
       "24.40%      1\n",
       "16.83%      1\n",
       "16.20%      1\n",
       "Name: int_rate, Length: 394, dtype: int64"
      ]
     },
     "execution_count": 57,
     "metadata": {},
     "output_type": "execute_result"
    }
   ],
   "source": [
    "data['int_rate'].value_counts()"
   ]
  },
  {
   "cell_type": "code",
   "execution_count": 58,
   "id": "ca9e2fdb",
   "metadata": {},
   "outputs": [],
   "source": [
    "def encode_int_rate(x):\n",
    "    x=x.rstrip(x[-1])\n",
    "    return float(x)\n",
    "\n",
    "data['int_rate']=data['int_rate'].apply(encode_int_rate)"
   ]
  },
  {
   "cell_type": "code",
   "execution_count": 59,
   "id": "4da76b91",
   "metadata": {},
   "outputs": [],
   "source": [
    "data.drop('pymnt_plan',axis=1,inplace=True)"
   ]
  },
  {
   "cell_type": "code",
   "execution_count": 60,
   "id": "6b705eac",
   "metadata": {},
   "outputs": [
    {
     "data": {
      "text/plain": [
       "(42516, 18)"
      ]
     },
     "execution_count": 60,
     "metadata": {},
     "output_type": "execute_result"
    }
   ],
   "source": [
    "data.shape"
   ]
  },
  {
   "cell_type": "code",
   "execution_count": 61,
   "id": "22879d23",
   "metadata": {},
   "outputs": [
    {
     "data": {
      "text/plain": [
       "debt_consolidation    19766\n",
       "credit_card            5474\n",
       "other                  4423\n",
       "home_improvement       3198\n",
       "major_purchase         2310\n",
       "small_business         1990\n",
       "car                    1615\n",
       "wedding                1004\n",
       "medical                 753\n",
       "moving                  629\n",
       "house                   426\n",
       "educational             422\n",
       "vacation                400\n",
       "renewable_energy        106\n",
       "Name: purpose, dtype: int64"
      ]
     },
     "execution_count": 61,
     "metadata": {},
     "output_type": "execute_result"
    }
   ],
   "source": [
    "#data['purpose'].nunique()\n",
    "data['purpose'].value_counts()"
   ]
  },
  {
   "cell_type": "code",
   "execution_count": 62,
   "id": "60b995bd",
   "metadata": {},
   "outputs": [
    {
     "name": "stderr",
     "output_type": "stream",
     "text": [
      "C:\\Users\\Srijon Mallick\\anaconda3\\lib\\site-packages\\seaborn\\_decorators.py:36: FutureWarning: Pass the following variables as keyword args: x, y. From version 0.12, the only valid positional argument will be `data`, and passing other arguments without an explicit keyword will result in an error or misinterpretation.\n",
      "  warnings.warn(\n"
     ]
    },
    {
     "data": {
      "text/plain": [
       "<AxesSubplot:xlabel='purpose', ylabel='loan_amnt'>"
      ]
     },
     "execution_count": 62,
     "metadata": {},
     "output_type": "execute_result"
    },
    {
     "data": {
      "image/png": "[encoded data removed]",
      "text/plain": [
       "<Figure size 864x432 with 1 Axes>"
      ]
     },
     "metadata": {
      "needs_background": "light"
     },
     "output_type": "display_data"
    }
   ],
   "source": [
    "import seaborn as sns\n",
    "plt.figure(figsize=(12,6))\n",
    "sns.boxplot(data['purpose'],data['loan_amnt'])"
   ]
  },
  {
   "cell_type": "code",
   "execution_count": 63,
   "id": "d9c644d5",
   "metadata": {},
   "outputs": [],
   "source": [
    "def encode_purpose(x):\n",
    "    if x==\"debt_consolidation\":\n",
    "        return int(1)\n",
    "    if x==\"credit_card\":\n",
    "        return int(2)\n",
    "    if x==\"other\":\n",
    "        return int(3)\n",
    "    if x==\"home_improvement\":\n",
    "        return int(4)\n",
    "    if x==\"major_purchase\":\n",
    "        return int(5)\n",
    "    if x==\"small_business\":\n",
    "        return int(6)\n",
    "    if x==\"car\":\n",
    "        return int(7)\n",
    "    if x==\"wedding\":\n",
    "        return int(8)\n",
    "    if x==\"medical\":\n",
    "        return int(9)\n",
    "    if x==\"moving\":\n",
    "        return int(10)\n",
    "    if x==\"house\":\n",
    "        return int(11)\n",
    "    if x==\"educational\":\n",
    "        return int(12)\n",
    "    if x==\"vacation\":\n",
    "        return int(13)\n",
    "    if x==\"renewable_energy\":\n",
    "        return int(14)\n",
    "\n",
    "    \n",
    "data['purpose']=data['purpose'].apply(encode_purpose)"
   ]
  },
  {
   "cell_type": "code",
   "execution_count": 64,
   "id": "a348dd38",
   "metadata": {},
   "outputs": [],
   "source": [
    "#data['application_type'].value_counts()\n",
    "data.drop('application_type',axis=1,inplace=True)\n",
    "data.drop('issue_d',axis=1,inplace=True)\n",
    "data.drop('addr_state',axis=1,inplace=True)"
   ]
  },
  {
   "cell_type": "code",
   "execution_count": 65,
   "id": "8eed1e95",
   "metadata": {},
   "outputs": [],
   "source": [
    "data['loan_status']=data['loan_status'].apply(lambda x: 1 if x=='Default' else 0)"
   ]
  },
  {
   "cell_type": "code",
   "execution_count": 66,
   "id": "8050af11",
   "metadata": {},
   "outputs": [],
   "source": [
    "data.drop('delinq_2yrs',axis=1,inplace=True)\n",
    "data.drop('delinq_amnt',axis=1,inplace=True)"
   ]
  },
  {
   "cell_type": "code",
   "execution_count": 67,
   "id": "ea12d5d2",
   "metadata": {},
   "outputs": [
    {
     "data": {
      "text/plain": [
       "(42516, 13)"
      ]
     },
     "execution_count": 67,
     "metadata": {},
     "output_type": "execute_result"
    }
   ],
   "source": [
    "data.shape"
   ]
  },
  {
   "cell_type": "code",
   "execution_count": 68,
   "id": "a27d42d6",
   "metadata": {},
   "outputs": [
    {
     "data": {
      "text/plain": [
       "0"
      ]
     },
     "execution_count": 68,
     "metadata": {},
     "output_type": "execute_result"
    }
   ],
   "source": [
    "data['open_acc']=data['open_acc'].replace(np.nan, 0)\n",
    "data['open_acc'].isnull().sum()"
   ]
  },
  {
   "cell_type": "code",
   "execution_count": 69,
   "id": "f3961160",
   "metadata": {},
   "outputs": [
    {
     "data": {
      "text/plain": [
       "0"
      ]
     },
     "execution_count": 69,
     "metadata": {},
     "output_type": "execute_result"
    }
   ],
   "source": [
    "data['total_acc']=data['total_acc'].replace(np.nan, 0)\n",
    "data['total_acc'].isnull().sum()"
   ]
  },
  {
   "cell_type": "code",
   "execution_count": 70,
   "id": "f25241b2",
   "metadata": {},
   "outputs": [
    {
     "data": {
      "text/plain": [
       "(42512, 13)"
      ]
     },
     "execution_count": 70,
     "metadata": {},
     "output_type": "execute_result"
    }
   ],
   "source": [
    "#data['annual_inc']=data['annual_inc'].replace(np.nan, 0)  index=42536,42483,42452,42453\n",
    "\n",
    "data.drop([42452,42453,42483,42536],inplace=True)\n",
    "#data.drop(index=42453, columns='annual_inc')\n",
    "#data.drop(index=42483, columns='annual_inc')\n",
    "#data.drop(index=42536, columns='annual_inc')\n",
    "\n",
    "#data['annual_inc'].isnull().sum()\n",
    "data.shape"
   ]
  },
  {
   "cell_type": "code",
   "execution_count": 71,
   "id": "4b3861df",
   "metadata": {},
   "outputs": [
    {
     "data": {
      "text/html": [
       "<div>\n",
       "<style scoped>\n",
       "    .dataframe tbody tr th:only-of-type {\n",
       "        vertical-align: middle;\n",
       "    }\n",
       "\n",
       "    .dataframe tbody tr th {\n",
       "        vertical-align: top;\n",
       "    }\n",
       "\n",
       "    .dataframe thead th {\n",
       "        text-align: right;\n",
       "    }\n",
       "</style>\n",
       "<table border=\"1\" class=\"dataframe\">\n",
       "  <thead>\n",
       "    <tr style=\"text-align: right;\">\n",
       "      <th></th>\n",
       "      <th>loan_amnt</th>\n",
       "      <th>term</th>\n",
       "      <th>int_rate</th>\n",
       "      <th>grade</th>\n",
       "      <th>emp_length</th>\n",
       "      <th>home_ownership</th>\n",
       "      <th>annual_inc</th>\n",
       "      <th>verification_status</th>\n",
       "      <th>loan_status</th>\n",
       "      <th>purpose</th>\n",
       "      <th>dti</th>\n",
       "      <th>open_acc</th>\n",
       "      <th>total_acc</th>\n",
       "    </tr>\n",
       "  </thead>\n",
       "  <tbody>\n",
       "    <tr>\n",
       "      <th>0</th>\n",
       "      <td>5000.0</td>\n",
       "      <td>36</td>\n",
       "      <td>10.65</td>\n",
       "      <td>2</td>\n",
       "      <td>10</td>\n",
       "      <td>1</td>\n",
       "      <td>24000.0</td>\n",
       "      <td>1</td>\n",
       "      <td>0</td>\n",
       "      <td>2</td>\n",
       "      <td>27.65</td>\n",
       "      <td>3.0</td>\n",
       "      <td>9.0</td>\n",
       "    </tr>\n",
       "    <tr>\n",
       "      <th>1</th>\n",
       "      <td>2500.0</td>\n",
       "      <td>60</td>\n",
       "      <td>15.27</td>\n",
       "      <td>3</td>\n",
       "      <td>0</td>\n",
       "      <td>1</td>\n",
       "      <td>30000.0</td>\n",
       "      <td>2</td>\n",
       "      <td>1</td>\n",
       "      <td>7</td>\n",
       "      <td>1.00</td>\n",
       "      <td>3.0</td>\n",
       "      <td>4.0</td>\n",
       "    </tr>\n",
       "    <tr>\n",
       "      <th>2</th>\n",
       "      <td>2400.0</td>\n",
       "      <td>36</td>\n",
       "      <td>15.96</td>\n",
       "      <td>3</td>\n",
       "      <td>10</td>\n",
       "      <td>1</td>\n",
       "      <td>12252.0</td>\n",
       "      <td>0</td>\n",
       "      <td>0</td>\n",
       "      <td>6</td>\n",
       "      <td>8.72</td>\n",
       "      <td>2.0</td>\n",
       "      <td>10.0</td>\n",
       "    </tr>\n",
       "    <tr>\n",
       "      <th>3</th>\n",
       "      <td>10000.0</td>\n",
       "      <td>36</td>\n",
       "      <td>13.49</td>\n",
       "      <td>3</td>\n",
       "      <td>10</td>\n",
       "      <td>1</td>\n",
       "      <td>49200.0</td>\n",
       "      <td>2</td>\n",
       "      <td>0</td>\n",
       "      <td>3</td>\n",
       "      <td>20.00</td>\n",
       "      <td>10.0</td>\n",
       "      <td>37.0</td>\n",
       "    </tr>\n",
       "    <tr>\n",
       "      <th>5</th>\n",
       "      <td>5000.0</td>\n",
       "      <td>36</td>\n",
       "      <td>7.90</td>\n",
       "      <td>1</td>\n",
       "      <td>3</td>\n",
       "      <td>1</td>\n",
       "      <td>36000.0</td>\n",
       "      <td>2</td>\n",
       "      <td>0</td>\n",
       "      <td>8</td>\n",
       "      <td>11.20</td>\n",
       "      <td>9.0</td>\n",
       "      <td>12.0</td>\n",
       "    </tr>\n",
       "  </tbody>\n",
       "</table>\n",
       "</div>"
      ],
      "text/plain": [
       "   loan_amnt  term  int_rate  grade  emp_length  home_ownership  annual_inc  \\\n",
       "0     5000.0    36     10.65      2          10               1     24000.0   \n",
       "1     2500.0    60     15.27      3           0               1     30000.0   \n",
       "2     2400.0    36     15.96      3          10               1     12252.0   \n",
       "3    10000.0    36     13.49      3          10               1     49200.0   \n",
       "5     5000.0    36      7.90      1           3               1     36000.0   \n",
       "\n",
       "   verification_status  loan_status  purpose    dti  open_acc  total_acc  \n",
       "0                    1            0        2  27.65       3.0        9.0  \n",
       "1                    2            1        7   1.00       3.0        4.0  \n",
       "2                    0            0        6   8.72       2.0       10.0  \n",
       "3                    2            0        3  20.00      10.0       37.0  \n",
       "5                    2            0        8  11.20       9.0       12.0  "
      ]
     },
     "execution_count": 71,
     "metadata": {},
     "output_type": "execute_result"
    }
   ],
   "source": [
    "data.head()"
   ]
  },
  {
   "cell_type": "markdown",
   "id": "4e2f9bd5",
   "metadata": {},
   "source": [
    "**Modelling**"
   ]
  },
  {
   "cell_type": "markdown",
   "id": "f323e313",
   "metadata": {},
   "source": [
    "*DECISION TREE*"
   ]
  },
  {
   "cell_type": "code",
   "execution_count": 72,
   "id": "c8e93f5a",
   "metadata": {},
   "outputs": [],
   "source": [
    "from sklearn.tree import DecisionTreeClassifier # Import Decision Tree Classifier\n",
    "from sklearn.model_selection import train_test_split # Import train_test_split function\n",
    "from sklearn import metrics #Import scikit-learn metrics module for accuracy calculation\n",
    "from sklearn.datasets import load_iris"
   ]
  },
  {
   "cell_type": "code",
   "execution_count": 73,
   "id": "2a5562bc",
   "metadata": {},
   "outputs": [
    {
     "data": {
      "text/plain": [
       "0    0\n",
       "1    1\n",
       "2    0\n",
       "3    0\n",
       "Name: loan_status, dtype: int64"
      ]
     },
     "execution_count": 73,
     "metadata": {},
     "output_type": "execute_result"
    }
   ],
   "source": [
    "x=[0,1,2,3,4,5,6,7,9,10,11,12]\n",
    "X=data.iloc[:,x]\n",
    "Y=data.iloc[:,8]\n",
    "Y[0:4]"
   ]
  },
  {
   "cell_type": "code",
   "execution_count": 74,
   "id": "f5bde957",
   "metadata": {},
   "outputs": [
    {
     "name": "stdout",
     "output_type": "stream",
     "text": [
      "Accuracy: 0.7336234270257557\n"
     ]
    }
   ],
   "source": [
    "X_train, X_test, Y_train, Y_test = train_test_split(X, Y, test_size=0.20, random_state=100) # 80% training and 20% test\n",
    "clf = DecisionTreeClassifier()\n",
    "clf.fit(X_train,Y_train)\n",
    "Y_pred = clf.predict(X_test)\n",
    "print(\"Accuracy:\",metrics.accuracy_score(Y_test, Y_pred))"
   ]
  },
  {
   "cell_type": "code",
   "execution_count": 75,
   "id": "b877647f",
   "metadata": {},
   "outputs": [
    {
     "name": "stdout",
     "output_type": "stream",
     "text": [
      "[[5934 1218]\n",
      " [1047  304]]\n"
     ]
    }
   ],
   "source": [
    "from sklearn.metrics import confusion_matrix\n",
    "#confusion_matrix(Y_test, Y_pred)\n",
    "print(confusion_matrix(Y_test, Y_pred))"
   ]
  },
  {
   "cell_type": "code",
   "execution_count": 76,
   "id": "eebb7dce",
   "metadata": {},
   "outputs": [
    {
     "name": "stdout",
     "output_type": "stream",
     "text": [
      "              precision    recall  f1-score   support\n",
      "\n",
      "           0       0.85      0.83      0.84      7152\n",
      "           1       0.20      0.23      0.21      1351\n",
      "\n",
      "    accuracy                           0.73      8503\n",
      "   macro avg       0.52      0.53      0.53      8503\n",
      "weighted avg       0.75      0.73      0.74      8503\n",
      "\n"
     ]
    }
   ],
   "source": [
    "from sklearn.metrics import classification_report\n",
    "print(classification_report(Y_test,Y_pred))"
   ]
  },
  {
   "cell_type": "markdown",
   "id": "3c76f9d9",
   "metadata": {},
   "source": [
    "*RANDOM FOREST*"
   ]
  },
  {
   "cell_type": "code",
   "execution_count": 77,
   "id": "47a3461a",
   "metadata": {},
   "outputs": [],
   "source": [
    "from sklearn.ensemble import RandomForestClassifier\n",
    "x=[0,1,2,3,4,5,6,7,9,10,11,12]\n",
    "#X=data.iloc[:,x]\n",
    "#Y=data.iloc[:,9]\n",
    "#Y[0:4]"
   ]
  },
  {
   "cell_type": "code",
   "execution_count": 78,
   "id": "9ec1fcbc",
   "metadata": {},
   "outputs": [
    {
     "name": "stdout",
     "output_type": "stream",
     "text": [
      "Accuracy 0.8458191226625896\n"
     ]
    }
   ],
   "source": [
    "X=np.array(data.iloc[:,x])\n",
    "y = np.array(data['loan_status'])\n",
    "X_train, X_test, y_train, y_test = train_test_split(X, y, test_size = 0.20, random_state = 42)\n",
    "clf = RandomForestClassifier(n_estimators=100, random_state=42)\n",
    "clf.fit(X_train, y_train)\n",
    "accuracy = clf.score(X_test, y_test)\n",
    "print('Accuracy', accuracy)"
   ]
  },
  {
   "cell_type": "code",
   "execution_count": 79,
   "id": "8b3f66fc",
   "metadata": {},
   "outputs": [
    {
     "name": "stdout",
     "output_type": "stream",
     "text": [
      "[[7177   34]\n",
      " [1277   15]]\n"
     ]
    }
   ],
   "source": [
    "y_pred = clf.predict(X_test)\n",
    "print(confusion_matrix(y_test, y_pred))"
   ]
  },
  {
   "cell_type": "code",
   "execution_count": 80,
   "id": "4ea6fc15",
   "metadata": {},
   "outputs": [
    {
     "name": "stdout",
     "output_type": "stream",
     "text": [
      "              precision    recall  f1-score   support\n",
      "\n",
      "           0       0.85      1.00      0.92      7211\n",
      "           1       0.31      0.01      0.02      1292\n",
      "\n",
      "    accuracy                           0.85      8503\n",
      "   macro avg       0.58      0.50      0.47      8503\n",
      "weighted avg       0.77      0.85      0.78      8503\n",
      "\n"
     ]
    }
   ],
   "source": [
    "from sklearn.metrics import classification_report\n",
    "print(classification_report(y_test,y_pred))"
   ]
  },
  {
   "cell_type": "code",
   "execution_count": null,
   "id": "a9e64754",
   "metadata": {},
   "outputs": [],
   "source": []
  }
 ],
 "metadata": {
  "kernelspec": {
   "display_name": "Python 3 (ipykernel)",
   "language": "python",
   "name": "python3"
  },
  "language_info": {
   "codemirror_mode": {
    "name": "ipython",
    "version": 3
   },
   "file_extension": ".py",
   "mimetype": "text/x-python",
   "name": "python",
   "nbconvert_exporter": "python",
   "pygments_lexer": "ipython3",
   "version": "3.9.7"
  }
 },
 "nbformat": 4,
 "nbformat_minor": 5
}
